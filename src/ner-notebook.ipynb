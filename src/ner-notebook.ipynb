{
 "cells": [
  {
   "cell_type": "markdown",
   "id": "zVYweh8LlURd",
   "metadata": {
    "id": "zVYweh8LlURd"
   },
   "source": [
    "## Named Entity Recognition\n",
    "\n",
    "Named Entity Recognition (NER) is used to identify and extract ingredients and their quantities from recipe texts. This technique is essential for automating ingredient extraction, which can be applied to tasks like cuisine classification, recipe recommendations, and ingredient-based analysis."
   ]
  },
  {
   "cell_type": "code",
   "execution_count": 56,
   "id": "2b636db5-c456-4012-aa49-7cc4c49fc5a1",
   "metadata": {
    "executionInfo": {
     "elapsed": 16,
     "status": "ok",
     "timestamp": 1742171105895,
     "user": {
      "displayName": "Jimmy",
      "userId": "05890202490702060509"
     },
     "user_tz": 240
    },
    "id": "2b636db5-c456-4012-aa49-7cc4c49fc5a1"
   },
   "outputs": [],
   "source": [
    "import pandas as pd\n",
    "import sys\n",
    "import numpy as np\n",
    "import spacy\n",
    "from spacy.language import Language\n",
    "from spacy.tokens import Span\n",
    "from spacy.matcher import Matcher\n",
    "from spacy.matcher import PhraseMatcher\n",
    "import random\n",
    "from spacy.training import Example\n",
    "from spacy.util import minibatch, compounding\n",
    "from spacy.tokens import DocBin\n",
    "import os\n",
    "import matplotlib.pyplot as plt\n",
    "from spacy.scorer import Scorer\n",
    "from ner_recipe import *\n"
   ]
  },
  {
   "cell_type": "markdown",
   "id": "QU02Z5EMn6Mr",
   "metadata": {
    "id": "QU02Z5EMn6Mr"
   },
   "source": [
    "## Load Data\n",
    "Loading and preprocessing of the recipe data is the first step.\n",
    "The dataset contains raw recipe text along with actual NER labels, which identify the ingredients and the feature that is combined, normalized text obtained after preprocessing"
   ]
  },
  {
   "cell_type": "code",
   "execution_count": 2,
   "id": "5f367902-55b3-4630-8341-2f26e62b7f6e",
   "metadata": {
    "id": "5f367902-55b3-4630-8341-2f26e62b7f6e"
   },
   "outputs": [],
   "source": [
    "train_df = pd.read_csv('preprocessed_train_data_100k_version3.csv')"
   ]
  },
  {
   "cell_type": "code",
   "execution_count": 17,
   "id": "b6df7a22-d1d7-4260-9dcc-6e7a65b55945",
   "metadata": {
    "colab": {
     "base_uri": "https://localhost:8080/",
     "height": 293
    },
    "executionInfo": {
     "elapsed": 28,
     "status": "ok",
     "timestamp": 1741978836270,
     "user": {
      "displayName": "Jimmy",
      "userId": "05890202490702060509"
     },
     "user_tz": 240
    },
    "id": "b6df7a22-d1d7-4260-9dcc-6e7a65b55945",
    "outputId": "1445892f-8e2c-41e8-ab47-f8cca0b970ff"
   },
   "outputs": [
    {
     "name": "stdout",
     "output_type": "stream",
     "text": [
      "Length of train data is 103271\n"
     ]
    },
    {
     "data": {
      "text/html": [
       "<div>\n",
       "<style scoped>\n",
       "    .dataframe tbody tr th:only-of-type {\n",
       "        vertical-align: middle;\n",
       "    }\n",
       "\n",
       "    .dataframe tbody tr th {\n",
       "        vertical-align: top;\n",
       "    }\n",
       "\n",
       "    .dataframe thead th {\n",
       "        text-align: right;\n",
       "    }\n",
       "</style>\n",
       "<table border=\"1\" class=\"dataframe\">\n",
       "  <thead>\n",
       "    <tr style=\"text-align: right;\">\n",
       "      <th></th>\n",
       "      <th>normalized_combined</th>\n",
       "      <th>filtered_NER</th>\n",
       "    </tr>\n",
       "  </thead>\n",
       "  <tbody>\n",
       "    <tr>\n",
       "      <th>0</th>\n",
       "      <td>coconut crunch pie 4 egg whites 1 cup nuts 1 c...</td>\n",
       "      <td>['sugar', 'vanilla', 'graham cracker crumbs', ...</td>\n",
       "    </tr>\n",
       "    <tr>\n",
       "      <th>1</th>\n",
       "      <td>heirloom tomato gazpacho with lobster 8 large ...</td>\n",
       "      <td>['creme fraiche', 'lobsters', 'lemon juice', '...</td>\n",
       "    </tr>\n",
       "    <tr>\n",
       "      <th>2</th>\n",
       "      <td>waldorf salad serves 4 3 red apples 2 tablespo...</td>\n",
       "      <td>['lemon juice', 'celery', 'red apples', 'mayon...</td>\n",
       "    </tr>\n",
       "    <tr>\n",
       "      <th>3</th>\n",
       "      <td>pineapple cake 1 yellow cake mix 1 large can c...</td>\n",
       "      <td>['pineapple', 'yellow cake']</td>\n",
       "    </tr>\n",
       "    <tr>\n",
       "      <th>4</th>\n",
       "      <td>pecan pie 1 cup sugar 1 stick butter 2 eggs 1 ...</td>\n",
       "      <td>['vinegar', 'sugar', 'vanilla', 'eggs', 'pecan...</td>\n",
       "    </tr>\n",
       "  </tbody>\n",
       "</table>\n",
       "</div>"
      ],
      "text/plain": [
       "                                 normalized_combined  \\\n",
       "0  coconut crunch pie 4 egg whites 1 cup nuts 1 c...   \n",
       "1  heirloom tomato gazpacho with lobster 8 large ...   \n",
       "2  waldorf salad serves 4 3 red apples 2 tablespo...   \n",
       "3  pineapple cake 1 yellow cake mix 1 large can c...   \n",
       "4  pecan pie 1 cup sugar 1 stick butter 2 eggs 1 ...   \n",
       "\n",
       "                                        filtered_NER  \n",
       "0  ['sugar', 'vanilla', 'graham cracker crumbs', ...  \n",
       "1  ['creme fraiche', 'lobsters', 'lemon juice', '...  \n",
       "2  ['lemon juice', 'celery', 'red apples', 'mayon...  \n",
       "3                       ['pineapple', 'yellow cake']  \n",
       "4  ['vinegar', 'sugar', 'vanilla', 'eggs', 'pecan...  "
      ]
     },
     "execution_count": 17,
     "metadata": {},
     "output_type": "execute_result"
    }
   ],
   "source": [
    "print(f'Length of train data is {len(train_df)}')\n",
    "train_df.head()"
   ]
  },
  {
   "cell_type": "code",
   "execution_count": 18,
   "id": "917c2d24-1e5b-48b7-bf53-bb79e53e6c28",
   "metadata": {
    "colab": {
     "base_uri": "https://localhost:8080/",
     "height": 160
    },
    "executionInfo": {
     "elapsed": 6,
     "status": "ok",
     "timestamp": 1741978843517,
     "user": {
      "displayName": "Jimmy",
      "userId": "05890202490702060509"
     },
     "user_tz": 240
    },
    "id": "917c2d24-1e5b-48b7-bf53-bb79e53e6c28",
    "outputId": "8f8ee8e2-b12b-40bc-bd0a-8ed01f2be38d"
   },
   "outputs": [
    {
     "data": {
      "text/plain": [
       "'coconut crunch pie 4 egg whites 1 cup nuts 1 cup sugar 1 cup coconut 1 cup graham cracker crumbs 1 teaspoon vanilla beat egg whites until frothy add sugar beat for 1 minute add other ingredients pour into buttered pie pan bake at 350 for 30 minutes top with sliced bananas and cool whip'"
      ]
     },
     "execution_count": 18,
     "metadata": {},
     "output_type": "execute_result"
    }
   ],
   "source": [
    "texts = train_df['normalized_combined'].tolist()\n",
    "texts[0]"
   ]
  },
  {
   "cell_type": "code",
   "execution_count": 19,
   "id": "91ec73c4-1fe6-41d1-90c2-769ba2045754",
   "metadata": {
    "colab": {
     "base_uri": "https://localhost:8080/"
    },
    "executionInfo": {
     "elapsed": 34643,
     "status": "ok",
     "timestamp": 1741978880306,
     "user": {
      "displayName": "Jimmy",
      "userId": "05890202490702060509"
     },
     "user_tz": 240
    },
    "id": "91ec73c4-1fe6-41d1-90c2-769ba2045754",
    "outputId": "81b1734a-dc03-4bd3-cfbd-5071a39ed193"
   },
   "outputs": [
    {
     "data": {
      "text/plain": [
       "['green chilies',\n",
       " 'kidney beans',\n",
       " 'head lettuce',\n",
       " 'tomatoes',\n",
       " 'taco chips',\n",
       " 'cheddar cheese',\n",
       " 'onion',\n",
       " 'ripe olives',\n",
       " 'ground venison']"
      ]
     },
     "execution_count": 19,
     "metadata": {},
     "output_type": "execute_result"
    }
   ],
   "source": [
    "ner_tags = train_df['filtered_NER'].apply(eval).tolist()\n",
    "ner_tags[10]"
   ]
  },
  {
   "cell_type": "markdown",
   "id": "ZU73YLF5oUBK",
   "metadata": {
    "id": "ZU73YLF5oUBK"
   },
   "source": [
    "## Creating Patterns for Ingredient Extraction:\n",
    "\n",
    "Based on the provided NER labels, patterns are created using SpaCy's Matcher. These patterns help to identify entities related to ingredients and quantities in the recipe texts.  \n",
    "Ingredients are mapped to specific spans (start and end positions) in the text for accurate entity recognition."
   ]
  },
  {
   "cell_type": "code",
   "execution_count": 20,
   "id": "17edeb4a-0f33-444b-9f98-e60eb4e4e8b6",
   "metadata": {
    "id": "17edeb4a-0f33-444b-9f98-e60eb4e4e8b6"
   },
   "outputs": [],
   "source": [
    "nlp = spacy.blank(\"en\")\n",
    "\n",
    "# Create a dictionary of terms\n",
    "terms = {}\n",
    "patterns = []\n",
    "\n",
    "for tags in ner_tags:\n",
    "    for tag in tags:\n",
    "        if tag not in terms:\n",
    "            terms[tag] = {'label': 'INGREDIENT'}\n",
    "            patterns.append(nlp(tag))\n",
    "\n",
    "# Initialize the PhraseMatcher\n",
    "ingredient_matcher = PhraseMatcher(nlp.vocab)\n",
    "ingredient_matcher.add(\"INGREDIENT\", None, *patterns)"
   ]
  },
  {
   "cell_type": "code",
   "execution_count": 21,
   "id": "H6-7yZEt8Kjk",
   "metadata": {
    "colab": {
     "base_uri": "https://localhost:8080/"
    },
    "executionInfo": {
     "elapsed": 11,
     "status": "ok",
     "timestamp": 1741978899137,
     "user": {
      "displayName": "Jimmy",
      "userId": "05890202490702060509"
     },
     "user_tz": 240
    },
    "id": "H6-7yZEt8Kjk",
    "outputId": "23c5a59e-8196-40ed-c6a8-6dafce8e20fc"
   },
   "outputs": [
    {
     "data": {
      "text/plain": [
       "[sugar,\n",
       " vanilla,\n",
       " graham cracker crumbs,\n",
       " egg whites,\n",
       " nuts,\n",
       " coconut,\n",
       " creme fraiche,\n",
       " lobsters,\n",
       " lemon juice,\n",
       " leeks,\n",
       " sherry vinegar,\n",
       " freshly ground black pepper,\n",
       " red jalapeno chile,\n",
       " red bell pepper,\n",
       " lime juice,\n",
       " white wine,\n",
       " kosher salt,\n",
       " yellow heirloom tomatoes,\n",
       " orange bell pepper,\n",
       " fresh cilantro]"
      ]
     },
     "execution_count": 21,
     "metadata": {},
     "output_type": "execute_result"
    }
   ],
   "source": [
    "patterns[:20]"
   ]
  },
  {
   "cell_type": "code",
   "execution_count": 22,
   "id": "33500f23-44f4-4420-ac01-71385d2df3bb",
   "metadata": {},
   "outputs": [
    {
     "data": {
      "text/plain": [
       "25680"
      ]
     },
     "execution_count": 22,
     "metadata": {},
     "output_type": "execute_result"
    }
   ],
   "source": [
    "len(patterns)"
   ]
  },
  {
   "cell_type": "code",
   "execution_count": 26,
   "id": "33b1d2e2-4b6c-422f-a1f7-99968341ecac",
   "metadata": {
    "colab": {
     "base_uri": "https://localhost:8080/"
    },
    "executionInfo": {
     "elapsed": 22,
     "status": "ok",
     "timestamp": 1742171873753,
     "user": {
      "displayName": "Jimmy",
      "userId": "05890202490702060509"
     },
     "user_tz": 240
    },
    "id": "33b1d2e2-4b6c-422f-a1f7-99968341ecac",
    "outputId": "1ac8eb00-00e9-402a-f6bb-27cb2c9274a6"
   },
   "outputs": [
    {
     "data": {
      "text/plain": [
       "{'summary': {}, 'problems': {}, 'attrs': {}}"
      ]
     },
     "execution_count": 26,
     "metadata": {},
     "output_type": "execute_result"
    }
   ],
   "source": [
    "#Checking that ner pipes don't have any components added at this stage\n",
    "nlp.analyze_pipes()"
   ]
  },
  {
   "cell_type": "code",
   "execution_count": 27,
   "id": "0Z8j_HYprbKK",
   "metadata": {
    "colab": {
     "base_uri": "https://localhost:8080/",
     "height": 104
    },
    "executionInfo": {
     "elapsed": 14,
     "status": "ok",
     "timestamp": 1742171875030,
     "user": {
      "displayName": "Jimmy",
      "userId": "05890202490702060509"
     },
     "user_tz": 240
    },
    "id": "0Z8j_HYprbKK",
    "outputId": "7d979fc8-3541-4458-f2dc-63c9353dd667"
   },
   "outputs": [
    {
     "data": {
      "text/plain": [
       "<function __main__.quantity_extractor(doc)>"
      ]
     },
     "execution_count": 27,
     "metadata": {},
     "output_type": "execute_result"
    }
   ],
   "source": [
    "# Quantity extractor component\n",
    "@Language.component(\"quantity_extractor\")\n",
    "def quantity_extractor(doc):\n",
    "    # Extract quantities\n",
    "    matcher = Matcher(nlp.vocab)\n",
    "    pattern = [\n",
    "        {\"LIKE_NUM\": True},  # Match numbers\n",
    "        {\"LIKE_NUM\": True, \"OP\": \"?\"},  # Match the second optional number (e.g., 8)\n",
    "        {\"LOWER\": {\"IN\": [\"cup\", \"tablespoon\", \"teaspoon\", \"ounce\", \"pound\", \"gram\", \"kilogram\", \"package\", \"quart\", \"liter\", \"milliliter\"]}}\n",
    "    ]\n",
    "    matcher.add(\"QUANTITY\", [pattern])\n",
    "    matches = matcher(doc)\n",
    "    quantity_spans = [Span(doc, start, end, label=\"QUANTITY\") for match_id, start, end in matches]\n",
    "\n",
    "    filtered_spans = spacy.util.filter_spans(quantity_spans)\n",
    "   # Filter out existing QUANTITY entities\n",
    "    new_ents = [ent for ent in doc.ents if ent.label_ != \"QUANTITY\"]\n",
    "\n",
    "    # Add the unique quantity spans to the new_ents list\n",
    "    doc.ents = new_ents + filtered_spans  # Add unique quantity spans\n",
    "\n",
    "    return doc\n",
    "nlp.add_pipe(\"quantity_extractor\", last=True)  # Quantity extractor runs first\n"
   ]
  },
  {
   "cell_type": "code",
   "execution_count": 28,
   "id": "o0SbCOxi6pkk",
   "metadata": {
    "colab": {
     "base_uri": "https://localhost:8080/",
     "height": 104
    },
    "executionInfo": {
     "elapsed": 19,
     "status": "ok",
     "timestamp": 1742171877657,
     "user": {
      "displayName": "Jimmy",
      "userId": "05890202490702060509"
     },
     "user_tz": 240
    },
    "id": "o0SbCOxi6pkk",
    "outputId": "04cd0ce6-8b52-4516-88a9-bcd20d220924"
   },
   "outputs": [
    {
     "data": {
      "text/plain": [
       "<function __main__.ingredient_extractor(doc)>"
      ]
     },
     "execution_count": 28,
     "metadata": {},
     "output_type": "execute_result"
    }
   ],
   "source": [
    "# Ingredient extractor component\n",
    "@Language.component(\"ingredient_extractor\")\n",
    "def ingredient_extractor(doc):\n",
    "    # Extract ingredients after quantity extraction\n",
    "    matches = ingredient_matcher(doc)\n",
    "    spans = [Span(doc, start, end, label='INGREDIENT') for match_id, start, end in matches]\n",
    "\n",
    "    unique_spans = []\n",
    "\n",
    "    # Check if the ingredient overlaps with any quantity span before adding\n",
    "    quantity_spans = [ent for ent in doc.ents if ent.label_ == \"QUANTITY\"]\n",
    "\n",
    "    for span in spans:\n",
    "\n",
    "        overlap_found = False\n",
    "\n",
    "        # Check if the ingredient span overlaps with any quantity span\n",
    "        for quantity in quantity_spans:\n",
    "            if span.start < quantity.end and span.end > quantity.start:  # If overlap occurs\n",
    "                overlap_found = True\n",
    "                break  # Skip adding this ingredient if it overlaps with a quantity\n",
    "\n",
    "        # Add ingredient span if there's no overlap with any quantity span\n",
    "        if not overlap_found:\n",
    "                unique_spans.append(span)\n",
    "\n",
    "\n",
    "    # Resolve overlaps and filter out duplicate ingredient spans\n",
    "    filtered_spans = spacy.util.filter_spans(unique_spans)\n",
    "    new_ents = [ent for ent in doc.ents if ent.label_ != \"INGREDIENT\"]\n",
    "    doc.ents = new_ents + filtered_spans  # Add unique ingredient spans, excluding overlapping ones\n",
    "\n",
    "    return doc\n",
    "\n",
    "nlp.add_pipe(\"ingredient_extractor\", last=True)  # Ingredient extractor runs second\n",
    "\n"
   ]
  },
  {
   "cell_type": "code",
   "execution_count": 29,
   "id": "016ecba2-1ba9-484b-b820-a6f04d0b68cf",
   "metadata": {
    "colab": {
     "base_uri": "https://localhost:8080/"
    },
    "executionInfo": {
     "elapsed": 13,
     "status": "ok",
     "timestamp": 1742171881033,
     "user": {
      "displayName": "Jimmy",
      "userId": "05890202490702060509"
     },
     "user_tz": 240
    },
    "id": "016ecba2-1ba9-484b-b820-a6f04d0b68cf",
    "outputId": "bc8a714e-a492-4580-cb90-4a141e78dc55"
   },
   "outputs": [
    {
     "data": {
      "text/plain": [
       "{'summary': {'quantity_extractor': {'assigns': [],\n",
       "   'requires': [],\n",
       "   'scores': [],\n",
       "   'retokenizes': False},\n",
       "  'ingredient_extractor': {'assigns': [],\n",
       "   'requires': [],\n",
       "   'scores': [],\n",
       "   'retokenizes': False}},\n",
       " 'problems': {'quantity_extractor': [], 'ingredient_extractor': []},\n",
       " 'attrs': {}}"
      ]
     },
     "execution_count": 29,
     "metadata": {},
     "output_type": "execute_result"
    }
   ],
   "source": [
    "#Analyzing if Quantity and Ingredient Extractor components are added to pipe\n",
    "nlp.analyze_pipes()"
   ]
  },
  {
   "cell_type": "markdown",
   "id": "YfJjNAjioerD",
   "metadata": {
    "id": "YfJjNAjioerD"
   },
   "source": [
    "## Annotating Data for Training:\n",
    "\n",
    "The raw text is annotated with start and end positions of ingredients and their corresponding labels.\n",
    "Annotations are used to create training data in the SpaCy format and saved as a .spacy file (training_data.spacy), which is later used for model training."
   ]
  },
  {
   "cell_type": "code",
   "execution_count": 27,
   "id": "8ea475e8-f7e7-44f9-938f-ea449e308fa8",
   "metadata": {
    "id": "8ea475e8-f7e7-44f9-938f-ea449e308fa8"
   },
   "outputs": [],
   "source": [
    "from spacy.tokens import DocBin\n",
    "\n",
    "train_data = [(text, {\"entities\": []}) for text in texts]\n",
    "\n",
    "for i, (text, annotations) in enumerate(train_data):\n",
    "    doc = nlp(text)\n",
    "    entities = [(ent.start_char, ent.end_char, ent.label_) for ent in doc.ents]\n",
    "    train_data[i] = (text, {\"entities\": entities})\n"
   ]
  },
  {
   "cell_type": "code",
   "execution_count": 37,
   "id": "zsBv5Tvsu8Cc",
   "metadata": {
    "id": "zsBv5Tvsu8Cc",
    "outputId": "3c6bfaed-7c26-4c4a-89bc-1fbcbfcb0aed"
   },
   "outputs": [
    {
     "data": {
      "text/plain": [
       "('coconut crunch pie 4 egg whites 1 cup nuts 1 cup sugar 1 cup coconut 1 cup graham cracker crumbs 1 teaspoon vanilla beat egg whites until frothy add sugar beat for 1 minute add other ingredients pour into buttered pie pan bake at 350 for 30 minutes top with sliced bananas and cool whip',\n",
       " {'entities': [(0, 7, 'INGREDIENT'),\n",
       "   (15, 18, 'INGREDIENT'),\n",
       "   (21, 31, 'INGREDIENT'),\n",
       "   (32, 37, 'QUANTITY'),\n",
       "   (38, 42, 'INGREDIENT'),\n",
       "   (43, 48, 'QUANTITY'),\n",
       "   (49, 54, 'INGREDIENT'),\n",
       "   (55, 60, 'QUANTITY'),\n",
       "   (61, 68, 'INGREDIENT'),\n",
       "   (69, 74, 'QUANTITY'),\n",
       "   (75, 96, 'INGREDIENT'),\n",
       "   (97, 107, 'QUANTITY'),\n",
       "   (108, 115, 'INGREDIENT'),\n",
       "   (121, 131, 'INGREDIENT'),\n",
       "   (149, 154, 'INGREDIENT'),\n",
       "   (214, 217, 'INGREDIENT'),\n",
       "   (265, 272, 'INGREDIENT'),\n",
       "   (277, 286, 'INGREDIENT')]})"
      ]
     },
     "execution_count": 37,
     "metadata": {},
     "output_type": "execute_result"
    }
   ],
   "source": [
    "train_data[0]"
   ]
  },
  {
   "cell_type": "code",
   "execution_count": 30,
   "id": "bf6d5de9-268e-4739-906f-087b6dbd3ca0",
   "metadata": {
    "id": "bf6d5de9-268e-4739-906f-087b6dbd3ca0"
   },
   "outputs": [],
   "source": [
    "#Save the training data\n",
    "save_training_data(train_data, 'training_data.spacy')"
   ]
  },
  {
   "cell_type": "markdown",
   "id": "ymnY795MolOj",
   "metadata": {
    "id": "ymnY795MolOj"
   },
   "source": [
    "## Training the SpaCy Model:\n",
    "\n",
    "A blank SpaCy model is trained using the annotated data.\n",
    "Training is done with mini-batch compounding, with parameters such as a batch size of 32, a learning rate of 4.0, and a dropout rate of 1.5.\n",
    "To avoid overfitting, an early stopping mechanism is applied. Training stops if the loss does not improve for 10 consecutive iterations (with a threshold of 5000).\n"
   ]
  },
  {
   "cell_type": "code",
   "execution_count": null,
   "id": "50aa5adb-b3fd-4e1a-914c-5bd0df0af437",
   "metadata": {},
   "outputs": [
    {
     "name": "stdout",
     "output_type": "stream",
     "text": [
      "Training with parameter set 1: {'max_iterations': 40, 'initial_lr': 0.001, 'dropout_rate': 0.5, 'min_loss_improvement': 7000, 'patience': 6, 'decay_interval': 5}\n"
     ]
    },
    {
     "name": "stderr",
     "output_type": "stream",
     "text": [
      "/courses/IE7500.202530/shared/conda_env_1/lib/python3.12/site-packages/tqdm/auto.py:21: TqdmWarning: IProgress not found. Please update jupyter and ipywidgets. See https://ipywidgets.readthedocs.io/en/stable/user_install.html\n",
      "  from .autonotebook import tqdm as notebook_tqdm\n"
     ]
    },
    {
     "name": "stdout",
     "output_type": "stream",
     "text": [
      "Iteration 0, Losses: {'ner': 645946.4055677251}\n",
      "Updated learning rate to: 0.001\n",
      "Iteration 1, Losses: {'ner': 365621.14076507743}\n",
      "Improvement in this iteration: 280325.26480264764\n",
      "Iteration 2, Losses: {'ner': 321061.8127209459}\n",
      "Improvement in this iteration: 44559.328044131515\n",
      "Iteration 3, Losses: {'ner': 295304.4009300095}\n",
      "Improvement in this iteration: 25757.41179093643\n",
      "Iteration 4, Losses: {'ner': 279023.8680777341}\n",
      "Improvement in this iteration: 16280.532852275413\n",
      "Iteration 5, Losses: {'ner': 266658.05974608567}\n",
      "Updated learning rate to: 0.0005\n",
      "Improvement in this iteration: 12365.808331648412\n",
      "Iteration 6, Losses: {'ner': 248052.99423417123}\n",
      "Improvement in this iteration: 18605.065511914436\n",
      "Iteration 7, Losses: {'ner': 240563.10001121397}\n",
      "Improvement in this iteration: 7489.894222957257\n",
      "Iteration 8, Losses: {'ner': 235308.79028505273}\n",
      "Improvement in this iteration: 5254.309726161242\n",
      "Iteration 9, Losses: {'ner': 231831.3897482939}\n",
      "Improvement in this iteration: 3477.400536758825\n",
      "Iteration 10, Losses: {'ner': 227556.86776095466}\n",
      "Updated learning rate to: 0.00025\n",
      "Improvement in this iteration: 4274.521987339249\n",
      "Iteration 11, Losses: {'ner': 220179.7727155862}\n",
      "Improvement in this iteration: 7377.095045368449\n",
      "Iteration 12, Losses: {'ner': 216945.79148781783}\n",
      "Improvement in this iteration: 3233.9812277683814\n",
      "Iteration 13, Losses: {'ner': 215007.29485517013}\n",
      "Improvement in this iteration: 1938.4966326477006\n",
      "Iteration 14, Losses: {'ner': 213179.71977448353}\n",
      "Improvement in this iteration: 1827.575080686598\n",
      "Iteration 15, Losses: {'ner': 211331.32553298224}\n",
      "Updated learning rate to: 0.000125\n",
      "Improvement in this iteration: 1848.3942415012862\n",
      "Iteration 16, Losses: {'ner': 206898.7639111117}\n",
      "Improvement in this iteration: 4432.5616218705545\n",
      "Iteration 17, Losses: {'ner': 206003.62098986423}\n",
      "Improvement in this iteration: 895.1429212474613\n",
      "Stopping early due to small improvement over 6 iterations.\n",
      "Training with parameter set 2: {'max_iterations': 35, 'initial_lr': 0.005, 'dropout_rate': 0.5, 'min_loss_improvement': 7500, 'patience': 6, 'decay_interval': 5}\n",
      "Iteration 0, Losses: {'ner': 508408.4347711056}\n",
      "Updated learning rate to: 0.005\n",
      "Iteration 1, Losses: {'ner': 339340.5735572985}\n",
      "Improvement in this iteration: 169067.86121380707\n",
      "Iteration 2, Losses: {'ner': 307672.6376300939}\n",
      "Improvement in this iteration: 31667.935927204613\n",
      "Iteration 3, Losses: {'ner': 291114.21243394964}\n",
      "Improvement in this iteration: 16558.425196144264\n",
      "Iteration 4, Losses: {'ner': 280138.369247762}\n",
      "Improvement in this iteration: 10975.843186187616\n",
      "Iteration 5, Losses: {'ner': 273462.69154058374}\n",
      "Updated learning rate to: 0.0025\n",
      "Improvement in this iteration: 6675.677707178285\n",
      "Iteration 6, Losses: {'ner': 246067.94276110263}\n",
      "Improvement in this iteration: 27394.748779481102\n",
      "Iteration 7, Losses: {'ner': 237080.61704827906}\n",
      "Improvement in this iteration: 8987.325712823571\n",
      "Iteration 8, Losses: {'ner': 232934.11754057562}\n",
      "Improvement in this iteration: 4146.49950770344\n",
      "Iteration 9, Losses: {'ner': 229275.42839132715}\n",
      "Improvement in this iteration: 3658.689149248472\n",
      "Iteration 10, Losses: {'ner': 227877.85948453745}\n",
      "Updated learning rate to: 0.00125\n",
      "Improvement in this iteration: 1397.5689067897038\n",
      "Iteration 11, Losses: {'ner': 213969.60251538936}\n",
      "Improvement in this iteration: 13908.25696914809\n",
      "Iteration 12, Losses: {'ner': 209663.63275651695}\n",
      "Improvement in this iteration: 4305.969758872408\n",
      "Iteration 13, Losses: {'ner': 207350.12645187275}\n",
      "Improvement in this iteration: 2313.5063046441937\n",
      "Iteration 14, Losses: {'ner': 205171.5427162095}\n",
      "Improvement in this iteration: 2178.583735663269\n",
      "Iteration 15, Losses: {'ner': 203365.40630203136}\n",
      "Updated learning rate to: 0.000625\n",
      "Improvement in this iteration: 1806.1364141781232\n",
      "Iteration 16, Losses: {'ner': 197036.82875689707}\n",
      "Improvement in this iteration: 6328.577545134292\n",
      "Iteration 17, Losses: {'ner': 193870.1418737219}\n",
      "Improvement in this iteration: 3166.6868831751635\n",
      "Stopping early due to small improvement over 6 iterations.\n",
      "Training with parameter set 3: {'max_iterations': 30, 'initial_lr': 0.01, 'dropout_rate': 0.5, 'min_loss_improvement': 5000, 'patience': 6, 'decay_interval': 5}\n",
      "Iteration 0, Losses: {'ner': 512146.39954746247}\n",
      "Updated learning rate to: 0.01\n",
      "Iteration 1, Losses: {'ner': 361100.3174402162}\n",
      "Improvement in this iteration: 151046.08210724627\n",
      "Iteration 2, Losses: {'ner': 334921.8271874993}\n",
      "Improvement in this iteration: 26178.490252716874\n",
      "Iteration 3, Losses: {'ner': 321386.46071987523}\n",
      "Improvement in this iteration: 13535.366467624088\n",
      "Iteration 4, Losses: {'ner': 313753.7184319149}\n",
      "Improvement in this iteration: 7632.742287960311\n",
      "Iteration 5, Losses: {'ner': 306691.7104299541}\n",
      "Updated learning rate to: 0.005\n",
      "Improvement in this iteration: 7062.008001960814\n",
      "Iteration 6, Losses: {'ner': 266258.8071643727}\n",
      "Improvement in this iteration: 40432.90326558141\n",
      "Iteration 7, Losses: {'ner': 256115.5984136206}\n",
      "Improvement in this iteration: 10143.208750752092\n",
      "Iteration 8, Losses: {'ner': 252567.9363051294}\n",
      "Improvement in this iteration: 3547.662108491204\n",
      "Iteration 9, Losses: {'ner': 250419.8646617067}\n",
      "Improvement in this iteration: 2148.071643422707\n",
      "Iteration 10, Losses: {'ner': 249379.2155742461}\n",
      "Updated learning rate to: 0.0025\n",
      "Improvement in this iteration: 1040.6490874605952\n",
      "Iteration 11, Losses: {'ner': 229863.1043836778}\n",
      "Improvement in this iteration: 19516.111190568306\n",
      "Iteration 12, Losses: {'ner': 223010.94645753512}\n",
      "Improvement in this iteration: 6852.157926142681\n",
      "Iteration 13, Losses: {'ner': 219108.11408337427}\n",
      "Improvement in this iteration: 3902.8323741608474\n",
      "Iteration 14, Losses: {'ner': 217512.42662039903}\n",
      "Improvement in this iteration: 1595.687462975242\n",
      "Iteration 15, Losses: {'ner': 217356.51464222476}\n",
      "Updated learning rate to: 0.00125\n",
      "Improvement in this iteration: 155.9119781742629\n",
      "Iteration 16, Losses: {'ner': 205362.80171524227}\n",
      "Improvement in this iteration: 11993.712926982495\n",
      "Iteration 17, Losses: {'ner': 201584.7967356477}\n",
      "Improvement in this iteration: 3778.0049795945815\n",
      "Iteration 18, Losses: {'ner': 199459.06927067044}\n",
      "Improvement in this iteration: 2125.7274649772444\n"
     ]
    }
   ],
   "source": [
    "# Iterate over four different parameter sets\n",
    "parameter_sets = [\n",
    "    {\"max_iterations\": 40, \"initial_lr\": 1e-3, \"dropout_rate\": 0.5, \"min_loss_improvement\": 7000, \"patience\": 6, \"decay_interval\":5},\n",
    "    {\"max_iterations\": 35, \"initial_lr\": 5e-3, \"dropout_rate\": 0.5, \"min_loss_improvement\": 7500, \"patience\": 6, \"decay_interval\":5},\n",
    "    {\"max_iterations\": 35, \"initial_lr\": 1e-2, \"dropout_rate\": 0.5, \"min_loss_improvement\": 5000, \"patience\": 6, \"decay_interval\":5},\n",
    "    {\"max_iterations\": 35, \"initial_lr\": 1e-2, \"dropout_rate\": 0.6, \"min_loss_improvement\": 6000, \"patience\": 5, \"decay_interval\":4}\n",
    "]\n",
    "\n",
    "\n",
    "def train_ner_model(training_data_path, output_model_path, max_iterations, initial_lr, dropout_rate, min_loss_improvement, patience, decay_interval):\n",
    "    # Load the training data\n",
    "    nlp = spacy.blank(\"en\")  # Using a blank 'en' model\n",
    "    db = DocBin().from_disk(training_data_path)\n",
    "    docs = list(db.get_docs(nlp.vocab))\n",
    "\n",
    "    # Create the NER component and add it to the pipeline\n",
    "    if 'ner' not in nlp.pipe_names:\n",
    "        ner = nlp.add_pipe(\"ner\", last=True)\n",
    "\n",
    "    # Add the labels to the NER component\n",
    "    for doc in docs:\n",
    "        for ent in doc.ents:\n",
    "            ner.add_label(ent.label_)\n",
    "\n",
    "    # Disable other pipes during training\n",
    "    other_pipes = [pipe for pipe in nlp.pipe_names if pipe != 'ner']\n",
    "    with nlp.disable_pipes(*other_pipes):\n",
    "        optimizer = nlp.begin_training()\n",
    "\n",
    "        prev_loss = None  # Track the previous loss\n",
    "        no_improvement_counter = 0  # Counter for early stopping\n",
    "        losses_history = []  # Track losses for plotting\n",
    "\n",
    "        # Set an initial learning rate\n",
    "        optimizer.learn_rate = initial_lr\n",
    "\n",
    "        for itn in range(max_iterations):\n",
    "            random.shuffle(docs)\n",
    "            losses = {}\n",
    "            batches = minibatch(docs, size=compounding(4.0, 32.0, 1.5))\n",
    "\n",
    "            for batch in batches:\n",
    "                examples = [Example.from_dict(doc, {\"entities\": [(ent.start_char, ent.end_char, ent.label_) for ent in doc.ents]}) for doc in batch]\n",
    "                nlp.update(examples, drop=dropout_rate, losses=losses)\n",
    "\n",
    "            losses_history.append(losses['ner'])\n",
    "            print(f\"Iteration {itn}, Losses: {losses}\")\n",
    "\n",
    "            # Slower learning rate decay\n",
    "            if itn % decay_interval == 0:\n",
    "                new_lr = initial_lr * (0.5 ** (itn // decay_interval))\n",
    "                optimizer.learn_rate = new_lr\n",
    "                print(f\"Updated learning rate to: {new_lr}\")\n",
    "\n",
    "            # Check for improvement in loss\n",
    "            if prev_loss is not None:\n",
    "                improvement = prev_loss - losses['ner']\n",
    "                print(f\"Improvement in this iteration: {improvement}\")\n",
    "\n",
    "                if improvement < min_loss_improvement:\n",
    "                    no_improvement_counter += 1\n",
    "                    if no_improvement_counter >= patience:\n",
    "                        print(f\"Stopping early due to small improvement over {patience} iterations.\")\n",
    "                        break\n",
    "                else:\n",
    "                    no_improvement_counter = 0\n",
    "\n",
    "            prev_loss = losses['ner']\n",
    "\n",
    "        # Save the trained model to disk\n",
    "        nlp.to_disk(output_model_path)\n",
    "\n",
    "    return losses_history\n",
    "\n",
    "\n",
    "for i, params in enumerate(parameter_sets):\n",
    "    print(f\"Training with parameter set {i + 1}: {params}\")\n",
    "    losses = train_ner_model(\n",
    "        training_data_path=\"training_data.spacy\",\n",
    "        output_model_path=f\"ner_model_{i + 1}\",\n",
    "        max_iterations=params[\"max_iterations\"],\n",
    "        initial_lr=params[\"initial_lr\"],\n",
    "        dropout_rate=params[\"dropout_rate\"],\n",
    "        min_loss_improvement=params[\"min_loss_improvement\"],\n",
    "        patience=params[\"patience\"],\n",
    "        decay_interval=params[\"decay_interval\"]\n",
    "    )\n",
    "    "
   ]
  },
  {
   "cell_type": "markdown",
   "id": "QduWI-aYo-5Q",
   "metadata": {
    "id": "QduWI-aYo-5Q"
   },
   "source": [
    "## Prediction on Test Data:\n",
    "\n",
    "After training, the model is used to predict ingredients and quantities on preprocessed test data.  \n",
    "The predicted entities are extracted for further analysis, such as cuisine classification."
   ]
  },
  {
   "cell_type": "code",
   "execution_count": 4,
   "id": "3398ea24-3450-4c8c-b7fc-23b441d0a7a0",
   "metadata": {
    "colab": {
     "base_uri": "https://localhost:8080/",
     "height": 206
    },
    "executionInfo": {
     "elapsed": 2252,
     "status": "ok",
     "timestamp": 1742171245669,
     "user": {
      "displayName": "Jimmy",
      "userId": "05890202490702060509"
     },
     "user_tz": 240
    },
    "id": "3398ea24-3450-4c8c-b7fc-23b441d0a7a0",
    "outputId": "6155831d-6eaa-4ba8-aee4-c5ccc54b5c55"
   },
   "outputs": [
    {
     "data": {
      "text/html": [
       "<div>\n",
       "<style scoped>\n",
       "    .dataframe tbody tr th:only-of-type {\n",
       "        vertical-align: middle;\n",
       "    }\n",
       "\n",
       "    .dataframe tbody tr th {\n",
       "        vertical-align: top;\n",
       "    }\n",
       "\n",
       "    .dataframe thead th {\n",
       "        text-align: right;\n",
       "    }\n",
       "</style>\n",
       "<table border=\"1\" class=\"dataframe\">\n",
       "  <thead>\n",
       "    <tr style=\"text-align: right;\">\n",
       "      <th></th>\n",
       "      <th>test_recipe</th>\n",
       "      <th>filtered_NER</th>\n",
       "    </tr>\n",
       "  </thead>\n",
       "  <tbody>\n",
       "    <tr>\n",
       "      <th>0</th>\n",
       "      <td>sour cream green beans 0.5 cup thinly sliced o...</td>\n",
       "      <td>['sour cream', 'onion soup', 'onion', 'mushroo...</td>\n",
       "    </tr>\n",
       "    <tr>\n",
       "      <th>1</th>\n",
       "      <td>great fluff 7 ounce marshmallows 2 tablespoon ...</td>\n",
       "      <td>['milk', 'brown sugar', 'marshmallows', 'unsal...</td>\n",
       "    </tr>\n",
       "    <tr>\n",
       "      <th>2</th>\n",
       "      <td>fruit punch 1 can frozen orange juice 1 can fr...</td>\n",
       "      <td>['sugar', 'water', 'pineapple juice', 'orange ...</td>\n",
       "    </tr>\n",
       "    <tr>\n",
       "      <th>3</th>\n",
       "      <td>crabmeat casserole serves 10 1 pt mayonnaise 1...</td>\n",
       "      <td>['fresh crabmeat', 'stuffing mix', 'eggs', 'on...</td>\n",
       "    </tr>\n",
       "    <tr>\n",
       "      <th>4</th>\n",
       "      <td>georgia peach-glazed pork roast 1 2 to 2.5 pou...</td>\n",
       "      <td>['pork loin roast', 'cinnamon', 'peach preserv...</td>\n",
       "    </tr>\n",
       "  </tbody>\n",
       "</table>\n",
       "</div>"
      ],
      "text/plain": [
       "                                         test_recipe  \\\n",
       "0  sour cream green beans 0.5 cup thinly sliced o...   \n",
       "1  great fluff 7 ounce marshmallows 2 tablespoon ...   \n",
       "2  fruit punch 1 can frozen orange juice 1 can fr...   \n",
       "3  crabmeat casserole serves 10 1 pt mayonnaise 1...   \n",
       "4  georgia peach-glazed pork roast 1 2 to 2.5 pou...   \n",
       "\n",
       "                                        filtered_NER  \n",
       "0  ['sour cream', 'onion soup', 'onion', 'mushroo...  \n",
       "1  ['milk', 'brown sugar', 'marshmallows', 'unsal...  \n",
       "2  ['sugar', 'water', 'pineapple juice', 'orange ...  \n",
       "3  ['fresh crabmeat', 'stuffing mix', 'eggs', 'on...  \n",
       "4  ['pork loin roast', 'cinnamon', 'peach preserv...  "
      ]
     },
     "execution_count": 4,
     "metadata": {},
     "output_type": "execute_result"
    }
   ],
   "source": [
    "import pandas as pd\n",
    "test_df = pd.read_csv('test_data_100k_version3.csv')\n",
    "test_df = test_df.rename(columns={'actual_NER': 'filtered_NER'})\n",
    "test_df.head()"
   ]
  },
  {
   "cell_type": "code",
   "execution_count": 8,
   "id": "7e1f4817-2a01-4c91-b46a-631597bf4c43",
   "metadata": {
    "colab": {
     "base_uri": "https://localhost:8080/"
    },
    "executionInfo": {
     "elapsed": 220507,
     "status": "ok",
     "timestamp": 1742171501556,
     "user": {
      "displayName": "Jimmy",
      "userId": "05890202490702060509"
     },
     "user_tz": 240
    },
    "id": "7e1f4817-2a01-4c91-b46a-631597bf4c43",
    "outputId": "a280826b-dd11-403b-8422-d196bbadc932"
   },
   "outputs": [
    {
     "name": "stdout",
     "output_type": "stream",
     "text": [
      "Testing model: ner_model_1\n",
      "Testing model: ner_model_2\n",
      "Testing model: ner_model_3\n",
      "Testing model: ner_model_4\n"
     ]
    }
   ],
   "source": [
    "import spacy\n",
    "\n",
    "# Iterate over the models and apply them to test_df\n",
    "for i in range(1, 5):\n",
    "    model_path = f\"ner_model_{i}\"\n",
    "    print(f\"Testing model: {model_path}\")\n",
    "    \n",
    "    try:\n",
    "        nlp = spacy.load(model_path)\n",
    "    except Exception as e:\n",
    "        print(f\"Error loading model {model_path}: {e}\")\n",
    "        continue\n",
    "    \n",
    "    # Apply the test_ner function to the test_df with the specific nlp model\n",
    "    test_df[f'predicted_ingredients_model_{i}'], test_df[f'predicted_quantities_model_{i}'] = zip(\n",
    "        *test_df['test_recipe'].apply(lambda x: test_ner(x, nlp))\n",
    "    )\n"
   ]
  },
  {
   "cell_type": "code",
   "execution_count": 50,
   "id": "MuhQQ_aopOTG",
   "metadata": {
    "executionInfo": {
     "elapsed": 12,
     "status": "ok",
     "timestamp": 1741973372176,
     "user": {
      "displayName": "Jimmy",
      "userId": "05890202490702060509"
     },
     "user_tz": 240
    },
    "id": "MuhQQ_aopOTG",
    "outputId": "19059edc-19ea-4eaa-cee5-b451026fc4b7"
   },
   "outputs": [
    {
     "data": {
      "text/html": [
       "<div>\n",
       "<style scoped>\n",
       "    .dataframe tbody tr th:only-of-type {\n",
       "        vertical-align: middle;\n",
       "    }\n",
       "\n",
       "    .dataframe tbody tr th {\n",
       "        vertical-align: top;\n",
       "    }\n",
       "\n",
       "    .dataframe thead th {\n",
       "        text-align: right;\n",
       "    }\n",
       "</style>\n",
       "<table border=\"1\" class=\"dataframe\">\n",
       "  <thead>\n",
       "    <tr style=\"text-align: right;\">\n",
       "      <th></th>\n",
       "      <th>test_recipe</th>\n",
       "      <th>filtered_NER</th>\n",
       "      <th>predicted_ingredients_model_1</th>\n",
       "      <th>predicted_quantities_model_1</th>\n",
       "      <th>predicted_ingredients_model_2</th>\n",
       "      <th>predicted_quantities_model_2</th>\n",
       "      <th>predicted_ingredients_model_3</th>\n",
       "      <th>predicted_quantities_model_3</th>\n",
       "      <th>predicted_ingredients_model_4</th>\n",
       "      <th>predicted_quantities_model_4</th>\n",
       "    </tr>\n",
       "  </thead>\n",
       "  <tbody>\n",
       "    <tr>\n",
       "      <th>0</th>\n",
       "      <td>sour cream green beans 0.5 cup thinly sliced onion 8 ounce sliced mushrooms 0.25 cup butter 2 10 ounce packages green beans 1 cup sour cream 1 5 ounce package dry onion soup mix salt and pepper to taste 1 cup shredded cheese any kind you like 1 cup breadcrumbs pre heat oven to 350 . saute onions and mushrooms in butter in a bowl combine beans sour cream onion soup mix salt pepper mix lightly fold in cheese pour into a greased 2 quart casserole mix melted butter with bread crumbs top the beans when mixed bake for 20 25 until bubbly</td>\n",
       "      <td>['sour cream', 'onion soup', 'onion', 'mushrooms', 'shredded cheese', 'breadcrumbs', 'green beans', 'butter', 'salt']</td>\n",
       "      <td>{butter, mushrooms, green beans, salt, breadcrumbs, bread crumbs, onion, onion soup mix, pepper, shredded cheese, salt pepper, sour cream, beans, cheese, onions}</td>\n",
       "      <td>{0.25 cup, 2 10 ounce, 2 quart, 1 cup, 1 5 ounce, 0.5 cup, 8 ounce}</td>\n",
       "      <td>{butter, mushrooms, green beans, salt, breadcrumbs, bread crumbs, onion, onion soup mix, pepper, shredded cheese, salt pepper, sour cream, beans, cheese, onions}</td>\n",
       "      <td>{0.25 cup, 2 10 ounce, 2 quart, 1 cup, 1 5 ounce, 0.5 cup, 8 ounce}</td>\n",
       "      <td>{butter, mushrooms, green beans, salt, breadcrumbs, bread crumbs, onion, onion soup mix, pepper, shredded cheese, salt pepper, sour cream, beans, cheese, onions}</td>\n",
       "      <td>{0.25 cup, 2 10 ounce, 2 quart, 1 cup, 1 5 ounce, 0.5 cup, 8 ounce}</td>\n",
       "      <td>{butter, mushrooms, green beans, salt, breadcrumbs, bread crumbs, onion, onion soup mix, pepper, shredded cheese, salt pepper, sour cream, beans, cheese, onions}</td>\n",
       "      <td>{0.25 cup, 2 10 ounce, 2 quart, 1 cup, 1 5 ounce, 0.5 cup, 8 ounce}</td>\n",
       "    </tr>\n",
       "    <tr>\n",
       "      <th>1</th>\n",
       "      <td>great fluff 7 ounce marshmallows 2 tablespoon unsalted butter 12 cup brown sugar 1 cup evaporated milk first add sugar marshmallows and milk to a pot then wait till boiling when done bowling add in the marshmallows finally wait till the marshmallows melt in the bowling liquid then enjoy you yummy tasting fluff</td>\n",
       "      <td>['milk', 'brown sugar', 'marshmallows', 'unsalted butter']</td>\n",
       "      <td>{marshmallows, evaporated milk, milk, sugar, brown sugar, unsalted butter}</td>\n",
       "      <td>{12 cup, 2 tablespoon, 7 ounce, 1 cup}</td>\n",
       "      <td>{marshmallows, evaporated milk, milk, sugar, brown sugar, unsalted butter}</td>\n",
       "      <td>{12 cup, 2 tablespoon, 7 ounce, 1 cup}</td>\n",
       "      <td>{marshmallows, evaporated milk, milk, sugar, brown sugar, unsalted butter}</td>\n",
       "      <td>{12 cup, 2 tablespoon, 7 ounce, 1 cup}</td>\n",
       "      <td>{marshmallows, evaporated milk, milk, sugar, brown sugar, unsalted butter}</td>\n",
       "      <td>{12 cup, 2 tablespoon, 7 ounce, 1 cup}</td>\n",
       "    </tr>\n",
       "    <tr>\n",
       "      <th>2</th>\n",
       "      <td>fruit punch 1 can frozen orange juice 1 can frozen lemonade 4 cup sugar 1 quart pineapple juice 6 quart water 2 large ginger ale 6 small bottles 7 up thaw juices mix first 5 ingredients and stir until sugar is dissolved add ginger ale and 7 up fills large punch bowl</td>\n",
       "      <td>['sugar', 'water', 'pineapple juice', 'orange juice', 'frozen lemonade', 'ginger ale']</td>\n",
       "      <td>{pineapple juice, orange juice, water, sugar, ginger ale, frozen lemonade, fruit punch}</td>\n",
       "      <td>{1 quart, 4 cup, 6 quart}</td>\n",
       "      <td>{pineapple juice, orange juice, water, sugar, ginger ale, frozen lemonade, fruit punch}</td>\n",
       "      <td>{1 quart, 4 cup, 6 quart}</td>\n",
       "      <td>{pineapple juice, orange juice, water, sugar, ginger ale, frozen lemonade, fruit punch}</td>\n",
       "      <td>{1 quart, 4 cup, 6 quart}</td>\n",
       "      <td>{fruit, pineapple juice, orange juice, water, sugar, ginger ale, frozen lemonade}</td>\n",
       "      <td>{1 quart, 4 cup, 6 quart}</td>\n",
       "    </tr>\n",
       "    <tr>\n",
       "      <th>3</th>\n",
       "      <td>crabmeat casserole serves 10 1 pt mayonnaise 1 pt cream 1 pound fresh crabmeat 2 tablespoon chopped parsley 2 tablespoon chopped onion 3 hard-boiled eggs coarsely chopped 0.5 cup sherry taylor dry 1 package stuffing mix bake 45 minutes at 300 mix all together except stuffing and place on casserole dish you can place stuffing mix on top of mixture then bake 45 minutes at 300</td>\n",
       "      <td>['fresh crabmeat', 'stuffing mix', 'eggs', 'onion', 'sherry', 'mayonnaise', 'parsley', 'cream']</td>\n",
       "      <td>{sherry, onion, mayonnaise, crabmeat, fresh crabmeat, stuffing mix, parsley, cream, hard-boiled eggs}</td>\n",
       "      <td>{0.5 cup, 2 tablespoon, 1 package, 1 pound}</td>\n",
       "      <td>{sherry, onion, mayonnaise, crabmeat, fresh crabmeat, stuffing mix, parsley, cream, hard-boiled eggs}</td>\n",
       "      <td>{0.5 cup, 2 tablespoon, 1 package, 1 pound}</td>\n",
       "      <td>{sherry, onion, mayonnaise, crabmeat, fresh crabmeat, stuffing mix, parsley, cream, hard-boiled eggs}</td>\n",
       "      <td>{0.5 cup, 2 tablespoon, 1 package, 1 pound}</td>\n",
       "      <td>{sherry, onion, mayonnaise, crabmeat, fresh crabmeat, stuffing mix, parsley, cream, hard-boiled eggs}</td>\n",
       "      <td>{0.5 cup, 2 tablespoon, 1 package, 1 pound}</td>\n",
       "    </tr>\n",
       "    <tr>\n",
       "      <th>4</th>\n",
       "      <td>georgia peach-glazed pork roast 1 2 to 2.5 pound boneless pork loin roast 0.5 cup peach preserves 1 tablespoon dijon mustard 0.5 teaspoon cinnamon heat oven to 325 coat a roasting pan with cooking spray</td>\n",
       "      <td>['pork loin roast', 'cinnamon', 'peach preserves', 'mustard']</td>\n",
       "      <td>{boneless pork loin roast, pork roast, dijon mustard, peach preserves, peach, cinnamon}</td>\n",
       "      <td>{0.5 cup, 2.5 pound, 1 tablespoon, 0.5 teaspoon}</td>\n",
       "      <td>{boneless pork loin roast, pork roast, dijon mustard, peach preserves, peach, cinnamon}</td>\n",
       "      <td>{0.5 cup, 2.5 pound, 1 tablespoon, 0.5 teaspoon}</td>\n",
       "      <td>{boneless pork loin roast, pork roast, dijon mustard, peach preserves, peach, cinnamon}</td>\n",
       "      <td>{0.5 cup, 2.5 pound, 1 tablespoon, 0.5 teaspoon}</td>\n",
       "      <td>{boneless pork loin roast, pork roast, dijon mustard, peach preserves, peach, cinnamon}</td>\n",
       "      <td>{0.5 cup, 2.5 pound, 1 tablespoon, 0.5 teaspoon}</td>\n",
       "    </tr>\n",
       "  </tbody>\n",
       "</table>\n",
       "</div>"
      ],
      "text/plain": [
       "                                                                                                                                                                                                                                                                                                                                                                                                                                                                                                                                                test_recipe  \\\n",
       "0  sour cream green beans 0.5 cup thinly sliced onion 8 ounce sliced mushrooms 0.25 cup butter 2 10 ounce packages green beans 1 cup sour cream 1 5 ounce package dry onion soup mix salt and pepper to taste 1 cup shredded cheese any kind you like 1 cup breadcrumbs pre heat oven to 350 . saute onions and mushrooms in butter in a bowl combine beans sour cream onion soup mix salt pepper mix lightly fold in cheese pour into a greased 2 quart casserole mix melted butter with bread crumbs top the beans when mixed bake for 20 25 until bubbly   \n",
       "1                                                                                                                                                                                                                                   great fluff 7 ounce marshmallows 2 tablespoon unsalted butter 12 cup brown sugar 1 cup evaporated milk first add sugar marshmallows and milk to a pot then wait till boiling when done bowling add in the marshmallows finally wait till the marshmallows melt in the bowling liquid then enjoy you yummy tasting fluff   \n",
       "2                                                                                                                                                                                                                                                                                fruit punch 1 can frozen orange juice 1 can frozen lemonade 4 cup sugar 1 quart pineapple juice 6 quart water 2 large ginger ale 6 small bottles 7 up thaw juices mix first 5 ingredients and stir until sugar is dissolved add ginger ale and 7 up fills large punch bowl   \n",
       "3                                                                                                                                                                  crabmeat casserole serves 10 1 pt mayonnaise 1 pt cream 1 pound fresh crabmeat 2 tablespoon chopped parsley 2 tablespoon chopped onion 3 hard-boiled eggs coarsely chopped 0.5 cup sherry taylor dry 1 package stuffing mix bake 45 minutes at 300 mix all together except stuffing and place on casserole dish you can place stuffing mix on top of mixture then bake 45 minutes at 300   \n",
       "4                                                                                                                                                                                                                                                                                                                                                georgia peach-glazed pork roast 1 2 to 2.5 pound boneless pork loin roast 0.5 cup peach preserves 1 tablespoon dijon mustard 0.5 teaspoon cinnamon heat oven to 325 coat a roasting pan with cooking spray   \n",
       "\n",
       "                                                                                                            filtered_NER  \\\n",
       "0  ['sour cream', 'onion soup', 'onion', 'mushrooms', 'shredded cheese', 'breadcrumbs', 'green beans', 'butter', 'salt']   \n",
       "1                                                             ['milk', 'brown sugar', 'marshmallows', 'unsalted butter']   \n",
       "2                                 ['sugar', 'water', 'pineapple juice', 'orange juice', 'frozen lemonade', 'ginger ale']   \n",
       "3                        ['fresh crabmeat', 'stuffing mix', 'eggs', 'onion', 'sherry', 'mayonnaise', 'parsley', 'cream']   \n",
       "4                                                          ['pork loin roast', 'cinnamon', 'peach preserves', 'mustard']   \n",
       "\n",
       "                                                                                                                                       predicted_ingredients_model_1  \\\n",
       "0  {butter, mushrooms, green beans, salt, breadcrumbs, bread crumbs, onion, onion soup mix, pepper, shredded cheese, salt pepper, sour cream, beans, cheese, onions}   \n",
       "1                                                                                         {marshmallows, evaporated milk, milk, sugar, brown sugar, unsalted butter}   \n",
       "2                                                                            {pineapple juice, orange juice, water, sugar, ginger ale, frozen lemonade, fruit punch}   \n",
       "3                                                              {sherry, onion, mayonnaise, crabmeat, fresh crabmeat, stuffing mix, parsley, cream, hard-boiled eggs}   \n",
       "4                                                                            {boneless pork loin roast, pork roast, dijon mustard, peach preserves, peach, cinnamon}   \n",
       "\n",
       "                                          predicted_quantities_model_1  \\\n",
       "0  {0.25 cup, 2 10 ounce, 2 quart, 1 cup, 1 5 ounce, 0.5 cup, 8 ounce}   \n",
       "1                               {12 cup, 2 tablespoon, 7 ounce, 1 cup}   \n",
       "2                                            {1 quart, 4 cup, 6 quart}   \n",
       "3                          {0.5 cup, 2 tablespoon, 1 package, 1 pound}   \n",
       "4                     {0.5 cup, 2.5 pound, 1 tablespoon, 0.5 teaspoon}   \n",
       "\n",
       "                                                                                                                                       predicted_ingredients_model_2  \\\n",
       "0  {butter, mushrooms, green beans, salt, breadcrumbs, bread crumbs, onion, onion soup mix, pepper, shredded cheese, salt pepper, sour cream, beans, cheese, onions}   \n",
       "1                                                                                         {marshmallows, evaporated milk, milk, sugar, brown sugar, unsalted butter}   \n",
       "2                                                                            {pineapple juice, orange juice, water, sugar, ginger ale, frozen lemonade, fruit punch}   \n",
       "3                                                              {sherry, onion, mayonnaise, crabmeat, fresh crabmeat, stuffing mix, parsley, cream, hard-boiled eggs}   \n",
       "4                                                                            {boneless pork loin roast, pork roast, dijon mustard, peach preserves, peach, cinnamon}   \n",
       "\n",
       "                                          predicted_quantities_model_2  \\\n",
       "0  {0.25 cup, 2 10 ounce, 2 quart, 1 cup, 1 5 ounce, 0.5 cup, 8 ounce}   \n",
       "1                               {12 cup, 2 tablespoon, 7 ounce, 1 cup}   \n",
       "2                                            {1 quart, 4 cup, 6 quart}   \n",
       "3                          {0.5 cup, 2 tablespoon, 1 package, 1 pound}   \n",
       "4                     {0.5 cup, 2.5 pound, 1 tablespoon, 0.5 teaspoon}   \n",
       "\n",
       "                                                                                                                                       predicted_ingredients_model_3  \\\n",
       "0  {butter, mushrooms, green beans, salt, breadcrumbs, bread crumbs, onion, onion soup mix, pepper, shredded cheese, salt pepper, sour cream, beans, cheese, onions}   \n",
       "1                                                                                         {marshmallows, evaporated milk, milk, sugar, brown sugar, unsalted butter}   \n",
       "2                                                                            {pineapple juice, orange juice, water, sugar, ginger ale, frozen lemonade, fruit punch}   \n",
       "3                                                              {sherry, onion, mayonnaise, crabmeat, fresh crabmeat, stuffing mix, parsley, cream, hard-boiled eggs}   \n",
       "4                                                                            {boneless pork loin roast, pork roast, dijon mustard, peach preserves, peach, cinnamon}   \n",
       "\n",
       "                                          predicted_quantities_model_3  \\\n",
       "0  {0.25 cup, 2 10 ounce, 2 quart, 1 cup, 1 5 ounce, 0.5 cup, 8 ounce}   \n",
       "1                               {12 cup, 2 tablespoon, 7 ounce, 1 cup}   \n",
       "2                                            {1 quart, 4 cup, 6 quart}   \n",
       "3                          {0.5 cup, 2 tablespoon, 1 package, 1 pound}   \n",
       "4                     {0.5 cup, 2.5 pound, 1 tablespoon, 0.5 teaspoon}   \n",
       "\n",
       "                                                                                                                                       predicted_ingredients_model_4  \\\n",
       "0  {butter, mushrooms, green beans, salt, breadcrumbs, bread crumbs, onion, onion soup mix, pepper, shredded cheese, salt pepper, sour cream, beans, cheese, onions}   \n",
       "1                                                                                         {marshmallows, evaporated milk, milk, sugar, brown sugar, unsalted butter}   \n",
       "2                                                                                  {fruit, pineapple juice, orange juice, water, sugar, ginger ale, frozen lemonade}   \n",
       "3                                                              {sherry, onion, mayonnaise, crabmeat, fresh crabmeat, stuffing mix, parsley, cream, hard-boiled eggs}   \n",
       "4                                                                            {boneless pork loin roast, pork roast, dijon mustard, peach preserves, peach, cinnamon}   \n",
       "\n",
       "                                          predicted_quantities_model_4  \n",
       "0  {0.25 cup, 2 10 ounce, 2 quart, 1 cup, 1 5 ounce, 0.5 cup, 8 ounce}  \n",
       "1                               {12 cup, 2 tablespoon, 7 ounce, 1 cup}  \n",
       "2                                            {1 quart, 4 cup, 6 quart}  \n",
       "3                          {0.5 cup, 2 tablespoon, 1 package, 1 pound}  \n",
       "4                     {0.5 cup, 2.5 pound, 1 tablespoon, 0.5 teaspoon}  "
      ]
     },
     "execution_count": 50,
     "metadata": {},
     "output_type": "execute_result"
    }
   ],
   "source": [
    "pd.set_option('display.max_colwidth',None)\n",
    "test_df.head()"
   ]
  },
  {
   "cell_type": "code",
   "execution_count": 11,
   "id": "7c64f54a-21d4-407b-80b7-cda04106c786",
   "metadata": {
    "executionInfo": {
     "elapsed": 3056,
     "status": "ok",
     "timestamp": 1742171528846,
     "user": {
      "displayName": "Jimmy",
      "userId": "05890202490702060509"
     },
     "user_tz": 240
    },
    "id": "7c64f54a-21d4-407b-80b7-cda04106c786"
   },
   "outputs": [],
   "source": [
    "pd.set_option('display.max_colwidth', None)\n",
    "for i in range(1, 5):\n",
    "    test_df[f'predicted_ingredients_model_{i}'].to_csv(f'predicted_ingredients_model_{i}.csv', index=False)"
   ]
  },
  {
   "cell_type": "markdown",
   "id": "2a4f9022-ccb7-4de0-8ff0-31efe5bccf29",
   "metadata": {
    "id": "2a4f9022-ccb7-4de0-8ff0-31efe5bccf29"
   },
   "source": [
    "## Evaluation of Model Performance:\n",
    "\n",
    "The model’s performance is evaluated by comparing predicted ingredients with actual ground truth labels from the test data.  \n",
    "Test data's predicted and actual NER values are prepared in a way Spacy can understand and therefore annotations are used.  \n",
    "This comparison is made by annotating raw text with the predicted entities and their corresponding labels.  \n",
    "SpaCy’s Scorer is used to calculate performance metrics such as precision, recall, and F1 scores, which reflect the model’s ability to accurately extract ingredients and quantities."
   ]
  },
  {
   "cell_type": "code",
   "execution_count": 14,
   "id": "a396206e-afe6-4fcd-b36f-40137b112c71",
   "metadata": {
    "colab": {
     "base_uri": "https://localhost:8080/"
    },
    "executionInfo": {
     "elapsed": 19,
     "status": "ok",
     "timestamp": 1742171519750,
     "user": {
      "displayName": "Jimmy",
      "userId": "05890202490702060509"
     },
     "user_tz": 240
    },
    "id": "a396206e-afe6-4fcd-b36f-40137b112c71",
    "outputId": "7d3b6541-a80c-4459-8f27-e3eb55f029f1"
   },
   "outputs": [
    {
     "data": {
      "text/plain": [
       "Index(['test_recipe', 'filtered_NER', 'predicted_ingredients_model_1',\n",
       "       'predicted_quantities_model_1', 'predicted_ingredients_model_2',\n",
       "       'predicted_quantities_model_2', 'predicted_ingredients_model_3',\n",
       "       'predicted_quantities_model_3', 'predicted_ingredients_model_4',\n",
       "       'predicted_quantities_model_4'],\n",
       "      dtype='object')"
      ]
     },
     "execution_count": 14,
     "metadata": {},
     "output_type": "execute_result"
    }
   ],
   "source": [
    "test_df.columns"
   ]
  },
  {
   "cell_type": "markdown",
   "id": "e6fba8ba",
   "metadata": {},
   "source": [
    "## Preparing the data for actual NER labels to compare with the predicted labels\n",
    "Creating annotation for the actual NER values"
   ]
  },
  {
   "cell_type": "code",
   "execution_count": 30,
   "id": "5564e5e3-ce23-43aa-b471-6dfd4a7b6fc4",
   "metadata": {
    "executionInfo": {
     "elapsed": 1244,
     "status": "ok",
     "timestamp": 1742171859166,
     "user": {
      "displayName": "Jimmy",
      "userId": "05890202490702060509"
     },
     "user_tz": 240
    },
    "id": "5564e5e3-ce23-43aa-b471-6dfd4a7b6fc4"
   },
   "outputs": [],
   "source": [
    "texts = test_df['test_recipe'].tolist()\n",
    "ner_tags = test_df['filtered_NER'].apply(eval).tolist()\n",
    "\n",
    "nlp = spacy.blank(\"en\")\n",
    "\n",
    "# Create a dictionary of terms\n",
    "terms = {}\n",
    "patterns = []\n",
    "\n",
    "for tags in ner_tags:\n",
    "    for tag in tags:\n",
    "        if tag not in terms and tag!='mix':\n",
    "            terms[tag] = {'label': 'INGREDIENT'}\n",
    "            patterns.append(nlp(tag))\n",
    "\n",
    "# Initialize the PhraseMatcher\n",
    "ingredient_matcher = PhraseMatcher(nlp.vocab)\n",
    "ingredient_matcher.add(\"INGREDIENT\", None, *patterns)"
   ]
  },
  {
   "cell_type": "code",
   "execution_count": 31,
   "id": "6aa8a8dd-9b35-427a-a11e-b563d3bb3050",
   "metadata": {
    "colab": {
     "base_uri": "https://localhost:8080/"
    },
    "executionInfo": {
     "elapsed": 8,
     "status": "ok",
     "timestamp": 1742171861132,
     "user": {
      "displayName": "Jimmy",
      "userId": "05890202490702060509"
     },
     "user_tz": 240
    },
    "id": "6aa8a8dd-9b35-427a-a11e-b563d3bb3050",
    "outputId": "3f6dc671-ef72-4b40-94d6-c11f5e5169f9"
   },
   "outputs": [
    {
     "data": {
      "text/plain": [
       "[sour cream,\n",
       " onion soup,\n",
       " onion,\n",
       " mushrooms,\n",
       " shredded cheese,\n",
       " breadcrumbs,\n",
       " green beans,\n",
       " butter,\n",
       " salt,\n",
       " milk]"
      ]
     },
     "execution_count": 31,
     "metadata": {},
     "output_type": "execute_result"
    }
   ],
   "source": [
    "patterns[:10]"
   ]
  },
  {
   "cell_type": "code",
   "execution_count": 32,
   "id": "ef0fc2e5-5f85-4c5b-ba7e-cf9f6384e508",
   "metadata": {
    "id": "ef0fc2e5-5f85-4c5b-ba7e-cf9f6384e508",
    "outputId": "07ddb634-3efa-4e81-bf7d-bec555b74792"
   },
   "outputs": [
    {
     "data": {
      "text/plain": [
       "<function __main__.quantity_extractor(doc)>"
      ]
     },
     "execution_count": 32,
     "metadata": {},
     "output_type": "execute_result"
    }
   ],
   "source": [
    "#Calling the quantity_extractor component to add to ner pipe\n",
    "nlp.add_pipe(\"quantity_extractor\", last=True)"
   ]
  },
  {
   "cell_type": "code",
   "execution_count": 33,
   "id": "d05de8e4-4451-4be3-9001-48d23475c2c6",
   "metadata": {
    "id": "d05de8e4-4451-4be3-9001-48d23475c2c6",
    "outputId": "89f7a70f-992e-497a-d759-a520c4ea8a06"
   },
   "outputs": [
    {
     "data": {
      "text/plain": [
       "<function __main__.ingredient_extractor(doc)>"
      ]
     },
     "execution_count": 33,
     "metadata": {},
     "output_type": "execute_result"
    }
   ],
   "source": [
    "#Calling the ingredient_extractor component to add to ner pipe\n",
    "nlp.add_pipe(\"ingredient_extractor\", last=True)"
   ]
  },
  {
   "cell_type": "code",
   "execution_count": 34,
   "id": "aac80693-6dcf-4bec-bf36-d46122f99770",
   "metadata": {
    "colab": {
     "base_uri": "https://localhost:8080/"
    },
    "executionInfo": {
     "elapsed": 45,
     "status": "ok",
     "timestamp": 1742171895589,
     "user": {
      "displayName": "Jimmy",
      "userId": "05890202490702060509"
     },
     "user_tz": 240
    },
    "id": "aac80693-6dcf-4bec-bf36-d46122f99770",
    "outputId": "958cb092-ebf3-47de-95d8-adfadd392af4"
   },
   "outputs": [
    {
     "data": {
      "text/plain": [
       "{'summary': {'quantity_extractor': {'assigns': [],\n",
       "   'requires': [],\n",
       "   'scores': [],\n",
       "   'retokenizes': False},\n",
       "  'ingredient_extractor': {'assigns': [],\n",
       "   'requires': [],\n",
       "   'scores': [],\n",
       "   'retokenizes': False}},\n",
       " 'problems': {'quantity_extractor': [], 'ingredient_extractor': []},\n",
       " 'attrs': {}}"
      ]
     },
     "execution_count": 34,
     "metadata": {},
     "output_type": "execute_result"
    }
   ],
   "source": [
    "nlp.analyze_pipes()"
   ]
  },
  {
   "cell_type": "code",
   "execution_count": 35,
   "id": "2cfe3ad4-8762-4406-8463-2b862ab76376",
   "metadata": {
    "executionInfo": {
     "elapsed": 32321,
     "status": "ok",
     "timestamp": 1742171932399,
     "user": {
      "displayName": "Jimmy",
      "userId": "05890202490702060509"
     },
     "user_tz": 240
    },
    "id": "2cfe3ad4-8762-4406-8463-2b862ab76376"
   },
   "outputs": [],
   "source": [
    "#Creating annotations for actual NER labels\n",
    "from spacy.tokens import DocBin\n",
    "\n",
    "actual_data = [(text, {\"entities\": []}) for text in texts]\n",
    "\n",
    "for i, (text, annotations) in enumerate(actual_data):\n",
    "    doc = nlp(text)\n",
    "    entities = [(ent.start_char, ent.end_char, ent.label_) for ent in doc.ents]\n",
    "    actual_data[i] = (text, {\"entities\": entities})"
   ]
  },
  {
   "cell_type": "code",
   "execution_count": 37,
   "id": "66580bd0-1320-4cf8-a777-1cc3c98a2f44",
   "metadata": {
    "colab": {
     "base_uri": "https://localhost:8080/"
    },
    "executionInfo": {
     "elapsed": 18,
     "status": "ok",
     "timestamp": 1742172178014,
     "user": {
      "displayName": "Jimmy",
      "userId": "05890202490702060509"
     },
     "user_tz": 240
    },
    "id": "66580bd0-1320-4cf8-a777-1cc3c98a2f44",
    "outputId": "1e4929ec-4719-460b-d116-d60553f72a57"
   },
   "outputs": [
    {
     "data": {
      "text/plain": [
       "('great fluff 7 ounce marshmallows 2 tablespoon unsalted butter 12 cup brown sugar 1 cup evaporated milk first add sugar marshmallows and milk to a pot then wait till boiling when done bowling add in the marshmallows finally wait till the marshmallows melt in the bowling liquid then enjoy you yummy tasting fluff',\n",
       " {'entities': [(12, 19, 'QUANTITY'),\n",
       "   (20, 32, 'INGREDIENT'),\n",
       "   (33, 45, 'QUANTITY'),\n",
       "   (46, 61, 'INGREDIENT'),\n",
       "   (62, 68, 'QUANTITY'),\n",
       "   (69, 80, 'INGREDIENT'),\n",
       "   (81, 86, 'QUANTITY'),\n",
       "   (87, 102, 'INGREDIENT'),\n",
       "   (113, 118, 'INGREDIENT'),\n",
       "   (119, 131, 'INGREDIENT'),\n",
       "   (136, 140, 'INGREDIENT'),\n",
       "   (146, 149, 'INGREDIENT'),\n",
       "   (202, 214, 'INGREDIENT'),\n",
       "   (237, 249, 'INGREDIENT')]})"
      ]
     },
     "execution_count": 37,
     "metadata": {},
     "output_type": "execute_result"
    }
   ],
   "source": [
    "actual_data[1]"
   ]
  },
  {
   "cell_type": "code",
   "execution_count": 46,
   "id": "8fbe2578-2564-4b79-bfb0-ce32024b31ac",
   "metadata": {
    "colab": {
     "base_uri": "https://localhost:8080/"
    },
    "executionInfo": {
     "elapsed": 213321,
     "status": "ok",
     "timestamp": 1742172461271,
     "user": {
      "displayName": "Jimmy",
      "userId": "05890202490702060509"
     },
     "user_tz": 240
    },
    "id": "8fbe2578-2564-4b79-bfb0-ce32024b31ac",
    "outputId": "79117ad0-4d2c-4500-e5dc-3fd5dd009044"
   },
   "outputs": [
    {
     "name": "stdout",
     "output_type": "stream",
     "text": [
      "Evaluating model: ner_model_1\n",
      "Metrics for model 1: {'token_acc': 1.0, 'token_p': 1.0, 'token_r': 1.0, 'token_f': 1.0, 'sents_p': None, 'sents_r': None, 'sents_f': None, 'tag_acc': None, 'pos_acc': None, 'morph_acc': None, 'morph_micro_p': None, 'morph_micro_r': None, 'morph_micro_f': None, 'morph_per_feat': None, 'dep_uas': None, 'dep_las': None, 'dep_las_per_type': None, 'ents_p': 0.9235910071866141, 'ents_r': 0.9266979578577109, 'ents_f': 0.9251418739721861, 'ents_per_type': {'INGREDIENT': {'p': 0.8998096716103245, 'r': 0.9037819030981077, 'f': 0.901791413131356}, 'QUANTITY': {'p': 0.9999717863474135, 'r': 0.9999764885122872, 'f': 0.9999741374243226}}, 'cats_score': 0.0, 'cats_score_desc': 'macro F', 'cats_micro_p': 0.0, 'cats_micro_r': 0.0, 'cats_micro_f': 0.0, 'cats_macro_p': 0.0, 'cats_macro_r': 0.0, 'cats_macro_f': 0.0, 'cats_macro_auc': 0.0, 'cats_f_per_type': {}, 'cats_auc_per_type': {}}\n",
      "Evaluating model: ner_model_2\n",
      "Metrics for model 2: {'token_acc': 1.0, 'token_p': 1.0, 'token_r': 1.0, 'token_f': 1.0, 'sents_p': None, 'sents_r': None, 'sents_f': None, 'tag_acc': None, 'pos_acc': None, 'morph_acc': None, 'morph_micro_p': None, 'morph_micro_r': None, 'morph_micro_f': None, 'morph_per_feat': None, 'dep_uas': None, 'dep_las': None, 'dep_las_per_type': None, 'ents_p': 0.9241343791649955, 'ents_r': 0.9266385867434384, 'ents_f': 0.9253847887821842, 'ents_per_type': {'INGREDIENT': {'p': 0.9005033372652741, 'r': 0.9037039651308476, 'f': 0.9021008122729771}, 'QUANTITY': {'p': 0.9999670842267615, 'r': 0.9999764885122872, 'f': 0.9999717863474136}}, 'cats_score': 0.0, 'cats_score_desc': 'macro F', 'cats_micro_p': 0.0, 'cats_micro_r': 0.0, 'cats_micro_f': 0.0, 'cats_macro_p': 0.0, 'cats_macro_r': 0.0, 'cats_macro_f': 0.0, 'cats_macro_auc': 0.0, 'cats_f_per_type': {}, 'cats_auc_per_type': {}}\n",
      "Evaluating model: ner_model_3\n",
      "Metrics for model 3: {'token_acc': 1.0, 'token_p': 1.0, 'token_r': 1.0, 'token_f': 1.0, 'sents_p': None, 'sents_r': None, 'sents_f': None, 'tag_acc': None, 'pos_acc': None, 'morph_acc': None, 'morph_micro_p': None, 'morph_micro_r': None, 'morph_micro_f': None, 'morph_per_feat': None, 'dep_uas': None, 'dep_las': None, 'dep_las_per_type': None, 'ents_p': 0.9249994417773808, 'ents_r': 0.9281183837614402, 'ents_f': 0.926556288057974, 'ents_per_type': {'INGREDIENT': {'p': 0.9016568648550518, 'r': 0.9056465322016152, 'f': 0.9036472948832227}, 'QUANTITY': {'p': 0.9999717863474135, 'r': 0.9999764885122872, 'f': 0.9999741374243226}}, 'cats_score': 0.0, 'cats_score_desc': 'macro F', 'cats_micro_p': 0.0, 'cats_micro_r': 0.0, 'cats_micro_f': 0.0, 'cats_macro_p': 0.0, 'cats_macro_r': 0.0, 'cats_macro_f': 0.0, 'cats_macro_auc': 0.0, 'cats_f_per_type': {}, 'cats_auc_per_type': {}}\n",
      "Evaluating model: ner_model_4\n",
      "Metrics for model 4: {'token_acc': 1.0, 'token_p': 1.0, 'token_r': 1.0, 'token_f': 1.0, 'sents_p': None, 'sents_r': None, 'sents_f': None, 'tag_acc': None, 'pos_acc': None, 'morph_acc': None, 'morph_micro_p': None, 'morph_micro_r': None, 'morph_micro_f': None, 'morph_per_feat': None, 'dep_uas': None, 'dep_las': None, 'dep_las_per_type': None, 'ents_p': 0.9214009999162082, 'ents_r': 0.9238627070987689, 'ents_f': 0.9226302114651534, 'ents_per_type': {'INGREDIENT': {'p': 0.8969171116568876, 'r': 0.9000614680571977, 'f': 0.8984865388567569}, 'QUANTITY': {'p': 0.9999670840719824, 'r': 0.9999717862147445, 'f': 0.9999694351378358}}, 'cats_score': 0.0, 'cats_score_desc': 'macro F', 'cats_micro_p': 0.0, 'cats_micro_r': 0.0, 'cats_micro_f': 0.0, 'cats_macro_p': 0.0, 'cats_macro_r': 0.0, 'cats_macro_f': 0.0, 'cats_macro_auc': 0.0, 'cats_f_per_type': {}, 'cats_auc_per_type': {}}\n"
     ]
    }
   ],
   "source": [
    "parameter_sets = [\n",
    "    {\"max_iterations\": 40, \"initial_lr\": 1e-3, \"dropout_rate\": 0.5, \"min_loss_improvement\": 7000, \"patience\": 6, \"decay_interval\":5},\n",
    "    {\"max_iterations\": 35, \"initial_lr\": 5e-3, \"dropout_rate\": 0.5, \"min_loss_improvement\": 7500, \"patience\": 6, \"decay_interval\":5},\n",
    "    {\"max_iterations\": 35, \"initial_lr\": 1e-2, \"dropout_rate\": 0.5, \"min_loss_improvement\": 5000, \"patience\": 6, \"decay_interval\":5},\n",
    "    {\"max_iterations\": 35, \"initial_lr\": 1e-2, \"dropout_rate\": 0.6, \"min_loss_improvement\": 6000, \"patience\": 5, \"decay_interval\":4}\n",
    "]\n",
    "\n",
    "precisions = []\n",
    "recalls = []\n",
    "f1_scores = []\n",
    "\n",
    "for i in range(1, 5):\n",
    "        print(f\"Evaluating model: ner_model_{i}\")\n",
    "        model_path = f\"ner_model_{i}\"\n",
    "        nlp = spacy.load(model_path)\n",
    "\n",
    "        metrics = evaluate_model(test_df['test_recipe'].tolist(), actual_data)\n",
    "\n",
    "        scorer = Scorer()\n",
    "        metrics = scorer.score(examples)\n",
    "\n",
    "        precision, recall, f1_score = save_metrics_and_plot(parameter_sets, metrics)\n",
    "        \n",
    "        # Append metrics to lists for plotting\n",
    "        precisions.append(precision)\n",
    "        recalls.append(recall)\n",
    "        f1_scores.append(f1_score)"
   ]
  },
  {
   "cell_type": "code",
   "execution_count": 52,
   "id": "c5f0feec-5b60-41b1-a347-e1a314638667",
   "metadata": {
    "id": "c5f0feec-5b60-41b1-a347-e1a314638667"
   },
   "outputs": [
    {
     "data": {
      "image/png": "[encoded data removed]",
      "text/plain": [
       "<Figure size 1000x600 with 1 Axes>"
      ]
     },
     "metadata": {},
     "output_type": "display_data"
    }
   ],
   "source": [
    "#Plot NER model evaluation metrics\n",
    "plot_metrics(precisions, recalls, f1_scores)"
   ]
  },
  {
   "cell_type": "markdown",
   "id": "8rY1_EL-qHl4",
   "metadata": {
    "id": "8rY1_EL-qHl4"
   },
   "source": [
    "## Testing on raw sample data"
   ]
  },
  {
   "cell_type": "code",
   "execution_count": 49,
   "id": "bdca529f-7b0f-4880-bfe8-a0395ef25faf",
   "metadata": {
    "colab": {
     "base_uri": "https://localhost:8080/",
     "height": 1000
    },
    "executionInfo": {
     "elapsed": 696,
     "status": "ok",
     "timestamp": 1742172496204,
     "user": {
      "displayName": "Jimmy",
      "userId": "05890202490702060509"
     },
     "user_tz": 240
    },
    "id": "bdca529f-7b0f-4880-bfe8-a0395ef25faf",
    "outputId": "05e3cec2-434a-4991-9709-959c3a61e191"
   },
   "outputs": [
    {
     "name": "stdout",
     "output_type": "stream",
     "text": [
      "Recipe: Mexican Tacos\n",
      "Visualizing Entities for Mexican Tacos\n"
     ]
    },
    {
     "data": {
      "text/html": [
       "<span class=\"tex2jax_ignore\"><!DOCTYPE html>\n",
       "<html lang=\"en\">\n",
       "    <head>\n",
       "        <title>displaCy</title>\n",
       "    </head>\n",
       "\n",
       "    <body style=\"font-size: 16px; font-family: -apple-system, BlinkMacSystemFont, 'Segoe UI', Helvetica, Arial, sans-serif, 'Apple Color Emoji', 'Segoe UI Emoji', 'Segoe UI Symbol'; padding: 4rem 2rem; direction: ltr\">\n",
       "<figure style=\"margin-bottom: 6rem\">\n",
       "<div class=\"entities\" style=\"line-height: 2.5; direction: ltr\">For the \n",
       "<mark class=\"entity\" style=\"background: #ddd; padding: 0.45em 0.6em; margin: 0 0.25em; line-height: 1; border-radius: 0.35em;\">\n",
       "    tacos\n",
       "    <span style=\"font-size: 0.8em; font-weight: bold; line-height: 1; border-radius: 0.35em; vertical-align: middle; margin-left: 0.5rem\">INGREDIENT</span>\n",
       "</mark>\n",
       ", you will need \n",
       "<mark class=\"entity\" style=\"background: #e4e7d2; padding: 0.45em 0.6em; margin: 0 0.25em; line-height: 1; border-radius: 0.35em;\">\n",
       "    1 cup\n",
       "    <span style=\"font-size: 0.8em; font-weight: bold; line-height: 1; border-radius: 0.35em; vertical-align: middle; margin-left: 0.5rem\">QUANTITY</span>\n",
       "</mark>\n",
       " of \n",
       "<mark class=\"entity\" style=\"background: #ddd; padding: 0.45em 0.6em; margin: 0 0.25em; line-height: 1; border-radius: 0.35em;\">\n",
       "    salsa\n",
       "    <span style=\"font-size: 0.8em; font-weight: bold; line-height: 1; border-radius: 0.35em; vertical-align: middle; margin-left: 0.5rem\">INGREDIENT</span>\n",
       "</mark>\n",
       ", \n",
       "<mark class=\"entity\" style=\"background: #e4e7d2; padding: 0.45em 0.6em; margin: 0 0.25em; line-height: 1; border-radius: 0.35em;\">\n",
       "    2 tablespoon\n",
       "    <span style=\"font-size: 0.8em; font-weight: bold; line-height: 1; border-radius: 0.35em; vertical-align: middle; margin-left: 0.5rem\">QUANTITY</span>\n",
       "</mark>\n",
       " of chopped \n",
       "<mark class=\"entity\" style=\"background: #ddd; padding: 0.45em 0.6em; margin: 0 0.25em; line-height: 1; border-radius: 0.35em;\">\n",
       "    cilantro\n",
       "    <span style=\"font-size: 0.8em; font-weight: bold; line-height: 1; border-radius: 0.35em; vertical-align: middle; margin-left: 0.5rem\">INGREDIENT</span>\n",
       "</mark>\n",
       ", and \n",
       "<mark class=\"entity\" style=\"background: #e4e7d2; padding: 0.45em 0.6em; margin: 0 0.25em; line-height: 1; border-radius: 0.35em;\">\n",
       "    1 teaspoon\n",
       "    <span style=\"font-size: 0.8em; font-weight: bold; line-height: 1; border-radius: 0.35em; vertical-align: middle; margin-left: 0.5rem\">QUANTITY</span>\n",
       "</mark>\n",
       " of \n",
       "<mark class=\"entity\" style=\"background: #ddd; padding: 0.45em 0.6em; margin: 0 0.25em; line-height: 1; border-radius: 0.35em;\">\n",
       "    chili powder\n",
       "    <span style=\"font-size: 0.8em; font-weight: bold; line-height: 1; border-radius: 0.35em; vertical-align: middle; margin-left: 0.5rem\">INGREDIENT</span>\n",
       "</mark>\n",
       ". Serve the \n",
       "<mark class=\"entity\" style=\"background: #ddd; padding: 0.45em 0.6em; margin: 0 0.25em; line-height: 1; border-radius: 0.35em;\">\n",
       "    tacos\n",
       "    <span style=\"font-size: 0.8em; font-weight: bold; line-height: 1; border-radius: 0.35em; vertical-align: middle; margin-left: 0.5rem\">INGREDIENT</span>\n",
       "</mark>\n",
       " with \n",
       "<mark class=\"entity\" style=\"background: #e4e7d2; padding: 0.45em 0.6em; margin: 0 0.25em; line-height: 1; border-radius: 0.35em;\">\n",
       "    1 pound\n",
       "    <span style=\"font-size: 0.8em; font-weight: bold; line-height: 1; border-radius: 0.35em; vertical-align: middle; margin-left: 0.5rem\">QUANTITY</span>\n",
       "</mark>\n",
       " of \n",
       "<mark class=\"entity\" style=\"background: #ddd; padding: 0.45em 0.6em; margin: 0 0.25em; line-height: 1; border-radius: 0.35em;\">\n",
       "    ground beef\n",
       "    <span style=\"font-size: 0.8em; font-weight: bold; line-height: 1; border-radius: 0.35em; vertical-align: middle; margin-left: 0.5rem\">INGREDIENT</span>\n",
       "</mark>\n",
       ", and garnish with \n",
       "<mark class=\"entity\" style=\"background: #e4e7d2; padding: 0.45em 0.6em; margin: 0 0.25em; line-height: 1; border-radius: 0.35em;\">\n",
       "    0.5 cup\n",
       "    <span style=\"font-size: 0.8em; font-weight: bold; line-height: 1; border-radius: 0.35em; vertical-align: middle; margin-left: 0.5rem\">QUANTITY</span>\n",
       "</mark>\n",
       " of \n",
       "<mark class=\"entity\" style=\"background: #ddd; padding: 0.45em 0.6em; margin: 0 0.25em; line-height: 1; border-radius: 0.35em;\">\n",
       "    shredded cheese\n",
       "    <span style=\"font-size: 0.8em; font-weight: bold; line-height: 1; border-radius: 0.35em; vertical-align: middle; margin-left: 0.5rem\">INGREDIENT</span>\n",
       "</mark>\n",
       ".</div>\n",
       "</figure>\n",
       "</body>\n",
       "</html></span>"
      ],
      "text/plain": [
       "<IPython.core.display.HTML object>"
      ]
     },
     "metadata": {},
     "output_type": "display_data"
    },
    {
     "name": "stdout",
     "output_type": "stream",
     "text": [
      "\n",
      "--------------------------------------------------\n",
      "\n",
      "Recipe: Italian Margherita Pizza\n",
      "Visualizing Entities for Italian Margherita Pizza\n"
     ]
    },
    {
     "data": {
      "text/html": [
       "<span class=\"tex2jax_ignore\"><!DOCTYPE html>\n",
       "<html lang=\"en\">\n",
       "    <head>\n",
       "        <title>displaCy</title>\n",
       "    </head>\n",
       "\n",
       "    <body style=\"font-size: 16px; font-family: -apple-system, BlinkMacSystemFont, 'Segoe UI', Helvetica, Arial, sans-serif, 'Apple Color Emoji', 'Segoe UI Emoji', 'Segoe UI Symbol'; padding: 4rem 2rem; direction: ltr\">\n",
       "<figure style=\"margin-bottom: 6rem\">\n",
       "<div class=\"entities\" style=\"line-height: 2.5; direction: ltr\">For the \n",
       "<mark class=\"entity\" style=\"background: #ddd; padding: 0.45em 0.6em; margin: 0 0.25em; line-height: 1; border-radius: 0.35em;\">\n",
       "    pizza\n",
       "    <span style=\"font-size: 0.8em; font-weight: bold; line-height: 1; border-radius: 0.35em; vertical-align: middle; margin-left: 0.5rem\">INGREDIENT</span>\n",
       "</mark>\n",
       ", you'll need \n",
       "<mark class=\"entity\" style=\"background: #e4e7d2; padding: 0.45em 0.6em; margin: 0 0.25em; line-height: 1; border-radius: 0.35em;\">\n",
       "    200 gram\n",
       "    <span style=\"font-size: 0.8em; font-weight: bold; line-height: 1; border-radius: 0.35em; vertical-align: middle; margin-left: 0.5rem\">QUANTITY</span>\n",
       "</mark>\n",
       " of \n",
       "<mark class=\"entity\" style=\"background: #ddd; padding: 0.45em 0.6em; margin: 0 0.25em; line-height: 1; border-radius: 0.35em;\">\n",
       "    mozzarella cheese\n",
       "    <span style=\"font-size: 0.8em; font-weight: bold; line-height: 1; border-radius: 0.35em; vertical-align: middle; margin-left: 0.5rem\">INGREDIENT</span>\n",
       "</mark>\n",
       ", \n",
       "<mark class=\"entity\" style=\"background: #e4e7d2; padding: 0.45em 0.6em; margin: 0 0.25em; line-height: 1; border-radius: 0.35em;\">\n",
       "    1 cup\n",
       "    <span style=\"font-size: 0.8em; font-weight: bold; line-height: 1; border-radius: 0.35em; vertical-align: middle; margin-left: 0.5rem\">QUANTITY</span>\n",
       "</mark>\n",
       " of \n",
       "<mark class=\"entity\" style=\"background: #ddd; padding: 0.45em 0.6em; margin: 0 0.25em; line-height: 1; border-radius: 0.35em;\">\n",
       "    tomato sauce\n",
       "    <span style=\"font-size: 0.8em; font-weight: bold; line-height: 1; border-radius: 0.35em; vertical-align: middle; margin-left: 0.5rem\">INGREDIENT</span>\n",
       "</mark>\n",
       ", and \n",
       "<mark class=\"entity\" style=\"background: #e4e7d2; padding: 0.45em 0.6em; margin: 0 0.25em; line-height: 1; border-radius: 0.35em;\">\n",
       "    2 teaspoon\n",
       "    <span style=\"font-size: 0.8em; font-weight: bold; line-height: 1; border-radius: 0.35em; vertical-align: middle; margin-left: 0.5rem\">QUANTITY</span>\n",
       "</mark>\n",
       " of dried \n",
       "<mark class=\"entity\" style=\"background: #ddd; padding: 0.45em 0.6em; margin: 0 0.25em; line-height: 1; border-radius: 0.35em;\">\n",
       "    oregano\n",
       "    <span style=\"font-size: 0.8em; font-weight: bold; line-height: 1; border-radius: 0.35em; vertical-align: middle; margin-left: 0.5rem\">INGREDIENT</span>\n",
       "</mark>\n",
       ". Use \n",
       "<mark class=\"entity\" style=\"background: #e4e7d2; padding: 0.45em 0.6em; margin: 0 0.25em; line-height: 1; border-radius: 0.35em;\">\n",
       "    1 tablespoon\n",
       "    <span style=\"font-size: 0.8em; font-weight: bold; line-height: 1; border-radius: 0.35em; vertical-align: middle; margin-left: 0.5rem\">QUANTITY</span>\n",
       "</mark>\n",
       " of \n",
       "<mark class=\"entity\" style=\"background: #ddd; padding: 0.45em 0.6em; margin: 0 0.25em; line-height: 1; border-radius: 0.35em;\">\n",
       "    olive oil\n",
       "    <span style=\"font-size: 0.8em; font-weight: bold; line-height: 1; border-radius: 0.35em; vertical-align: middle; margin-left: 0.5rem\">INGREDIENT</span>\n",
       "</mark>\n",
       " to coat the dough before baking.</div>\n",
       "</figure>\n",
       "</body>\n",
       "</html></span>"
      ],
      "text/plain": [
       "<IPython.core.display.HTML object>"
      ]
     },
     "metadata": {},
     "output_type": "display_data"
    },
    {
     "name": "stdout",
     "output_type": "stream",
     "text": [
      "\n",
      "--------------------------------------------------\n",
      "\n",
      "Recipe: American Pancakes\n",
      "Visualizing Entities for American Pancakes\n"
     ]
    },
    {
     "data": {
      "text/html": [
       "<span class=\"tex2jax_ignore\"><!DOCTYPE html>\n",
       "<html lang=\"en\">\n",
       "    <head>\n",
       "        <title>displaCy</title>\n",
       "    </head>\n",
       "\n",
       "    <body style=\"font-size: 16px; font-family: -apple-system, BlinkMacSystemFont, 'Segoe UI', Helvetica, Arial, sans-serif, 'Apple Color Emoji', 'Segoe UI Emoji', 'Segoe UI Symbol'; padding: 4rem 2rem; direction: ltr\">\n",
       "<figure style=\"margin-bottom: 6rem\">\n",
       "<div class=\"entities\" style=\"line-height: 2.5; direction: ltr\">To make pancakes, combine \n",
       "<mark class=\"entity\" style=\"background: #e4e7d2; padding: 0.45em 0.6em; margin: 0 0.25em; line-height: 1; border-radius: 0.35em;\">\n",
       "    1 cup\n",
       "    <span style=\"font-size: 0.8em; font-weight: bold; line-height: 1; border-radius: 0.35em; vertical-align: middle; margin-left: 0.5rem\">QUANTITY</span>\n",
       "</mark>\n",
       " of \n",
       "<mark class=\"entity\" style=\"background: #ddd; padding: 0.45em 0.6em; margin: 0 0.25em; line-height: 1; border-radius: 0.35em;\">\n",
       "    flour\n",
       "    <span style=\"font-size: 0.8em; font-weight: bold; line-height: 1; border-radius: 0.35em; vertical-align: middle; margin-left: 0.5rem\">INGREDIENT</span>\n",
       "</mark>\n",
       ", \n",
       "<mark class=\"entity\" style=\"background: #e4e7d2; padding: 0.45em 0.6em; margin: 0 0.25em; line-height: 1; border-radius: 0.35em;\">\n",
       "    2 tablespoon\n",
       "    <span style=\"font-size: 0.8em; font-weight: bold; line-height: 1; border-radius: 0.35em; vertical-align: middle; margin-left: 0.5rem\">QUANTITY</span>\n",
       "</mark>\n",
       " of \n",
       "<mark class=\"entity\" style=\"background: #ddd; padding: 0.45em 0.6em; margin: 0 0.25em; line-height: 1; border-radius: 0.35em;\">\n",
       "    sugar\n",
       "    <span style=\"font-size: 0.8em; font-weight: bold; line-height: 1; border-radius: 0.35em; vertical-align: middle; margin-left: 0.5rem\">INGREDIENT</span>\n",
       "</mark>\n",
       ", and \n",
       "<mark class=\"entity\" style=\"background: #e4e7d2; padding: 0.45em 0.6em; margin: 0 0.25em; line-height: 1; border-radius: 0.35em;\">\n",
       "    1 teaspoon\n",
       "    <span style=\"font-size: 0.8em; font-weight: bold; line-height: 1; border-radius: 0.35em; vertical-align: middle; margin-left: 0.5rem\">QUANTITY</span>\n",
       "</mark>\n",
       " of \n",
       "<mark class=\"entity\" style=\"background: #ddd; padding: 0.45em 0.6em; margin: 0 0.25em; line-height: 1; border-radius: 0.35em;\">\n",
       "    vanilla extract\n",
       "    <span style=\"font-size: 0.8em; font-weight: bold; line-height: 1; border-radius: 0.35em; vertical-align: middle; margin-left: 0.5rem\">INGREDIENT</span>\n",
       "</mark>\n",
       ". Add \n",
       "<mark class=\"entity\" style=\"background: #e4e7d2; padding: 0.45em 0.6em; margin: 0 0.25em; line-height: 1; border-radius: 0.35em;\">\n",
       "    0.5 cup\n",
       "    <span style=\"font-size: 0.8em; font-weight: bold; line-height: 1; border-radius: 0.35em; vertical-align: middle; margin-left: 0.5rem\">QUANTITY</span>\n",
       "</mark>\n",
       " of \n",
       "<mark class=\"entity\" style=\"background: #ddd; padding: 0.45em 0.6em; margin: 0 0.25em; line-height: 1; border-radius: 0.35em;\">\n",
       "    milk\n",
       "    <span style=\"font-size: 0.8em; font-weight: bold; line-height: 1; border-radius: 0.35em; vertical-align: middle; margin-left: 0.5rem\">INGREDIENT</span>\n",
       "</mark>\n",
       " and \n",
       "<mark class=\"entity\" style=\"background: #e4e7d2; padding: 0.45em 0.6em; margin: 0 0.25em; line-height: 1; border-radius: 0.35em;\">\n",
       "    0.5 cup\n",
       "    <span style=\"font-size: 0.8em; font-weight: bold; line-height: 1; border-radius: 0.35em; vertical-align: middle; margin-left: 0.5rem\">QUANTITY</span>\n",
       "</mark>\n",
       " of melted \n",
       "<mark class=\"entity\" style=\"background: #ddd; padding: 0.45em 0.6em; margin: 0 0.25em; line-height: 1; border-radius: 0.35em;\">\n",
       "    butter\n",
       "    <span style=\"font-size: 0.8em; font-weight: bold; line-height: 1; border-radius: 0.35em; vertical-align: middle; margin-left: 0.5rem\">INGREDIENT</span>\n",
       "</mark>\n",
       " to the batter, then cook on a hot griddle.</div>\n",
       "</figure>\n",
       "</body>\n",
       "</html></span>"
      ],
      "text/plain": [
       "<IPython.core.display.HTML object>"
      ]
     },
     "metadata": {},
     "output_type": "display_data"
    },
    {
     "name": "stdout",
     "output_type": "stream",
     "text": [
      "\n",
      "--------------------------------------------------\n",
      "\n",
      "Recipe: Chinese Fried Rice\n",
      "Visualizing Entities for Chinese Fried Rice\n"
     ]
    },
    {
     "data": {
      "text/html": [
       "<span class=\"tex2jax_ignore\"><!DOCTYPE html>\n",
       "<html lang=\"en\">\n",
       "    <head>\n",
       "        <title>displaCy</title>\n",
       "    </head>\n",
       "\n",
       "    <body style=\"font-size: 16px; font-family: -apple-system, BlinkMacSystemFont, 'Segoe UI', Helvetica, Arial, sans-serif, 'Apple Color Emoji', 'Segoe UI Emoji', 'Segoe UI Symbol'; padding: 4rem 2rem; direction: ltr\">\n",
       "<figure style=\"margin-bottom: 6rem\">\n",
       "<div class=\"entities\" style=\"line-height: 2.5; direction: ltr\">For the fried \n",
       "<mark class=\"entity\" style=\"background: #ddd; padding: 0.45em 0.6em; margin: 0 0.25em; line-height: 1; border-radius: 0.35em;\">\n",
       "    rice\n",
       "    <span style=\"font-size: 0.8em; font-weight: bold; line-height: 1; border-radius: 0.35em; vertical-align: middle; margin-left: 0.5rem\">INGREDIENT</span>\n",
       "</mark>\n",
       ", start with 2 cups of \n",
       "<mark class=\"entity\" style=\"background: #ddd; padding: 0.45em 0.6em; margin: 0 0.25em; line-height: 1; border-radius: 0.35em;\">\n",
       "    cooked rice\n",
       "    <span style=\"font-size: 0.8em; font-weight: bold; line-height: 1; border-radius: 0.35em; vertical-align: middle; margin-left: 0.5rem\">INGREDIENT</span>\n",
       "</mark>\n",
       ", \n",
       "<mark class=\"entity\" style=\"background: #e4e7d2; padding: 0.45em 0.6em; margin: 0 0.25em; line-height: 1; border-radius: 0.35em;\">\n",
       "    0.5 cup\n",
       "    <span style=\"font-size: 0.8em; font-weight: bold; line-height: 1; border-radius: 0.35em; vertical-align: middle; margin-left: 0.5rem\">QUANTITY</span>\n",
       "</mark>\n",
       " of \n",
       "<mark class=\"entity\" style=\"background: #ddd; padding: 0.45em 0.6em; margin: 0 0.25em; line-height: 1; border-radius: 0.35em;\">\n",
       "    peas\n",
       "    <span style=\"font-size: 0.8em; font-weight: bold; line-height: 1; border-radius: 0.35em; vertical-align: middle; margin-left: 0.5rem\">INGREDIENT</span>\n",
       "</mark>\n",
       " and \n",
       "<mark class=\"entity\" style=\"background: #ddd; padding: 0.45em 0.6em; margin: 0 0.25em; line-height: 1; border-radius: 0.35em;\">\n",
       "    carrots\n",
       "    <span style=\"font-size: 0.8em; font-weight: bold; line-height: 1; border-radius: 0.35em; vertical-align: middle; margin-left: 0.5rem\">INGREDIENT</span>\n",
       "</mark>\n",
       ", and \n",
       "<mark class=\"entity\" style=\"background: #e4e7d2; padding: 0.45em 0.6em; margin: 0 0.25em; line-height: 1; border-radius: 0.35em;\">\n",
       "    2 tablespoon\n",
       "    <span style=\"font-size: 0.8em; font-weight: bold; line-height: 1; border-radius: 0.35em; vertical-align: middle; margin-left: 0.5rem\">QUANTITY</span>\n",
       "</mark>\n",
       " of \n",
       "<mark class=\"entity\" style=\"background: #ddd; padding: 0.45em 0.6em; margin: 0 0.25em; line-height: 1; border-radius: 0.35em;\">\n",
       "    soy sauce\n",
       "    <span style=\"font-size: 0.8em; font-weight: bold; line-height: 1; border-radius: 0.35em; vertical-align: middle; margin-left: 0.5rem\">INGREDIENT</span>\n",
       "</mark>\n",
       ". Add \n",
       "<mark class=\"entity\" style=\"background: #e4e7d2; padding: 0.45em 0.6em; margin: 0 0.25em; line-height: 1; border-radius: 0.35em;\">\n",
       "    0.5 cup\n",
       "    <span style=\"font-size: 0.8em; font-weight: bold; line-height: 1; border-radius: 0.35em; vertical-align: middle; margin-left: 0.5rem\">QUANTITY</span>\n",
       "</mark>\n",
       " of \n",
       "<mark class=\"entity\" style=\"background: #ddd; padding: 0.45em 0.6em; margin: 0 0.25em; line-height: 1; border-radius: 0.35em;\">\n",
       "    chopped green\n",
       "    <span style=\"font-size: 0.8em; font-weight: bold; line-height: 1; border-radius: 0.35em; vertical-align: middle; margin-left: 0.5rem\">INGREDIENT</span>\n",
       "</mark>\n",
       " \n",
       "<mark class=\"entity\" style=\"background: #ddd; padding: 0.45em 0.6em; margin: 0 0.25em; line-height: 1; border-radius: 0.35em;\">\n",
       "    onions\n",
       "    <span style=\"font-size: 0.8em; font-weight: bold; line-height: 1; border-radius: 0.35em; vertical-align: middle; margin-left: 0.5rem\">INGREDIENT</span>\n",
       "</mark>\n",
       " and \n",
       "<mark class=\"entity\" style=\"background: #e4e7d2; padding: 0.45em 0.6em; margin: 0 0.25em; line-height: 1; border-radius: 0.35em;\">\n",
       "    1 teaspoon\n",
       "    <span style=\"font-size: 0.8em; font-weight: bold; line-height: 1; border-radius: 0.35em; vertical-align: middle; margin-left: 0.5rem\">QUANTITY</span>\n",
       "</mark>\n",
       " of \n",
       "<mark class=\"entity\" style=\"background: #ddd; padding: 0.45em 0.6em; margin: 0 0.25em; line-height: 1; border-radius: 0.35em;\">\n",
       "    sesame oil\n",
       "    <span style=\"font-size: 0.8em; font-weight: bold; line-height: 1; border-radius: 0.35em; vertical-align: middle; margin-left: 0.5rem\">INGREDIENT</span>\n",
       "</mark>\n",
       ". Stir-fry until golden.</div>\n",
       "</figure>\n",
       "</body>\n",
       "</html></span>"
      ],
      "text/plain": [
       "<IPython.core.display.HTML object>"
      ]
     },
     "metadata": {},
     "output_type": "display_data"
    },
    {
     "name": "stdout",
     "output_type": "stream",
     "text": [
      "\n",
      "--------------------------------------------------\n",
      "\n",
      "Recipe: Japanese Ramen\n",
      "Visualizing Entities for Japanese Ramen\n"
     ]
    },
    {
     "data": {
      "text/html": [
       "<span class=\"tex2jax_ignore\"><!DOCTYPE html>\n",
       "<html lang=\"en\">\n",
       "    <head>\n",
       "        <title>displaCy</title>\n",
       "    </head>\n",
       "\n",
       "    <body style=\"font-size: 16px; font-family: -apple-system, BlinkMacSystemFont, 'Segoe UI', Helvetica, Arial, sans-serif, 'Apple Color Emoji', 'Segoe UI Emoji', 'Segoe UI Symbol'; padding: 4rem 2rem; direction: ltr\">\n",
       "<figure style=\"margin-bottom: 6rem\">\n",
       "<div class=\"entities\" style=\"line-height: 2.5; direction: ltr\">For the \n",
       "<mark class=\"entity\" style=\"background: #ddd; padding: 0.45em 0.6em; margin: 0 0.25em; line-height: 1; border-radius: 0.35em;\">\n",
       "    ramen\n",
       "    <span style=\"font-size: 0.8em; font-weight: bold; line-height: 1; border-radius: 0.35em; vertical-align: middle; margin-left: 0.5rem\">INGREDIENT</span>\n",
       "</mark>\n",
       ", heat \n",
       "<mark class=\"entity\" style=\"background: #e4e7d2; padding: 0.45em 0.6em; margin: 0 0.25em; line-height: 1; border-radius: 0.35em;\">\n",
       "    1 liter\n",
       "    <span style=\"font-size: 0.8em; font-weight: bold; line-height: 1; border-radius: 0.35em; vertical-align: middle; margin-left: 0.5rem\">QUANTITY</span>\n",
       "</mark>\n",
       " of \n",
       "<mark class=\"entity\" style=\"background: #ddd; padding: 0.45em 0.6em; margin: 0 0.25em; line-height: 1; border-radius: 0.35em;\">\n",
       "    chicken broth\n",
       "    <span style=\"font-size: 0.8em; font-weight: bold; line-height: 1; border-radius: 0.35em; vertical-align: middle; margin-left: 0.5rem\">INGREDIENT</span>\n",
       "</mark>\n",
       " and add 2 tablespoons of \n",
       "<mark class=\"entity\" style=\"background: #ddd; padding: 0.45em 0.6em; margin: 0 0.25em; line-height: 1; border-radius: 0.35em;\">\n",
       "    soy sauce\n",
       "    <span style=\"font-size: 0.8em; font-weight: bold; line-height: 1; border-radius: 0.35em; vertical-align: middle; margin-left: 0.5rem\">INGREDIENT</span>\n",
       "</mark>\n",
       ". Add 3 ounces of \n",
       "<mark class=\"entity\" style=\"background: #ddd; padding: 0.45em 0.6em; margin: 0 0.25em; line-height: 1; border-radius: 0.35em;\">\n",
       "    ramen noodles\n",
       "    <span style=\"font-size: 0.8em; font-weight: bold; line-height: 1; border-radius: 0.35em; vertical-align: middle; margin-left: 0.5rem\">INGREDIENT</span>\n",
       "</mark>\n",
       " and \n",
       "<mark class=\"entity\" style=\"background: #e4e7d2; padding: 0.45em 0.6em; margin: 0 0.25em; line-height: 1; border-radius: 0.35em;\">\n",
       "    0.5 teaspoon\n",
       "    <span style=\"font-size: 0.8em; font-weight: bold; line-height: 1; border-radius: 0.35em; vertical-align: middle; margin-left: 0.5rem\">QUANTITY</span>\n",
       "</mark>\n",
       " of \n",
       "<mark class=\"entity\" style=\"background: #ddd; padding: 0.45em 0.6em; margin: 0 0.25em; line-height: 1; border-radius: 0.35em;\">\n",
       "    miso paste\n",
       "    <span style=\"font-size: 0.8em; font-weight: bold; line-height: 1; border-radius: 0.35em; vertical-align: middle; margin-left: 0.5rem\">INGREDIENT</span>\n",
       "</mark>\n",
       ". Simmer for 10 minutes, then garnish with \n",
       "<mark class=\"entity\" style=\"background: #e4e7d2; padding: 0.45em 0.6em; margin: 0 0.25em; line-height: 1; border-radius: 0.35em;\">\n",
       "    0.25 cup\n",
       "    <span style=\"font-size: 0.8em; font-weight: bold; line-height: 1; border-radius: 0.35em; vertical-align: middle; margin-left: 0.5rem\">QUANTITY</span>\n",
       "</mark>\n",
       " of \n",
       "<mark class=\"entity\" style=\"background: #ddd; padding: 0.45em 0.6em; margin: 0 0.25em; line-height: 1; border-radius: 0.35em;\">\n",
       "    chopped green\n",
       "    <span style=\"font-size: 0.8em; font-weight: bold; line-height: 1; border-radius: 0.35em; vertical-align: middle; margin-left: 0.5rem\">INGREDIENT</span>\n",
       "</mark>\n",
       " \n",
       "<mark class=\"entity\" style=\"background: #ddd; padding: 0.45em 0.6em; margin: 0 0.25em; line-height: 1; border-radius: 0.35em;\">\n",
       "    onions\n",
       "    <span style=\"font-size: 0.8em; font-weight: bold; line-height: 1; border-radius: 0.35em; vertical-align: middle; margin-left: 0.5rem\">INGREDIENT</span>\n",
       "</mark>\n",
       ".</div>\n",
       "</figure>\n",
       "</body>\n",
       "</html></span>"
      ],
      "text/plain": [
       "<IPython.core.display.HTML object>"
      ]
     },
     "metadata": {},
     "output_type": "display_data"
    },
    {
     "name": "stdout",
     "output_type": "stream",
     "text": [
      "\n",
      "--------------------------------------------------\n",
      "\n",
      "Recipe: Indian Chole Bhature\n",
      "Visualizing Entities for Indian Chole Bhature\n"
     ]
    },
    {
     "data": {
      "text/html": [
       "<span class=\"tex2jax_ignore\"><!DOCTYPE html>\n",
       "<html lang=\"en\">\n",
       "    <head>\n",
       "        <title>displaCy</title>\n",
       "    </head>\n",
       "\n",
       "    <body style=\"font-size: 16px; font-family: -apple-system, BlinkMacSystemFont, 'Segoe UI', Helvetica, Arial, sans-serif, 'Apple Color Emoji', 'Segoe UI Emoji', 'Segoe UI Symbol'; padding: 4rem 2rem; direction: ltr\">\n",
       "<figure style=\"margin-bottom: 6rem\">\n",
       "<div class=\"entities\" style=\"line-height: 2.5; direction: ltr\">For the chole, cook \n",
       "<mark class=\"entity\" style=\"background: #e4e7d2; padding: 0.45em 0.6em; margin: 0 0.25em; line-height: 1; border-radius: 0.35em;\">\n",
       "    1 cup\n",
       "    <span style=\"font-size: 0.8em; font-weight: bold; line-height: 1; border-radius: 0.35em; vertical-align: middle; margin-left: 0.5rem\">QUANTITY</span>\n",
       "</mark>\n",
       " of \n",
       "<mark class=\"entity\" style=\"background: #ddd; padding: 0.45em 0.6em; margin: 0 0.25em; line-height: 1; border-radius: 0.35em;\">\n",
       "    chickpeas\n",
       "    <span style=\"font-size: 0.8em; font-weight: bold; line-height: 1; border-radius: 0.35em; vertical-align: middle; margin-left: 0.5rem\">INGREDIENT</span>\n",
       "</mark>\n",
       " and mix with \n",
       "<mark class=\"entity\" style=\"background: #e4e7d2; padding: 0.45em 0.6em; margin: 0 0.25em; line-height: 1; border-radius: 0.35em;\">\n",
       "    2 tablespoon\n",
       "    <span style=\"font-size: 0.8em; font-weight: bold; line-height: 1; border-radius: 0.35em; vertical-align: middle; margin-left: 0.5rem\">QUANTITY</span>\n",
       "</mark>\n",
       " of \n",
       "<mark class=\"entity\" style=\"background: #ddd; padding: 0.45em 0.6em; margin: 0 0.25em; line-height: 1; border-radius: 0.35em;\">\n",
       "    cumin powder\n",
       "    <span style=\"font-size: 0.8em; font-weight: bold; line-height: 1; border-radius: 0.35em; vertical-align: middle; margin-left: 0.5rem\">INGREDIENT</span>\n",
       "</mark>\n",
       " and \n",
       "<mark class=\"entity\" style=\"background: #e4e7d2; padding: 0.45em 0.6em; margin: 0 0.25em; line-height: 1; border-radius: 0.35em;\">\n",
       "    1 teaspoon\n",
       "    <span style=\"font-size: 0.8em; font-weight: bold; line-height: 1; border-radius: 0.35em; vertical-align: middle; margin-left: 0.5rem\">QUANTITY</span>\n",
       "</mark>\n",
       " of \n",
       "<mark class=\"entity\" style=\"background: #ddd; padding: 0.45em 0.6em; margin: 0 0.25em; line-height: 1; border-radius: 0.35em;\">\n",
       "    coriander powder\n",
       "    <span style=\"font-size: 0.8em; font-weight: bold; line-height: 1; border-radius: 0.35em; vertical-align: middle; margin-left: 0.5rem\">INGREDIENT</span>\n",
       "</mark>\n",
       ". Serve with \n",
       "<mark class=\"entity\" style=\"background: #e4e7d2; padding: 0.45em 0.6em; margin: 0 0.25em; line-height: 1; border-radius: 0.35em;\">\n",
       "    1 teaspoon\n",
       "    <span style=\"font-size: 0.8em; font-weight: bold; line-height: 1; border-radius: 0.35em; vertical-align: middle; margin-left: 0.5rem\">QUANTITY</span>\n",
       "</mark>\n",
       " of \n",
       "<mark class=\"entity\" style=\"background: #ddd; padding: 0.45em 0.6em; margin: 0 0.25em; line-height: 1; border-radius: 0.35em;\">\n",
       "    garam masala\n",
       "    <span style=\"font-size: 0.8em; font-weight: bold; line-height: 1; border-radius: 0.35em; vertical-align: middle; margin-left: 0.5rem\">INGREDIENT</span>\n",
       "</mark>\n",
       " and \n",
       "<mark class=\"entity\" style=\"background: #e4e7d2; padding: 0.45em 0.6em; margin: 0 0.25em; line-height: 1; border-radius: 0.35em;\">\n",
       "    0.5 cup\n",
       "    <span style=\"font-size: 0.8em; font-weight: bold; line-height: 1; border-radius: 0.35em; vertical-align: middle; margin-left: 0.5rem\">QUANTITY</span>\n",
       "</mark>\n",
       " of chopped \n",
       "<mark class=\"entity\" style=\"background: #ddd; padding: 0.45em 0.6em; margin: 0 0.25em; line-height: 1; border-radius: 0.35em;\">\n",
       "    cilantro\n",
       "    <span style=\"font-size: 0.8em; font-weight: bold; line-height: 1; border-radius: 0.35em; vertical-align: middle; margin-left: 0.5rem\">INGREDIENT</span>\n",
       "</mark>\n",
       ". Fry the bhature in \n",
       "<mark class=\"entity\" style=\"background: #e4e7d2; padding: 0.45em 0.6em; margin: 0 0.25em; line-height: 1; border-radius: 0.35em;\">\n",
       "    0.5 cup\n",
       "    <span style=\"font-size: 0.8em; font-weight: bold; line-height: 1; border-radius: 0.35em; vertical-align: middle; margin-left: 0.5rem\">QUANTITY</span>\n",
       "</mark>\n",
       " \n",
       "<mark class=\"entity\" style=\"background: #ddd; padding: 0.45em 0.6em; margin: 0 0.25em; line-height: 1; border-radius: 0.35em;\">\n",
       "    of oil\n",
       "    <span style=\"font-size: 0.8em; font-weight: bold; line-height: 1; border-radius: 0.35em; vertical-align: middle; margin-left: 0.5rem\">INGREDIENT</span>\n",
       "</mark>\n",
       " until golden brown.</div>\n",
       "</figure>\n",
       "</body>\n",
       "</html></span>"
      ],
      "text/plain": [
       "<IPython.core.display.HTML object>"
      ]
     },
     "metadata": {},
     "output_type": "display_data"
    },
    {
     "name": "stdout",
     "output_type": "stream",
     "text": [
      "\n",
      "--------------------------------------------------\n",
      "\n"
     ]
    }
   ],
   "source": [
    "import pandas as pd\n",
    "import spacy\n",
    "from spacy import displacy\n",
    "\n",
    "# Load your SpaCy model\n",
    "nlp = spacy.load(\"ner_model_3\")\n",
    "\n",
    "# List of recipes and their ingredients (with quantities) in the format of raw text\n",
    "recipes = [\n",
    "    {\"recipe_name\": \"Mexican Tacos\", \"recipe_text\": \"For the tacos, you will need 1 cup of salsa, 2 tablespoon of chopped cilantro, and 1 teaspoon of chili powder. Serve the tacos with 1 pound of ground beef, and garnish with 0.5 cup of shredded cheese.\"},\n",
    "    {\"recipe_name\": \"Italian Margherita Pizza\", \"recipe_text\": \"For the pizza, you'll need 200 gram of mozzarella cheese, 1 cup of tomato sauce, and 2 teaspoon of dried oregano. Use 1 tablespoon of olive oil to coat the dough before baking.\"},\n",
    "    {\"recipe_name\": \"American Pancakes\", \"recipe_text\": \"To make pancakes, combine 1 cup of flour, 2 tablespoon of sugar, and 1 teaspoon of vanilla extract. Add 0.5 cup of milk and 0.5 cup of melted butter to the batter, then cook on a hot griddle.\"},\n",
    "    {\"recipe_name\": \"Chinese Fried Rice\", \"recipe_text\": \"For the fried rice, start with 2 cups of cooked rice, 0.5 cup of peas and carrots, and 2 tablespoon of soy sauce. Add 0.5 cup of chopped green onions and 1 teaspoon of sesame oil. Stir-fry until golden.\"},\n",
    "    {\"recipe_name\": \"Japanese Ramen\", \"recipe_text\": \"For the ramen, heat 1 liter of chicken broth and add 2 tablespoons of soy sauce. Add 3 ounces of ramen noodles and 0.5 teaspoon of miso paste. Simmer for 10 minutes, then garnish with 0.25 cup of chopped green onions.\"},\n",
    "    {\"recipe_name\": \"Indian Chole Bhature\", \"recipe_text\": \"For the chole, cook 1 cup of chickpeas and mix with 2 tablespoon of cumin powder and 1 teaspoon of coriander powder. Serve with 1 teaspoon of garam masala and 0.5 cup of chopped cilantro. Fry the bhature in 0.5 cup of oil until golden brown.\"}\n",
    "]\n",
    "\n",
    "# Convert recipes into a DataFrame\n",
    "df_recipes = pd.DataFrame(recipes)\n",
    "\n",
    "# Assuming you have a trained NER model (nlp), we can iterate over the recipes and display using displacy\n",
    "for index, row in df_recipes.iterrows():\n",
    "    recipe_text = row['recipe_text']\n",
    "    recipe_name = row['recipe_name']\n",
    "\n",
    "    # Process the recipe text through the model\n",
    "    doc = nlp(recipe_text)\n",
    "\n",
    "    # Print the recipe name\n",
    "    print(f\"Recipe: {recipe_name}\")\n",
    "\n",
    "    # Visualize the identified entities using displacy\n",
    "    print(f\"Visualizing Entities for {recipe_name}\")\n",
    "    displacy.render(doc, style='ent', page=True)  # page=True will open it in the browser or a Jupyter notebook\n",
    "\n",
    "    # Add a line for separation between recipes\n",
    "    print(\"\\n\" + \"-\"*50 + \"\\n\")\n"
   ]
  },
  {
   "cell_type": "code",
   "execution_count": null,
   "id": "0fc787c7-3798-4335-ba02-db00401e8254",
   "metadata": {},
   "outputs": [],
   "source": []
  }
 ],
 "metadata": {
  "accelerator": "GPU",
  "colab": {
   "gpuType": "T4",
   "provenance": []
  },
  "kernelspec": {
   "display_name": "Python 3 (ipykernel)",
   "language": "python",
   "name": "python3"
  },
  "language_info": {
   "codemirror_mode": {
    "name": "ipython",
    "version": 3
   },
   "file_extension": ".py",
   "mimetype": "text/x-python",
   "name": "python",
   "nbconvert_exporter": "python",
   "pygments_lexer": "ipython3",
   "version": "3.12.4"
  }
 },
 "nbformat": 4,
 "nbformat_minor": 5
}
