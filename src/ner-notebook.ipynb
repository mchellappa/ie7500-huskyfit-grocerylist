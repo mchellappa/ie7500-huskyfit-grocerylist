{
 "cells": [
  {
   "cell_type": "markdown",
   "id": "zVYweh8LlURd",
   "metadata": {
    "id": "zVYweh8LlURd"
   },
   "source": [
    "## Named Entity Recognition\n",
    "\n",
    "Named Entity Recognition (NER) is used to identify and extract ingredients and their quantities from recipe texts. This technique is essential for automating ingredient extraction, which can be applied to tasks like cuisine classification, recipe recommendations, and ingredient-based analysis."
   ]
  },
  {
   "cell_type": "code",
   "execution_count": 3,
   "id": "2b636db5-c456-4012-aa49-7cc4c49fc5a1",
   "metadata": {
    "executionInfo": {
     "elapsed": 16,
     "status": "ok",
     "timestamp": 1742171105895,
     "user": {
      "displayName": "Jimmy",
      "userId": "05890202490702060509"
     },
     "user_tz": 240
    },
    "id": "2b636db5-c456-4012-aa49-7cc4c49fc5a1"
   },
   "outputs": [],
   "source": [
    "import pandas as pd\n",
    "import numpy as np\n",
    "import spacy\n",
    "from spacy.language import Language\n",
    "from spacy.tokens import Span\n",
    "from spacy.matcher import Matcher\n",
    "from spacy.matcher import PhraseMatcher"
   ]
  },
  {
   "cell_type": "markdown",
   "id": "QU02Z5EMn6Mr",
   "metadata": {
    "id": "QU02Z5EMn6Mr"
   },
   "source": [
    "## Load Data\n",
    "Loading and preprocessing of the recipe data is the first step.\n",
    "The dataset contains raw recipe text along with actual NER labels, which identify the ingredients and the feature that is combined, normalized text obtained after preprocessing"
   ]
  },
  {
   "cell_type": "code",
   "execution_count": null,
   "id": "5f367902-55b3-4630-8341-2f26e62b7f6e",
   "metadata": {
    "id": "5f367902-55b3-4630-8341-2f26e62b7f6e"
   },
   "outputs": [],
   "source": [
    "train_df = pd.read_csv('preprocessed_train_data.csv')"
   ]
  },
  {
   "cell_type": "code",
   "execution_count": null,
   "id": "b6df7a22-d1d7-4260-9dcc-6e7a65b55945",
   "metadata": {
    "colab": {
     "base_uri": "https://localhost:8080/",
     "height": 293
    },
    "executionInfo": {
     "elapsed": 28,
     "status": "ok",
     "timestamp": 1741978836270,
     "user": {
      "displayName": "Jimmy",
      "userId": "05890202490702060509"
     },
     "user_tz": 240
    },
    "id": "b6df7a22-d1d7-4260-9dcc-6e7a65b55945",
    "outputId": "1445892f-8e2c-41e8-ab47-f8cca0b970ff"
   },
   "outputs": [
    {
     "name": "stdout",
     "output_type": "stream",
     "text": [
      "Length of train data is 103271\n"
     ]
    },
    {
     "data": {
      "text/html": [
       "<div>\n",
       "<style scoped>\n",
       "    .dataframe tbody tr th:only-of-type {\n",
       "        vertical-align: middle;\n",
       "    }\n",
       "\n",
       "    .dataframe tbody tr th {\n",
       "        vertical-align: top;\n",
       "    }\n",
       "\n",
       "    .dataframe thead th {\n",
       "        text-align: right;\n",
       "    }\n",
       "</style>\n",
       "<table border=\"1\" class=\"dataframe\">\n",
       "  <thead>\n",
       "    <tr style=\"text-align: right;\">\n",
       "      <th></th>\n",
       "      <th>NER</th>\n",
       "      <th>normalized_combined</th>\n",
       "    </tr>\n",
       "  </thead>\n",
       "  <tbody>\n",
       "    <tr>\n",
       "      <th>0</th>\n",
       "      <td>['sugar', 'vanilla', 'graham cracker crumbs', 'egg whites', 'nuts', 'coconut']</td>\n",
       "      <td>coconut crunch pie 4 egg whites 1 cup nuts 1 cup sugar 1 cup coconut 1 cup graham cracker crumbs 1 teaspoon vanilla beat egg whites until frothy add sugar beat for 1 minute add other ingredients pour into buttered pie pan bake at 350 for 30 minutes top with sliced bananas and cool whip</td>\n",
       "    </tr>\n",
       "    <tr>\n",
       "      <th>1</th>\n",
       "      <td>['creme fraiche', 'lobsters', 'lemon juice', 'leeks', 'sherry vinegar', 'freshly ground black pepper', 'red jalapeno chile', 'red bell pepper', 'lime juice', 'white wine', 'kosher salt', 'yellow heirloom tomatoes', 'orange bell pepper', 'fresh cilantro']</td>\n",
       "      <td>heirloom tomato gazpacho with lobster 8 large yellow heirloom tomatoes about 4 pound peeled and seeded 1 orange bell pepper quartered 1 red bell pepper quartered 1 large or 2 small leeks sliced 1 teaspoon finely chopped red jalapeno chile 0.5 cup sherry vinegar 0.25 cup white wine 1 tablespoon kosher salt 0.5 teaspoon freshly ground black pepper 0.75 cup chopped fresh cilantro divided 2 1.25 pound lobsters steamed and shelled 0.5 cup mexican crema creme fraiche or sour cream 1 tablespoon fresh lime juice 1 tablespoon fresh lemon juice process first 9 ingredients in batches in a blender until smooth stir in 0.5 cup chopped cilantro chill at least 1 hour or up to 1 day slice lobster tails into medallions and split each claw into 2 pieces by cutting across the flat side combine crema lime juice and lemon juice in a small bowl divide gazpacho among 6 bowls top evenly with lobster crema mixture and remaining 0.25 cup cilantro</td>\n",
       "    </tr>\n",
       "    <tr>\n",
       "      <th>2</th>\n",
       "      <td>['lemon juice', 'celery', 'red apples', 'mayonnaise', 'walnuts', 'light cream']</td>\n",
       "      <td>waldorf salad serves 4 3 red apples 2 tablespoon lemon juice 1 cup sliced celery 0.5 cup broken walnuts 0.5 cup mayonnaise 2 tablespoon light cream or milk core and dice apples sprinkle lemon juice add celery and walnuts toss to mix</td>\n",
       "    </tr>\n",
       "    <tr>\n",
       "      <th>3</th>\n",
       "      <td>['pineapple', 'yellow cake']</td>\n",
       "      <td>pineapple cake 1 yellow cake mix 1 large can crushed pineapple make cake as directions indicate or make a cake from scratch let cake cool punch holes in top and spoon pineapple over cake juice and all spread icing recipe following over pineapple</td>\n",
       "    </tr>\n",
       "    <tr>\n",
       "      <th>4</th>\n",
       "      <td>['vinegar', 'sugar', 'vanilla', 'eggs', 'pecans', 'butter', 'dish pie shell']</td>\n",
       "      <td>pecan pie 1 cup sugar 1 stick butter 2 eggs 1 teaspoon vinegar 1 teaspoon vanilla 1 cup chopped pecans 1 deep dish pie shell melt butter mix with sugar add eggs one at a time beating after each blend in vinegar vanilla and pecans pour into deep dish pie shell bake at 350 for 40 45 minutes very quick and easy</td>\n",
       "    </tr>\n",
       "  </tbody>\n",
       "</table>\n",
       "</div>"
      ],
      "text/plain": [
       "                                                                                                                                                                                                                                                              NER  \\\n",
       "0                                                                                                                                                                                  ['sugar', 'vanilla', 'graham cracker crumbs', 'egg whites', 'nuts', 'coconut']   \n",
       "1  ['creme fraiche', 'lobsters', 'lemon juice', 'leeks', 'sherry vinegar', 'freshly ground black pepper', 'red jalapeno chile', 'red bell pepper', 'lime juice', 'white wine', 'kosher salt', 'yellow heirloom tomatoes', 'orange bell pepper', 'fresh cilantro']   \n",
       "2                                                                                                                                                                                 ['lemon juice', 'celery', 'red apples', 'mayonnaise', 'walnuts', 'light cream']   \n",
       "3                                                                                                                                                                                                                                    ['pineapple', 'yellow cake']   \n",
       "4                                                                                                                                                                                   ['vinegar', 'sugar', 'vanilla', 'eggs', 'pecans', 'butter', 'dish pie shell']   \n",
       "\n",
       "                                                                                                                                                                                                                                                                                                                                                                                                                                                                                                                                                                                                                                                                                                                                                                                                                                                                                                                                                      normalized_combined  \n",
       "0                                                                                                                                                                                                                                                                                                                                                                                                                                                                                                                                                                                                                                                                          coconut crunch pie 4 egg whites 1 cup nuts 1 cup sugar 1 cup coconut 1 cup graham cracker crumbs 1 teaspoon vanilla beat egg whites until frothy add sugar beat for 1 minute add other ingredients pour into buttered pie pan bake at 350 for 30 minutes top with sliced bananas and cool whip  \n",
       "1  heirloom tomato gazpacho with lobster 8 large yellow heirloom tomatoes about 4 pound peeled and seeded 1 orange bell pepper quartered 1 red bell pepper quartered 1 large or 2 small leeks sliced 1 teaspoon finely chopped red jalapeno chile 0.5 cup sherry vinegar 0.25 cup white wine 1 tablespoon kosher salt 0.5 teaspoon freshly ground black pepper 0.75 cup chopped fresh cilantro divided 2 1.25 pound lobsters steamed and shelled 0.5 cup mexican crema creme fraiche or sour cream 1 tablespoon fresh lime juice 1 tablespoon fresh lemon juice process first 9 ingredients in batches in a blender until smooth stir in 0.5 cup chopped cilantro chill at least 1 hour or up to 1 day slice lobster tails into medallions and split each claw into 2 pieces by cutting across the flat side combine crema lime juice and lemon juice in a small bowl divide gazpacho among 6 bowls top evenly with lobster crema mixture and remaining 0.25 cup cilantro  \n",
       "2                                                                                                                                                                                                                                                                                                                                                                                                                                                                                                                                                                                                                                                                                                                                waldorf salad serves 4 3 red apples 2 tablespoon lemon juice 1 cup sliced celery 0.5 cup broken walnuts 0.5 cup mayonnaise 2 tablespoon light cream or milk core and dice apples sprinkle lemon juice add celery and walnuts toss to mix  \n",
       "3                                                                                                                                                                                                                                                                                                                                                                                                                                                                                                                                                                                                                                                                                                                   pineapple cake 1 yellow cake mix 1 large can crushed pineapple make cake as directions indicate or make a cake from scratch let cake cool punch holes in top and spoon pineapple over cake juice and all spread icing recipe following over pineapple  \n",
       "4                                                                                                                                                                                                                                                                                                                                                                                                                                                                                                                                                                                                                                                   pecan pie 1 cup sugar 1 stick butter 2 eggs 1 teaspoon vinegar 1 teaspoon vanilla 1 cup chopped pecans 1 deep dish pie shell melt butter mix with sugar add eggs one at a time beating after each blend in vinegar vanilla and pecans pour into deep dish pie shell bake at 350 for 40 45 minutes very quick and easy  "
      ]
     },
     "execution_count": 43,
     "metadata": {},
     "output_type": "execute_result"
    }
   ],
   "source": [
    "print(f'Length of train data is {len(train_df)}')\n",
    "train_df.head()"
   ]
  },
  {
   "cell_type": "code",
   "execution_count": null,
   "id": "917c2d24-1e5b-48b7-bf53-bb79e53e6c28",
   "metadata": {
    "colab": {
     "base_uri": "https://localhost:8080/",
     "height": 160
    },
    "executionInfo": {
     "elapsed": 6,
     "status": "ok",
     "timestamp": 1741978843517,
     "user": {
      "displayName": "Jimmy",
      "userId": "05890202490702060509"
     },
     "user_tz": 240
    },
    "id": "917c2d24-1e5b-48b7-bf53-bb79e53e6c28",
    "outputId": "8f8ee8e2-b12b-40bc-bd0a-8ed01f2be38d"
   },
   "outputs": [
    {
     "data": {
      "text/plain": [
       "'coconut crunch pie 4 egg whites 1 cup nuts 1 cup sugar 1 cup coconut 1 cup graham cracker crumbs 1 teaspoon vanilla beat egg whites until frothy add sugar beat for 1 minute add other ingredients pour into buttered pie pan bake at 350 for 30 minutes top with sliced bananas and cool whip'"
      ]
     },
     "execution_count": 55,
     "metadata": {},
     "output_type": "execute_result"
    }
   ],
   "source": [
    "texts = train_df['normalized_combined'].tolist()\n",
    "texts[0]"
   ]
  },
  {
   "cell_type": "code",
   "execution_count": null,
   "id": "91ec73c4-1fe6-41d1-90c2-769ba2045754",
   "metadata": {
    "colab": {
     "base_uri": "https://localhost:8080/"
    },
    "executionInfo": {
     "elapsed": 34643,
     "status": "ok",
     "timestamp": 1741978880306,
     "user": {
      "displayName": "Jimmy",
      "userId": "05890202490702060509"
     },
     "user_tz": 240
    },
    "id": "91ec73c4-1fe6-41d1-90c2-769ba2045754",
    "outputId": "81b1734a-dc03-4bd3-cfbd-5071a39ed193"
   },
   "outputs": [
    {
     "data": {
      "text/plain": [
       "['sugar', 'vanilla', 'graham cracker crumbs', 'egg whites', 'nuts', 'coconut']"
      ]
     },
     "execution_count": 56,
     "metadata": {},
     "output_type": "execute_result"
    }
   ],
   "source": [
    "ner_tags = train_df['NER'].apply(eval).tolist()\n",
    "ner_tags[0]"
   ]
  },
  {
   "cell_type": "markdown",
   "id": "ZU73YLF5oUBK",
   "metadata": {
    "id": "ZU73YLF5oUBK"
   },
   "source": [
    "## Creating Patterns for Ingredient Extraction:\n",
    "\n",
    "Based on the provided NER labels, patterns are created using SpaCy's Matcher. These patterns help to identify entities related to ingredients and quantities in the recipe texts.  \n",
    "Ingredients are mapped to specific spans (start and end positions) in the text for accurate entity recognition."
   ]
  },
  {
   "cell_type": "code",
   "execution_count": null,
   "id": "17edeb4a-0f33-444b-9f98-e60eb4e4e8b6",
   "metadata": {
    "id": "17edeb4a-0f33-444b-9f98-e60eb4e4e8b6"
   },
   "outputs": [],
   "source": [
    "nlp = spacy.blank(\"en\")\n",
    "\n",
    "# Create a dictionary of terms\n",
    "terms = {}\n",
    "patterns = []\n",
    "\n",
    "for tags in ner_tags:\n",
    "    for tag in tags:\n",
    "        if tag not in terms and tag!='mix':\n",
    "            terms[tag] = {'label': 'INGREDIENT'}\n",
    "            patterns.append(nlp(tag))\n",
    "\n",
    "# Initialize the PhraseMatcher\n",
    "ingredient_matcher = PhraseMatcher(nlp.vocab)\n",
    "ingredient_matcher.add(\"INGREDIENT\", None, *patterns)"
   ]
  },
  {
   "cell_type": "code",
   "execution_count": null,
   "id": "H6-7yZEt8Kjk",
   "metadata": {
    "colab": {
     "base_uri": "https://localhost:8080/"
    },
    "executionInfo": {
     "elapsed": 11,
     "status": "ok",
     "timestamp": 1741978899137,
     "user": {
      "displayName": "Jimmy",
      "userId": "05890202490702060509"
     },
     "user_tz": 240
    },
    "id": "H6-7yZEt8Kjk",
    "outputId": "23c5a59e-8196-40ed-c6a8-6dafce8e20fc"
   },
   "outputs": [
    {
     "data": {
      "text/plain": [
       "[sugar,\n",
       " vanilla,\n",
       " graham cracker crumbs,\n",
       " egg whites,\n",
       " nuts,\n",
       " coconut,\n",
       " creme fraiche,\n",
       " lobsters,\n",
       " lemon juice,\n",
       " leeks,\n",
       " sherry vinegar,\n",
       " freshly ground black pepper,\n",
       " red jalapeno chile,\n",
       " red bell pepper,\n",
       " lime juice,\n",
       " white wine,\n",
       " kosher salt,\n",
       " yellow heirloom tomatoes,\n",
       " orange bell pepper,\n",
       " fresh cilantro]"
      ]
     },
     "execution_count": 62,
     "metadata": {},
     "output_type": "execute_result"
    }
   ],
   "source": [
    "patterns[:20]"
   ]
  },
  {
   "cell_type": "code",
   "execution_count": null,
   "id": "33b1d2e2-4b6c-422f-a1f7-99968341ecac",
   "metadata": {
    "colab": {
     "base_uri": "https://localhost:8080/"
    },
    "executionInfo": {
     "elapsed": 22,
     "status": "ok",
     "timestamp": 1742171873753,
     "user": {
      "displayName": "Jimmy",
      "userId": "05890202490702060509"
     },
     "user_tz": 240
    },
    "id": "33b1d2e2-4b6c-422f-a1f7-99968341ecac",
    "outputId": "1ac8eb00-00e9-402a-f6bb-27cb2c9274a6"
   },
   "outputs": [
    {
     "data": {
      "text/plain": [
       "{'summary': {}, 'problems': {}, 'attrs': {}}"
      ]
     },
     "execution_count": 23,
     "metadata": {},
     "output_type": "execute_result"
    }
   ],
   "source": [
    "#Checking that ner pipes don't have any components added at this stage\n",
    "nlp.analyze_pipes()"
   ]
  },
  {
   "cell_type": "code",
   "execution_count": 24,
   "id": "0Z8j_HYprbKK",
   "metadata": {
    "colab": {
     "base_uri": "https://localhost:8080/",
     "height": 104
    },
    "executionInfo": {
     "elapsed": 14,
     "status": "ok",
     "timestamp": 1742171875030,
     "user": {
      "displayName": "Jimmy",
      "userId": "05890202490702060509"
     },
     "user_tz": 240
    },
    "id": "0Z8j_HYprbKK",
    "outputId": "7d979fc8-3541-4458-f2dc-63c9353dd667"
   },
   "outputs": [
    {
     "data": {
      "text/html": [
       "<div style=\"max-width:800px; border: 1px solid var(--colab-border-color);\"><style>\n",
       "      pre.function-repr-contents {\n",
       "        overflow-x: auto;\n",
       "        padding: 8px 12px;\n",
       "        max-height: 500px;\n",
       "      }\n",
       "\n",
       "      pre.function-repr-contents.function-repr-contents-collapsed {\n",
       "        cursor: pointer;\n",
       "        max-height: 100px;\n",
       "      }\n",
       "    </style>\n",
       "    <pre style=\"white-space: initial; background:\n",
       "         var(--colab-secondary-surface-color); padding: 8px 12px;\n",
       "         border-bottom: 1px solid var(--colab-border-color);\"><b>quantity_extractor</b><br/>def quantity_extractor(doc)</pre><pre class=\"function-repr-contents function-repr-contents-collapsed\" style=\"\"><a class=\"filepath\" style=\"display:none\" href=\"#\">/content/&lt;ipython-input-24-f2ed73b1721b&gt;</a>&lt;no docstring&gt;</pre></div>"
      ],
      "text/plain": [
       "<function __main__.quantity_extractor(doc)>"
      ]
     },
     "execution_count": 24,
     "metadata": {},
     "output_type": "execute_result"
    }
   ],
   "source": [
    "# Quantity extractor component\n",
    "@Language.component(\"quantity_extractor\")\n",
    "def quantity_extractor(doc):\n",
    "    # Extract quantities\n",
    "    matcher = Matcher(nlp.vocab)\n",
    "    pattern = [\n",
    "        {\"LIKE_NUM\": True},  # Match numbers\n",
    "        {\"LIKE_NUM\": True, \"OP\": \"?\"},  # Match the second optional number (e.g., 8)\n",
    "        {\"LOWER\": {\"IN\": [\"cup\", \"tablespoon\", \"teaspoon\", \"ounce\", \"pound\", \"gram\", \"kilogram\", \"package\", \"quart\", \"liter\", \"milliliter\"]}}\n",
    "    ]\n",
    "    matcher.add(\"QUANTITY\", [pattern])\n",
    "    matches = matcher(doc)\n",
    "    quantity_spans = [Span(doc, start, end, label=\"QUANTITY\") for match_id, start, end in matches]\n",
    "\n",
    "    filtered_spans = spacy.util.filter_spans(quantity_spans)\n",
    "   # Filter out existing QUANTITY entities\n",
    "    new_ents = [ent for ent in doc.ents if ent.label_ != \"QUANTITY\"]\n",
    "\n",
    "    # Add the unique quantity spans to the new_ents list\n",
    "    doc.ents = new_ents + filtered_spans  # Add unique quantity spans\n",
    "\n",
    "    return doc\n",
    "nlp.add_pipe(\"quantity_extractor\", last=True)  # Quantity extractor runs first\n"
   ]
  },
  {
   "cell_type": "code",
   "execution_count": 25,
   "id": "o0SbCOxi6pkk",
   "metadata": {
    "colab": {
     "base_uri": "https://localhost:8080/",
     "height": 104
    },
    "executionInfo": {
     "elapsed": 19,
     "status": "ok",
     "timestamp": 1742171877657,
     "user": {
      "displayName": "Jimmy",
      "userId": "05890202490702060509"
     },
     "user_tz": 240
    },
    "id": "o0SbCOxi6pkk",
    "outputId": "04cd0ce6-8b52-4516-88a9-bcd20d220924"
   },
   "outputs": [
    {
     "data": {
      "text/html": [
       "<div style=\"max-width:800px; border: 1px solid var(--colab-border-color);\"><style>\n",
       "      pre.function-repr-contents {\n",
       "        overflow-x: auto;\n",
       "        padding: 8px 12px;\n",
       "        max-height: 500px;\n",
       "      }\n",
       "\n",
       "      pre.function-repr-contents.function-repr-contents-collapsed {\n",
       "        cursor: pointer;\n",
       "        max-height: 100px;\n",
       "      }\n",
       "    </style>\n",
       "    <pre style=\"white-space: initial; background:\n",
       "         var(--colab-secondary-surface-color); padding: 8px 12px;\n",
       "         border-bottom: 1px solid var(--colab-border-color);\"><b>ingredient_extractor</b><br/>def ingredient_extractor(doc)</pre><pre class=\"function-repr-contents function-repr-contents-collapsed\" style=\"\"><a class=\"filepath\" style=\"display:none\" href=\"#\">/content/&lt;ipython-input-25-033fb9492114&gt;</a>&lt;no docstring&gt;</pre></div>"
      ],
      "text/plain": [
       "<function __main__.ingredient_extractor(doc)>"
      ]
     },
     "execution_count": 25,
     "metadata": {},
     "output_type": "execute_result"
    }
   ],
   "source": [
    "# Ingredient extractor component\n",
    "@Language.component(\"ingredient_extractor\")\n",
    "def ingredient_extractor(doc):\n",
    "    # Extract ingredients after quantity extraction\n",
    "    matches = ingredient_matcher(doc)\n",
    "    spans = [Span(doc, start, end, label='INGREDIENT') for match_id, start, end in matches]\n",
    "\n",
    "    unique_spans = []\n",
    "\n",
    "    # Check if the ingredient overlaps with any quantity span before adding\n",
    "    quantity_spans = [ent for ent in doc.ents if ent.label_ == \"QUANTITY\"]\n",
    "\n",
    "    for span in spans:\n",
    "\n",
    "        overlap_found = False\n",
    "\n",
    "        # Check if the ingredient span overlaps with any quantity span\n",
    "        for quantity in quantity_spans:\n",
    "            if span.start < quantity.end and span.end > quantity.start:  # If overlap occurs\n",
    "                overlap_found = True\n",
    "                break  # Skip adding this ingredient if it overlaps with a quantity\n",
    "\n",
    "        # Add ingredient span if there's no overlap with any quantity span\n",
    "        if not overlap_found:\n",
    "                unique_spans.append(span)\n",
    "\n",
    "\n",
    "    # Resolve overlaps and filter out duplicate ingredient spans\n",
    "    filtered_spans = spacy.util.filter_spans(unique_spans)\n",
    "    new_ents = [ent for ent in doc.ents if ent.label_ != \"INGREDIENT\"]\n",
    "    doc.ents = new_ents + filtered_spans  # Add unique ingredient spans, excluding overlapping ones\n",
    "\n",
    "    return doc\n",
    "\n",
    "nlp.add_pipe(\"ingredient_extractor\", last=True)  # Ingredient extractor runs second\n",
    "\n"
   ]
  },
  {
   "cell_type": "code",
   "execution_count": null,
   "id": "016ecba2-1ba9-484b-b820-a6f04d0b68cf",
   "metadata": {
    "colab": {
     "base_uri": "https://localhost:8080/"
    },
    "executionInfo": {
     "elapsed": 13,
     "status": "ok",
     "timestamp": 1742171881033,
     "user": {
      "displayName": "Jimmy",
      "userId": "05890202490702060509"
     },
     "user_tz": 240
    },
    "id": "016ecba2-1ba9-484b-b820-a6f04d0b68cf",
    "outputId": "bc8a714e-a492-4580-cb90-4a141e78dc55"
   },
   "outputs": [
    {
     "data": {
      "text/plain": [
       "{'summary': {'quantity_extractor': {'assigns': [],\n",
       "   'requires': [],\n",
       "   'scores': [],\n",
       "   'retokenizes': False},\n",
       "  'ingredient_extractor': {'assigns': [],\n",
       "   'requires': [],\n",
       "   'scores': [],\n",
       "   'retokenizes': False}},\n",
       " 'problems': {'quantity_extractor': [], 'ingredient_extractor': []},\n",
       " 'attrs': {}}"
      ]
     },
     "execution_count": 26,
     "metadata": {},
     "output_type": "execute_result"
    }
   ],
   "source": [
    "#Analyzing if Quantity and Ingredient Extractor components are added to pipe\n",
    "nlp.analyze_pipes()"
   ]
  },
  {
   "cell_type": "markdown",
   "id": "YfJjNAjioerD",
   "metadata": {
    "id": "YfJjNAjioerD"
   },
   "source": [
    "## Annotating Data for Training:\n",
    "\n",
    "The raw text is annotated with start and end positions of ingredients and their corresponding labels.\n",
    "Annotations are used to create training data in the SpaCy format and saved as a .spacy file (training_data.spacy), which is later used for model training."
   ]
  },
  {
   "cell_type": "code",
   "execution_count": null,
   "id": "8ea475e8-f7e7-44f9-938f-ea449e308fa8",
   "metadata": {
    "id": "8ea475e8-f7e7-44f9-938f-ea449e308fa8"
   },
   "outputs": [],
   "source": [
    "from spacy.tokens import DocBin\n",
    "\n",
    "train_data = [(text, {\"entities\": []}) for text in texts]\n",
    "\n",
    "for i, (text, annotations) in enumerate(train_data):\n",
    "    doc = nlp(text)\n",
    "    entities = [(ent.start_char, ent.end_char, ent.label_) for ent in doc.ents]\n",
    "    train_data[i] = (text, {\"entities\": entities})\n"
   ]
  },
  {
   "cell_type": "code",
   "execution_count": null,
   "id": "zsBv5Tvsu8Cc",
   "metadata": {
    "id": "zsBv5Tvsu8Cc",
    "outputId": "3c6bfaed-7c26-4c4a-89bc-1fbcbfcb0aed"
   },
   "outputs": [
    {
     "data": {
      "text/plain": [
       "('venison taco salad 1 pound ground venison fried and crumbled 1 can kidney beans drained 0.25 cup chopped onion 1 small can chopped green chilies 8 ounce cheddar cheese grated 1 bag taco chips crumbled 1 8 ounce bottle russian dressing 2 tomatoes diced 0.5 cup ripe olives sliced 1 head lettuce torn into bite size pieces toss all ingredients just before serving add chips last lo-cal russian dressing can be used if you like',\n",
       " {'entities': [(0, 7, 'INGREDIENT'),\n",
       "   (8, 12, 'INGREDIENT'),\n",
       "   (13, 18, 'INGREDIENT'),\n",
       "   (19, 26, 'QUANTITY'),\n",
       "   (27, 41, 'INGREDIENT'),\n",
       "   (52, 60, 'INGREDIENT'),\n",
       "   (67, 79, 'INGREDIENT'),\n",
       "   (88, 96, 'QUANTITY'),\n",
       "   (105, 110, 'INGREDIENT'),\n",
       "   (113, 118, 'INGREDIENT'),\n",
       "   (123, 136, 'INGREDIENT'),\n",
       "   (137, 144, 'INGREDIENT'),\n",
       "   (145, 152, 'QUANTITY'),\n",
       "   (153, 167, 'INGREDIENT'),\n",
       "   (177, 180, 'INGREDIENT'),\n",
       "   (181, 191, 'INGREDIENT'),\n",
       "   (192, 200, 'INGREDIENT'),\n",
       "   (201, 210, 'QUANTITY'),\n",
       "   (226, 234, 'INGREDIENT'),\n",
       "   (237, 245, 'INGREDIENT'),\n",
       "   (252, 259, 'QUANTITY'),\n",
       "   (260, 271, 'INGREDIENT'),\n",
       "   (281, 293, 'INGREDIENT'),\n",
       "   (294, 298, 'INGREDIENT'),\n",
       "   (304, 320, 'INGREDIENT'),\n",
       "   (326, 341, 'INGREDIENT'),\n",
       "   (342, 346, 'INGREDIENT'),\n",
       "   (347, 361, 'INGREDIENT'),\n",
       "   (366, 371, 'INGREDIENT'),\n",
       "   (392, 400, 'INGREDIENT'),\n",
       "   (413, 415, 'INGREDIENT'),\n",
       "   (420, 424, 'INGREDIENT')]})"
      ]
     },
     "execution_count": 38,
     "metadata": {},
     "output_type": "execute_result"
    }
   ],
   "source": [
    "train_data[10]"
   ]
  },
  {
   "cell_type": "code",
   "execution_count": null,
   "id": "bf6d5de9-268e-4739-906f-087b6dbd3ca0",
   "metadata": {
    "id": "bf6d5de9-268e-4739-906f-087b6dbd3ca0"
   },
   "outputs": [],
   "source": [
    "def save_training_data(data, output_file):\n",
    "    nlp = spacy.blank(\"en\")\n",
    "    doc_bin = DocBin()\n",
    "    for text, annotations in data:\n",
    "        doc = nlp.make_doc(text)\n",
    "        ents = []\n",
    "        for start, end, label in annotations[\"entities\"]:\n",
    "            span = doc.char_span(start, end, label=label)\n",
    "            if span is not None:\n",
    "                ents.append(span)\n",
    "        doc.ents = ents\n",
    "        doc_bin.add(doc)\n",
    "    doc_bin.to_disk(output_file)\n",
    "\n",
    "save_training_data(train_data, 'training_data.spacy')"
   ]
  },
  {
   "cell_type": "markdown",
   "id": "ymnY795MolOj",
   "metadata": {
    "id": "ymnY795MolOj"
   },
   "source": [
    "## Training the SpaCy Model:\n",
    "\n",
    "A blank SpaCy model is trained using the annotated data.\n",
    "Training is done with mini-batch compounding, with parameters such as a batch size of 32, a learning rate of 4.0, and a dropout rate of 1.5.\n",
    "To avoid overfitting, an early stopping mechanism is applied. Training stops if the loss does not improve for 10 consecutive iterations (with a threshold of 5000).\n"
   ]
  },
  {
   "cell_type": "code",
   "execution_count": null,
   "id": "f0661f11-18ff-47d5-a7a8-04d3aee143af",
   "metadata": {
    "colab": {
     "base_uri": "https://localhost:8080/"
    },
    "executionInfo": {
     "elapsed": 265206,
     "status": "ok",
     "timestamp": 1741968108994,
     "user": {
      "displayName": "Jimmy",
      "userId": "05890202490702060509"
     },
     "user_tz": 240
    },
    "id": "f0661f11-18ff-47d5-a7a8-04d3aee143af",
    "outputId": "48f6e68e-f0db-4d75-f38b-57211eb7fe5f"
   },
   "outputs": [
    {
     "name": "stdout",
     "output_type": "stream",
     "text": [
      "Iteration 0, Losses: {'ner': 855710.3838120555}\n",
      "Iteration 1, Losses: {'ner': 449087.37117298826}\n",
      "Improvement in this iteration: 406623.0126390672\n",
      "Iteration 2, Losses: {'ner': 380580.9409768345}\n",
      "Improvement in this iteration: 68506.43019615376\n",
      "Iteration 3, Losses: {'ner': 344451.89294495125}\n",
      "Improvement in this iteration: 36129.048031883256\n",
      "Iteration 4, Losses: {'ner': 322777.2335223893}\n",
      "Improvement in this iteration: 21674.659422561934\n",
      "Iteration 5, Losses: {'ner': 308388.9426392976}\n",
      "Improvement in this iteration: 14388.290883091744\n",
      "Iteration 6, Losses: {'ner': 296030.89556097606}\n",
      "Improvement in this iteration: 12358.047078321513\n",
      "Iteration 7, Losses: {'ner': 286466.773712112}\n",
      "Improvement in this iteration: 9564.121848864073\n",
      "Iteration 8, Losses: {'ner': 279011.7287182981}\n",
      "Improvement in this iteration: 7455.044993813906\n",
      "Iteration 9, Losses: {'ner': 273060.43795126514}\n",
      "Improvement in this iteration: 5951.290767032944\n"
     ]
    }
   ],
   "source": [
    "import random\n",
    "import spacy\n",
    "from spacy.training import Example\n",
    "from spacy.util import minibatch, compounding\n",
    "from spacy.tokens import DocBin\n",
    "import os\n",
    "\n",
    "# Load the training data\n",
    "nlp = spacy.blank(\"en\")  # Using a blank 'en' model\n",
    "db = DocBin().from_disk(\"training_data.spacy\")\n",
    "docs = list(db.get_docs(nlp.vocab))\n",
    "\n",
    "# Create the NER component and add it to the pipeline\n",
    "if 'ner' not in nlp.pipe_names:\n",
    "    ner = nlp.add_pipe(\"ner\", last=True)\n",
    "\n",
    "# Add the labels to the NER component\n",
    "for doc in docs:\n",
    "    for ent in doc.ents:\n",
    "        ner.add_label(ent.label_)\n",
    "\n",
    "# Disable other pipes during training\n",
    "other_pipes = [pipe for pipe in nlp.pipe_names if pipe != 'ner']\n",
    "with nlp.disable_pipes(*other_pipes):\n",
    "    optimizer = nlp.begin_training()\n",
    "\n",
    "    max_iterations = 10  # Total iterations\n",
    "    min_loss_improvement = 5000  # Minimum loss improvement to continue training\n",
    "    prev_loss = None  # Track the previous loss\n",
    "\n",
    "    #Parallelized minibatch to process training data in parallel\n",
    "    for itn in range(max_iterations):\n",
    "        random.shuffle(docs)\n",
    "        losses = {}\n",
    "        batches = minibatch(docs, size=compounding(4.0, 32.0, 1.5))\n",
    "\n",
    "        for batch in batches:\n",
    "            # Examples from docs and update the model\n",
    "            examples = [Example.from_dict(doc, {\"entities\": [(ent.start_char, ent.end_char, ent.label_) for ent in doc.ents]}) for doc in batch]\n",
    "\n",
    "            nlp.update(examples, drop=0.5, losses=losses)\n",
    "\n",
    "        print(f\"Iteration {itn}, Losses: {losses}\")\n",
    "\n",
    "        # Check for improvement in loss\n",
    "        if prev_loss is not None:\n",
    "            improvement = prev_loss - losses['ner']\n",
    "            print(f\"Improvement in this iteration: {improvement}\")\n",
    "\n",
    "            # Early stopping if the improvement is small\n",
    "            if improvement < min_loss_improvement:\n",
    "                print(f\"Stopping early due to small improvement.\")\n",
    "                break\n",
    "\n",
    "        # Update previous loss for next iteration\n",
    "        prev_loss = losses['ner']\n",
    "\n",
    "    # Save the trained model to disk\n",
    "    nlp.to_disk(\"ner_model\")\n"
   ]
  },
  {
   "cell_type": "markdown",
   "id": "QduWI-aYo-5Q",
   "metadata": {
    "id": "QduWI-aYo-5Q"
   },
   "source": [
    "## Prediction on Test Data:\n",
    "\n",
    "After training, the model is used to predict ingredients and quantities on preprocessed test data.  \n",
    "The predicted entities are extracted for further analysis, such as cuisine classification."
   ]
  },
  {
   "cell_type": "code",
   "execution_count": 5,
   "id": "3398ea24-3450-4c8c-b7fc-23b441d0a7a0",
   "metadata": {
    "colab": {
     "base_uri": "https://localhost:8080/",
     "height": 206
    },
    "executionInfo": {
     "elapsed": 2252,
     "status": "ok",
     "timestamp": 1742171245669,
     "user": {
      "displayName": "Jimmy",
      "userId": "05890202490702060509"
     },
     "user_tz": 240
    },
    "id": "3398ea24-3450-4c8c-b7fc-23b441d0a7a0",
    "outputId": "6155831d-6eaa-4ba8-aee4-c5ccc54b5c55"
   },
   "outputs": [
    {
     "data": {
      "application/vnd.google.colaboratory.intrinsic+json": {
       "summary": "{\n  \"name\": \"test_df\",\n  \"rows\": 30000,\n  \"fields\": [\n    {\n      \"column\": \"test_recipe\",\n      \"properties\": {\n        \"dtype\": \"string\",\n        \"num_unique_values\": 30000,\n        \"samples\": [\n          \"broccoli casserole 1 2 package broccoli 1 small chopped onion 1 can mushroom soup 1 cup cheddar cheese 2 eggs beaten 0.75 stick butter ritz crackers crushed mix and pour in a casserole dish top with 0.75 stick of butter and ritz crackers crackers should cover the entire mixture bake 1 hour at 350\",\n          \"thumbprint cookies 3 cup cornflakes 2 cup flour 1 teaspoon baking soda 2 eggs 1 cup butterscotch chips optional 1 cup soft shortening 1 cup firmly packed brown sugar 0.5 cup peanut butter crush cornflakes into fine crumbs blend shortening and sugar until light and fluffy add eggs and beat well add flour sugar soda and butterscotch pieces mix well shape dough into 1 inch balls and roll into cornflake crumbs place on cookie sheet and make indentation with thumb in center of each ball place 0.25 teaspoon peanut butter in each indentation crumbs may also be sprinkled over peanut butter bake at 375 for 10 minutes yields 3 dozen\",\n          \"texas pete hotter hot sangria 1 2 teaspoon texas pete r hotter hot sauce 2 lemons large 2 limes large 2 oranges large 0.75 cup granulated sugar 1 750 milliliter bottle malbec wine 0.33 cup brandy 0.33 cup triple sec 1 quart club soda ice cold using a vegetable peeler peel the outermost layers of the lemons limes and oranges you may get a small amount of the white pith from the peels but there is no need to discard or remove it you should end up with about 1 cup of peeled citrus zest squeeze the juice from the lemons limes and oranges and place the juice along with the peeled citrus zest in a medium-sized saucepot add the granulated sugar bring the mixture to a boil and immediately remove from heat allow the citrus simple syrup steep for 30 minutes after steeping strain it through a fine mesh strainer and place the simple syrup in the refrigerator to chill while the simple syrup is chilling prepare the red wine base pour the bottle of red wine into a large serving pitcher followed by the triple sec brandy and the chilled simple syrup mix well add 1 teaspoon of texas pete r hotter hot sauce to the sangria base and mix well this is the time to taste it and see if it is spicy enough for your liking add up to 1 more teaspoon if you like it spicier keep the sangria base and the club soda separate and ice cold until you are ready to serve serve the sangria chilled in a 2 ounce shot glass mix 2 parts sangria base to 1 part club soda and serve immediately\"\n        ],\n        \"semantic_type\": \"\",\n        \"description\": \"\"\n      }\n    },\n    {\n      \"column\": \"actual_NER\",\n      \"properties\": {\n        \"dtype\": \"string\",\n        \"num_unique_values\": 29663,\n        \"samples\": [\n          \"[\\\"kidney beans\\\", \\\"brown sugar\\\", \\\"mustard\\\", \\\"pork\\\", \\\"onions\\\", \\\"hamburger\\\", \\\"worcestershire sauce\\\"]\",\n          \"[\\\"mustard\\\", \\\"preserves\\\", \\\"red pepper\\\"]\",\n          \"[\\\"green bell pepper\\\", \\\"black pepper\\\", \\\"brown sugar\\\", \\\"catsup\\\", \\\"pineapple tidbits\\\", \\\"beans\\\", \\\"maple syrup\\\", \\\"pork loin chops\\\", \\\"garlic\\\", \\\"red onion\\\", \\\"vegetable oil\\\", \\\"salt\\\"]\"\n        ],\n        \"semantic_type\": \"\",\n        \"description\": \"\"\n      }\n    }\n  ]\n}",
       "type": "dataframe",
       "variable_name": "test_df"
      },
      "text/html": [
       "\n",
       "  <div id=\"df-9623c248-1fab-4932-8faf-ab78eab6e2e1\" class=\"colab-df-container\">\n",
       "    <div>\n",
       "<style scoped>\n",
       "    .dataframe tbody tr th:only-of-type {\n",
       "        vertical-align: middle;\n",
       "    }\n",
       "\n",
       "    .dataframe tbody tr th {\n",
       "        vertical-align: top;\n",
       "    }\n",
       "\n",
       "    .dataframe thead th {\n",
       "        text-align: right;\n",
       "    }\n",
       "</style>\n",
       "<table border=\"1\" class=\"dataframe\">\n",
       "  <thead>\n",
       "    <tr style=\"text-align: right;\">\n",
       "      <th></th>\n",
       "      <th>test_recipe</th>\n",
       "      <th>actual_NER</th>\n",
       "    </tr>\n",
       "  </thead>\n",
       "  <tbody>\n",
       "    <tr>\n",
       "      <th>0</th>\n",
       "      <td>sour cream green beans 0.5 cup thinly sliced o...</td>\n",
       "      <td>[\"sour cream\", \"onion soup\", \"onion\", \"mushroo...</td>\n",
       "    </tr>\n",
       "    <tr>\n",
       "      <th>1</th>\n",
       "      <td>great fluff 7 ounce marshmallows 2 tablespoon ...</td>\n",
       "      <td>[\"milk\", \"brown sugar\", \"marshmallows\", \"unsal...</td>\n",
       "    </tr>\n",
       "    <tr>\n",
       "      <th>2</th>\n",
       "      <td>fruit punch 1 can frozen orange juice 1 can fr...</td>\n",
       "      <td>[\"sugar\", \"water\", \"pineapple juice\", \"orange ...</td>\n",
       "    </tr>\n",
       "    <tr>\n",
       "      <th>3</th>\n",
       "      <td>crabmeat casserole serves 10 1 pt mayonnaise 1...</td>\n",
       "      <td>[\"fresh crabmeat\", \"stuffing mix\", \"eggs\", \"on...</td>\n",
       "    </tr>\n",
       "    <tr>\n",
       "      <th>4</th>\n",
       "      <td>georgia peach-glazed pork roast 1 2 to 2.5 pou...</td>\n",
       "      <td>[\"pork loin roast\", \"cinnamon\", \"peach preserv...</td>\n",
       "    </tr>\n",
       "  </tbody>\n",
       "</table>\n",
       "</div>\n",
       "    <div class=\"colab-df-buttons\">\n",
       "\n",
       "  <div class=\"colab-df-container\">\n",
       "    <button class=\"colab-df-convert\" onclick=\"convertToInteractive('df-9623c248-1fab-4932-8faf-ab78eab6e2e1')\"\n",
       "            title=\"Convert this dataframe to an interactive table.\"\n",
       "            style=\"display:none;\">\n",
       "\n",
       "  <svg xmlns=\"http://www.w3.org/2000/svg\" height=\"24px\" viewBox=\"0 -960 960 960\">\n",
       "    <path d=\"M120-120v-720h720v720H120Zm60-500h600v-160H180v160Zm220 220h160v-160H400v160Zm0 220h160v-160H400v160ZM180-400h160v-160H180v160Zm440 0h160v-160H620v160ZM180-180h160v-160H180v160Zm440 0h160v-160H620v160Z\"/>\n",
       "  </svg>\n",
       "    </button>\n",
       "\n",
       "  <style>\n",
       "    .colab-df-container {\n",
       "      display:flex;\n",
       "      gap: 12px;\n",
       "    }\n",
       "\n",
       "    .colab-df-convert {\n",
       "      background-color: #E8F0FE;\n",
       "      border: none;\n",
       "      border-radius: 50%;\n",
       "      cursor: pointer;\n",
       "      display: none;\n",
       "      fill: #1967D2;\n",
       "      height: 32px;\n",
       "      padding: 0 0 0 0;\n",
       "      width: 32px;\n",
       "    }\n",
       "\n",
       "    .colab-df-convert:hover {\n",
       "      background-color: #E2EBFA;\n",
       "      box-shadow: 0px 1px 2px rgba(60, 64, 67, 0.3), 0px 1px 3px 1px rgba(60, 64, 67, 0.15);\n",
       "      fill: #174EA6;\n",
       "    }\n",
       "\n",
       "    .colab-df-buttons div {\n",
       "      margin-bottom: 4px;\n",
       "    }\n",
       "\n",
       "    [theme=dark] .colab-df-convert {\n",
       "      background-color: #3B4455;\n",
       "      fill: #D2E3FC;\n",
       "    }\n",
       "\n",
       "    [theme=dark] .colab-df-convert:hover {\n",
       "      background-color: #434B5C;\n",
       "      box-shadow: 0px 1px 3px 1px rgba(0, 0, 0, 0.15);\n",
       "      filter: drop-shadow(0px 1px 2px rgba(0, 0, 0, 0.3));\n",
       "      fill: #FFFFFF;\n",
       "    }\n",
       "  </style>\n",
       "\n",
       "    <script>\n",
       "      const buttonEl =\n",
       "        document.querySelector('#df-9623c248-1fab-4932-8faf-ab78eab6e2e1 button.colab-df-convert');\n",
       "      buttonEl.style.display =\n",
       "        google.colab.kernel.accessAllowed ? 'block' : 'none';\n",
       "\n",
       "      async function convertToInteractive(key) {\n",
       "        const element = document.querySelector('#df-9623c248-1fab-4932-8faf-ab78eab6e2e1');\n",
       "        const dataTable =\n",
       "          await google.colab.kernel.invokeFunction('convertToInteractive',\n",
       "                                                    [key], {});\n",
       "        if (!dataTable) return;\n",
       "\n",
       "        const docLinkHtml = 'Like what you see? Visit the ' +\n",
       "          '<a target=\"_blank\" href=https://colab.research.google.com/notebooks/data_table.ipynb>data table notebook</a>'\n",
       "          + ' to learn more about interactive tables.';\n",
       "        element.innerHTML = '';\n",
       "        dataTable['output_type'] = 'display_data';\n",
       "        await google.colab.output.renderOutput(dataTable, element);\n",
       "        const docLink = document.createElement('div');\n",
       "        docLink.innerHTML = docLinkHtml;\n",
       "        element.appendChild(docLink);\n",
       "      }\n",
       "    </script>\n",
       "  </div>\n",
       "\n",
       "\n",
       "<div id=\"df-fabd4e80-575d-48aa-919a-c7c28efb0905\">\n",
       "  <button class=\"colab-df-quickchart\" onclick=\"quickchart('df-fabd4e80-575d-48aa-919a-c7c28efb0905')\"\n",
       "            title=\"Suggest charts\"\n",
       "            style=\"display:none;\">\n",
       "\n",
       "<svg xmlns=\"http://www.w3.org/2000/svg\" height=\"24px\"viewBox=\"0 0 24 24\"\n",
       "     width=\"24px\">\n",
       "    <g>\n",
       "        <path d=\"M19 3H5c-1.1 0-2 .9-2 2v14c0 1.1.9 2 2 2h14c1.1 0 2-.9 2-2V5c0-1.1-.9-2-2-2zM9 17H7v-7h2v7zm4 0h-2V7h2v10zm4 0h-2v-4h2v4z\"/>\n",
       "    </g>\n",
       "</svg>\n",
       "  </button>\n",
       "\n",
       "<style>\n",
       "  .colab-df-quickchart {\n",
       "      --bg-color: #E8F0FE;\n",
       "      --fill-color: #1967D2;\n",
       "      --hover-bg-color: #E2EBFA;\n",
       "      --hover-fill-color: #174EA6;\n",
       "      --disabled-fill-color: #AAA;\n",
       "      --disabled-bg-color: #DDD;\n",
       "  }\n",
       "\n",
       "  [theme=dark] .colab-df-quickchart {\n",
       "      --bg-color: #3B4455;\n",
       "      --fill-color: #D2E3FC;\n",
       "      --hover-bg-color: #434B5C;\n",
       "      --hover-fill-color: #FFFFFF;\n",
       "      --disabled-bg-color: #3B4455;\n",
       "      --disabled-fill-color: #666;\n",
       "  }\n",
       "\n",
       "  .colab-df-quickchart {\n",
       "    background-color: var(--bg-color);\n",
       "    border: none;\n",
       "    border-radius: 50%;\n",
       "    cursor: pointer;\n",
       "    display: none;\n",
       "    fill: var(--fill-color);\n",
       "    height: 32px;\n",
       "    padding: 0;\n",
       "    width: 32px;\n",
       "  }\n",
       "\n",
       "  .colab-df-quickchart:hover {\n",
       "    background-color: var(--hover-bg-color);\n",
       "    box-shadow: 0 1px 2px rgba(60, 64, 67, 0.3), 0 1px 3px 1px rgba(60, 64, 67, 0.15);\n",
       "    fill: var(--button-hover-fill-color);\n",
       "  }\n",
       "\n",
       "  .colab-df-quickchart-complete:disabled,\n",
       "  .colab-df-quickchart-complete:disabled:hover {\n",
       "    background-color: var(--disabled-bg-color);\n",
       "    fill: var(--disabled-fill-color);\n",
       "    box-shadow: none;\n",
       "  }\n",
       "\n",
       "  .colab-df-spinner {\n",
       "    border: 2px solid var(--fill-color);\n",
       "    border-color: transparent;\n",
       "    border-bottom-color: var(--fill-color);\n",
       "    animation:\n",
       "      spin 1s steps(1) infinite;\n",
       "  }\n",
       "\n",
       "  @keyframes spin {\n",
       "    0% {\n",
       "      border-color: transparent;\n",
       "      border-bottom-color: var(--fill-color);\n",
       "      border-left-color: var(--fill-color);\n",
       "    }\n",
       "    20% {\n",
       "      border-color: transparent;\n",
       "      border-left-color: var(--fill-color);\n",
       "      border-top-color: var(--fill-color);\n",
       "    }\n",
       "    30% {\n",
       "      border-color: transparent;\n",
       "      border-left-color: var(--fill-color);\n",
       "      border-top-color: var(--fill-color);\n",
       "      border-right-color: var(--fill-color);\n",
       "    }\n",
       "    40% {\n",
       "      border-color: transparent;\n",
       "      border-right-color: var(--fill-color);\n",
       "      border-top-color: var(--fill-color);\n",
       "    }\n",
       "    60% {\n",
       "      border-color: transparent;\n",
       "      border-right-color: var(--fill-color);\n",
       "    }\n",
       "    80% {\n",
       "      border-color: transparent;\n",
       "      border-right-color: var(--fill-color);\n",
       "      border-bottom-color: var(--fill-color);\n",
       "    }\n",
       "    90% {\n",
       "      border-color: transparent;\n",
       "      border-bottom-color: var(--fill-color);\n",
       "    }\n",
       "  }\n",
       "</style>\n",
       "\n",
       "  <script>\n",
       "    async function quickchart(key) {\n",
       "      const quickchartButtonEl =\n",
       "        document.querySelector('#' + key + ' button');\n",
       "      quickchartButtonEl.disabled = true;  // To prevent multiple clicks.\n",
       "      quickchartButtonEl.classList.add('colab-df-spinner');\n",
       "      try {\n",
       "        const charts = await google.colab.kernel.invokeFunction(\n",
       "            'suggestCharts', [key], {});\n",
       "      } catch (error) {\n",
       "        console.error('Error during call to suggestCharts:', error);\n",
       "      }\n",
       "      quickchartButtonEl.classList.remove('colab-df-spinner');\n",
       "      quickchartButtonEl.classList.add('colab-df-quickchart-complete');\n",
       "    }\n",
       "    (() => {\n",
       "      let quickchartButtonEl =\n",
       "        document.querySelector('#df-fabd4e80-575d-48aa-919a-c7c28efb0905 button');\n",
       "      quickchartButtonEl.style.display =\n",
       "        google.colab.kernel.accessAllowed ? 'block' : 'none';\n",
       "    })();\n",
       "  </script>\n",
       "</div>\n",
       "\n",
       "    </div>\n",
       "  </div>\n"
      ],
      "text/plain": [
       "                                         test_recipe  \\\n",
       "0  sour cream green beans 0.5 cup thinly sliced o...   \n",
       "1  great fluff 7 ounce marshmallows 2 tablespoon ...   \n",
       "2  fruit punch 1 can frozen orange juice 1 can fr...   \n",
       "3  crabmeat casserole serves 10 1 pt mayonnaise 1...   \n",
       "4  georgia peach-glazed pork roast 1 2 to 2.5 pou...   \n",
       "\n",
       "                                          actual_NER  \n",
       "0  [\"sour cream\", \"onion soup\", \"onion\", \"mushroo...  \n",
       "1  [\"milk\", \"brown sugar\", \"marshmallows\", \"unsal...  \n",
       "2  [\"sugar\", \"water\", \"pineapple juice\", \"orange ...  \n",
       "3  [\"fresh crabmeat\", \"stuffing mix\", \"eggs\", \"on...  \n",
       "4  [\"pork loin roast\", \"cinnamon\", \"peach preserv...  "
      ]
     },
     "execution_count": 5,
     "metadata": {},
     "output_type": "execute_result"
    }
   ],
   "source": [
    "test_df = pd.read_csv('/content/drive/MyDrive/test_data.csv')\n",
    "test_df.head()"
   ]
  },
  {
   "cell_type": "code",
   "execution_count": 7,
   "id": "7e1f4817-2a01-4c91-b46a-631597bf4c43",
   "metadata": {
    "colab": {
     "base_uri": "https://localhost:8080/"
    },
    "executionInfo": {
     "elapsed": 220507,
     "status": "ok",
     "timestamp": 1742171501556,
     "user": {
      "displayName": "Jimmy",
      "userId": "05890202490702060509"
     },
     "user_tz": 240
    },
    "id": "7e1f4817-2a01-4c91-b46a-631597bf4c43",
    "outputId": "a280826b-dd11-403b-8422-d196bbadc932"
   },
   "outputs": [
    {
     "name": "stderr",
     "output_type": "stream",
     "text": [
      "/usr/local/lib/python3.11/dist-packages/spacy/util.py:910: UserWarning: [W095] Model 'en_pipeline' (0.0.0) was trained with spaCy v3.8.4 and may not be 100% compatible with the current version (3.7.5). If you see errors or degraded performance, download a newer compatible model or retrain your custom model with the current spaCy version. For more details and available updates, run: python -m spacy validate\n",
      "  warnings.warn(warn_msg)\n"
     ]
    }
   ],
   "source": [
    "nlp = spacy.load(\"/content/drive/MyDrive/ner_model\")\n",
    "\n",
    "def testNER(recipe):\n",
    "  predicted_ingredients=set()\n",
    "  predicted_quantities=set()\n",
    "  doc = nlp(recipe)\n",
    "  for ent in doc.ents:\n",
    "    #print(ent.text, ent.label_)\n",
    "    if(ent.label_=='INGREDIENT'):\n",
    "      predicted_ingredients.add(ent.text)\n",
    "    elif(ent.label_=='QUANTITY'):\n",
    "      predicted_quantities.add(ent.text)\n",
    "\n",
    "  return predicted_ingredients,predicted_quantities\n",
    "\n",
    "test_df['predicted_ingredients'],test_df['predicted_quantities'] = zip(*test_df['test_recipe'].apply(lambda x: testNER(x)))"
   ]
  },
  {
   "cell_type": "code",
   "execution_count": null,
   "id": "MuhQQ_aopOTG",
   "metadata": {
    "executionInfo": {
     "elapsed": 12,
     "status": "ok",
     "timestamp": 1741973372176,
     "user": {
      "displayName": "Jimmy",
      "userId": "05890202490702060509"
     },
     "user_tz": 240
    },
    "id": "MuhQQ_aopOTG",
    "outputId": "19059edc-19ea-4eaa-cee5-b451026fc4b7"
   },
   "outputs": [
    {
     "data": {
      "text/html": [
       "<div>\n",
       "<style scoped>\n",
       "    .dataframe tbody tr th:only-of-type {\n",
       "        vertical-align: middle;\n",
       "    }\n",
       "\n",
       "    .dataframe tbody tr th {\n",
       "        vertical-align: top;\n",
       "    }\n",
       "\n",
       "    .dataframe thead th {\n",
       "        text-align: right;\n",
       "    }\n",
       "</style>\n",
       "<table border=\"1\" class=\"dataframe\">\n",
       "  <thead>\n",
       "    <tr style=\"text-align: right;\">\n",
       "      <th></th>\n",
       "      <th>test_recipe</th>\n",
       "      <th>actual_NER</th>\n",
       "      <th>predicted_ingredients</th>\n",
       "      <th>predicted_quantities</th>\n",
       "    </tr>\n",
       "  </thead>\n",
       "  <tbody>\n",
       "    <tr>\n",
       "      <th>0</th>\n",
       "      <td>sour cream green beans 0.5 cup thinly sliced onion 8 ounce sliced mushrooms 0.25 cup butter 2 10 ounce packages green beans 1 cup sour cream 1 5 ounce package dry onion soup mix salt and pepper to taste 1 cup shredded cheese any kind you like 1 cup breadcrumbs pre heat oven to 350 . saute onions and mushrooms in butter in a bowl combine beans sour cream onion soup mix salt pepper mix lightly fold in cheese pour into a greased 2 quart casserole mix melted butter with bread crumbs top the beans when mixed bake for 20 25 until bubbly</td>\n",
       "      <td>[\"sour cream\", \"onion soup\", \"onion\", \"mushrooms\", \"shredded cheese\", \"breadcrumbs\", \"green beans\", \"butter\", \"salt\"]</td>\n",
       "      <td>{saute, bake, a, bowl combine, mix, cheese, pepper, in, salt pepper, mushrooms, for, mixed, bread crumbs, onion, shredded cheese, pour, beans, sour cream, onions, onion soup mix, breadcrumbs, butter, oven, salt, packages, like, green beans, kind}</td>\n",
       "      <td>{1 cup, 0.5 cup, 0.25 cup, 2 quart, 1 5 ounce, 2 10 ounce, 8 ounce}</td>\n",
       "    </tr>\n",
       "    <tr>\n",
       "      <th>1</th>\n",
       "      <td>great fluff 7 ounce marshmallows 2 tablespoon unsalted butter 12 cup brown sugar 1 cup evaporated milk first add sugar marshmallows and milk to a pot then wait till boiling when done bowling add in the marshmallows finally wait till the marshmallows melt in the bowling liquid then enjoy you yummy tasting fluff</td>\n",
       "      <td>[\"milk\", \"brown sugar\", \"marshmallows\", \"unsalted butter\"]</td>\n",
       "      <td>{then, a, fluff, sugar, first, boiling, brown sugar, evaporated milk, in, enjoy, milk, unsalted butter, marshmallows, liquid}</td>\n",
       "      <td>{7 ounce, 1 cup, 12 cup, 2 tablespoon}</td>\n",
       "    </tr>\n",
       "    <tr>\n",
       "      <th>2</th>\n",
       "      <td>fruit punch 1 can frozen orange juice 1 can frozen lemonade 4 cup sugar 1 quart pineapple juice 6 quart water 2 large ginger ale 6 small bottles 7 up thaw juices mix first 5 ingredients and stir until sugar is dissolved add ginger ale and 7 up fills large punch bowl</td>\n",
       "      <td>[\"sugar\", \"water\", \"pineapple juice\", \"orange juice\", \"frozen lemonade\", \"ginger ale\"]</td>\n",
       "      <td>{fruit, mix, up, frozen lemonade, sugar, bowl, small, ingredients, first, large, orange juice, ginger ale, bottles, pineapple juice, is, water, frozen}</td>\n",
       "      <td>{1 quart, 4 cup, 6 quart}</td>\n",
       "    </tr>\n",
       "    <tr>\n",
       "      <th>3</th>\n",
       "      <td>crabmeat casserole serves 10 1 pt mayonnaise 1 pt cream 1 pound fresh crabmeat 2 tablespoon chopped parsley 2 tablespoon chopped onion 3 hard-boiled eggs coarsely chopped 0.5 cup sherry taylor dry 1 package stuffing mix bake 45 minutes at 300 mix all together except stuffing and place on casserole dish you can place stuffing mix on top of mixture then bake 45 minutes at 300</td>\n",
       "      <td>[\"fresh crabmeat\", \"stuffing mix\", \"eggs\", \"onion\", \"sherry\", \"mayonnaise\", \"parsley\", \"cream\"]</td>\n",
       "      <td>{bake, mix, mixture, all, mayonnaise, at, onion, stuffing, stuffing mix, fresh crabmeat, then bake, dish, place, of, sherry, together, parsley, hard-boiled eggs, cream, crabmeat, minutes}</td>\n",
       "      <td>{0.5 cup, 1 package, 1 pound, 2 tablespoon}</td>\n",
       "    </tr>\n",
       "    <tr>\n",
       "      <th>4</th>\n",
       "      <td>georgia peach-glazed pork roast 1 2 to 2.5 pound boneless pork loin roast 0.5 cup peach preserves 1 tablespoon dijon mustard 0.5 teaspoon cinnamon heat oven to 325 coat a roasting pan with cooking spray</td>\n",
       "      <td>[\"pork loin roast\", \"cinnamon\", \"peach preserves\", \"mustard\"]</td>\n",
       "      <td>{boneless pork loin roast, dijon mustard, cinnamon, a, cooking spray, peach, roasting pan, pork roast, peach preserves, oven}</td>\n",
       "      <td>{1 tablespoon, 2.5 pound, 0.5 cup, 0.5 teaspoon}</td>\n",
       "    </tr>\n",
       "  </tbody>\n",
       "</table>\n",
       "</div>"
      ],
      "text/plain": [
       "                                                                                                                                                                                                                                                                                                                                                                                                                                                                                                                                                test_recipe  \\\n",
       "0  sour cream green beans 0.5 cup thinly sliced onion 8 ounce sliced mushrooms 0.25 cup butter 2 10 ounce packages green beans 1 cup sour cream 1 5 ounce package dry onion soup mix salt and pepper to taste 1 cup shredded cheese any kind you like 1 cup breadcrumbs pre heat oven to 350 . saute onions and mushrooms in butter in a bowl combine beans sour cream onion soup mix salt pepper mix lightly fold in cheese pour into a greased 2 quart casserole mix melted butter with bread crumbs top the beans when mixed bake for 20 25 until bubbly   \n",
       "1                                                                                                                                                                                                                                   great fluff 7 ounce marshmallows 2 tablespoon unsalted butter 12 cup brown sugar 1 cup evaporated milk first add sugar marshmallows and milk to a pot then wait till boiling when done bowling add in the marshmallows finally wait till the marshmallows melt in the bowling liquid then enjoy you yummy tasting fluff   \n",
       "2                                                                                                                                                                                                                                                                                fruit punch 1 can frozen orange juice 1 can frozen lemonade 4 cup sugar 1 quart pineapple juice 6 quart water 2 large ginger ale 6 small bottles 7 up thaw juices mix first 5 ingredients and stir until sugar is dissolved add ginger ale and 7 up fills large punch bowl   \n",
       "3                                                                                                                                                                  crabmeat casserole serves 10 1 pt mayonnaise 1 pt cream 1 pound fresh crabmeat 2 tablespoon chopped parsley 2 tablespoon chopped onion 3 hard-boiled eggs coarsely chopped 0.5 cup sherry taylor dry 1 package stuffing mix bake 45 minutes at 300 mix all together except stuffing and place on casserole dish you can place stuffing mix on top of mixture then bake 45 minutes at 300   \n",
       "4                                                                                                                                                                                                                                                                                                                                                georgia peach-glazed pork roast 1 2 to 2.5 pound boneless pork loin roast 0.5 cup peach preserves 1 tablespoon dijon mustard 0.5 teaspoon cinnamon heat oven to 325 coat a roasting pan with cooking spray   \n",
       "\n",
       "                                                                                                              actual_NER  \\\n",
       "0  [\"sour cream\", \"onion soup\", \"onion\", \"mushrooms\", \"shredded cheese\", \"breadcrumbs\", \"green beans\", \"butter\", \"salt\"]   \n",
       "1                                                             [\"milk\", \"brown sugar\", \"marshmallows\", \"unsalted butter\"]   \n",
       "2                                 [\"sugar\", \"water\", \"pineapple juice\", \"orange juice\", \"frozen lemonade\", \"ginger ale\"]   \n",
       "3                        [\"fresh crabmeat\", \"stuffing mix\", \"eggs\", \"onion\", \"sherry\", \"mayonnaise\", \"parsley\", \"cream\"]   \n",
       "4                                                          [\"pork loin roast\", \"cinnamon\", \"peach preserves\", \"mustard\"]   \n",
       "\n",
       "                                                                                                                                                                                                                                    predicted_ingredients  \\\n",
       "0  {saute, bake, a, bowl combine, mix, cheese, pepper, in, salt pepper, mushrooms, for, mixed, bread crumbs, onion, shredded cheese, pour, beans, sour cream, onions, onion soup mix, breadcrumbs, butter, oven, salt, packages, like, green beans, kind}   \n",
       "1                                                                                                                           {then, a, fluff, sugar, first, boiling, brown sugar, evaporated milk, in, enjoy, milk, unsalted butter, marshmallows, liquid}   \n",
       "2                                                                                                 {fruit, mix, up, frozen lemonade, sugar, bowl, small, ingredients, first, large, orange juice, ginger ale, bottles, pineapple juice, is, water, frozen}   \n",
       "3                                                             {bake, mix, mixture, all, mayonnaise, at, onion, stuffing, stuffing mix, fresh crabmeat, then bake, dish, place, of, sherry, together, parsley, hard-boiled eggs, cream, crabmeat, minutes}   \n",
       "4                                                                                                                           {boneless pork loin roast, dijon mustard, cinnamon, a, cooking spray, peach, roasting pan, pork roast, peach preserves, oven}   \n",
       "\n",
       "                                                  predicted_quantities  \n",
       "0  {1 cup, 0.5 cup, 0.25 cup, 2 quart, 1 5 ounce, 2 10 ounce, 8 ounce}  \n",
       "1                               {7 ounce, 1 cup, 12 cup, 2 tablespoon}  \n",
       "2                                            {1 quart, 4 cup, 6 quart}  \n",
       "3                          {0.5 cup, 1 package, 1 pound, 2 tablespoon}  \n",
       "4                     {1 tablespoon, 2.5 pound, 0.5 cup, 0.5 teaspoon}  "
      ]
     },
     "execution_count": 28,
     "metadata": {},
     "output_type": "execute_result"
    }
   ],
   "source": [
    "pd.set_option('display.max_colwidth',None)\n",
    "test_df.head()"
   ]
  },
  {
   "cell_type": "code",
   "execution_count": 9,
   "id": "7c64f54a-21d4-407b-80b7-cda04106c786",
   "metadata": {
    "executionInfo": {
     "elapsed": 3056,
     "status": "ok",
     "timestamp": 1742171528846,
     "user": {
      "displayName": "Jimmy",
      "userId": "05890202490702060509"
     },
     "user_tz": 240
    },
    "id": "7c64f54a-21d4-407b-80b7-cda04106c786"
   },
   "outputs": [],
   "source": [
    "pd.set_option('display.max_colwidth', None)\n",
    "test_df.to_csv('test_results.csv', index=False)\n",
    "test_df['predicted_ingredients'].to_csv('predicted_ingredients.csv', index=False)"
   ]
  },
  {
   "cell_type": "markdown",
   "id": "2a4f9022-ccb7-4de0-8ff0-31efe5bccf29",
   "metadata": {
    "id": "2a4f9022-ccb7-4de0-8ff0-31efe5bccf29"
   },
   "source": [
    "## Evaluation of Model Performance:\n",
    "\n",
    "The model’s performance is evaluated by comparing predicted ingredients with actual ground truth labels from the test data.  \n",
    "Test data's predicted and actual NER values are prepared in a way Spacy can understand and therefore annotations are used.  \n",
    "This comparison is made by annotating raw text with the predicted entities and their corresponding labels.  \n",
    "SpaCy’s Scorer is used to calculate performance metrics such as precision, recall, and F1 scores, which reflect the model’s ability to accurately extract ingredients and quantities."
   ]
  },
  {
   "cell_type": "code",
   "execution_count": 8,
   "id": "a396206e-afe6-4fcd-b36f-40137b112c71",
   "metadata": {
    "colab": {
     "base_uri": "https://localhost:8080/"
    },
    "executionInfo": {
     "elapsed": 19,
     "status": "ok",
     "timestamp": 1742171519750,
     "user": {
      "displayName": "Jimmy",
      "userId": "05890202490702060509"
     },
     "user_tz": 240
    },
    "id": "a396206e-afe6-4fcd-b36f-40137b112c71",
    "outputId": "7d3b6541-a80c-4459-8f27-e3eb55f029f1"
   },
   "outputs": [
    {
     "data": {
      "text/plain": [
       "30000"
      ]
     },
     "execution_count": 8,
     "metadata": {},
     "output_type": "execute_result"
    }
   ],
   "source": [
    "len(test_df)"
   ]
  },
  {
   "cell_type": "markdown",
   "id": "e6a6bdaa",
   "metadata": {},
   "source": [
    "## Preparing the data for predicted ingredient values for evaluation\n",
    "Creating annotation for the predicted values"
   ]
  },
  {
   "cell_type": "code",
   "execution_count": null,
   "id": "3c798f13",
   "metadata": {},
   "outputs": [],
   "source": [
    "\n",
    "texts = test_df['test_recipe'].tolist()\n",
    "ner_tags = test_df['predicted_ingredients'].tolist()\n",
    "\n",
    "nlp = spacy.blank(\"en\")\n",
    "\n",
    "# Create a dictionary of terms\n",
    "terms = {}\n",
    "patterns = []\n",
    "\n",
    "for tags in ner_tags:\n",
    "    for tag in tags:\n",
    "        if tag not in terms and tag!='mix':\n",
    "            terms[tag] = {'label': 'INGREDIENT'}\n",
    "            patterns.append(nlp(tag))\n",
    "\n",
    "# Initialize the PhraseMatcher\n",
    "ingredient_matcher = PhraseMatcher(nlp.vocab)\n",
    "ingredient_matcher.add(\"INGREDIENT\", None, *patterns)"
   ]
  },
  {
   "cell_type": "code",
   "execution_count": null,
   "id": "0b79aba1-3a45-48ba-8834-593b4d2a0c90",
   "metadata": {
    "colab": {
     "base_uri": "https://localhost:8080/"
    },
    "executionInfo": {
     "elapsed": 8,
     "status": "ok",
     "timestamp": 1742171746999,
     "user": {
      "displayName": "Jimmy",
      "userId": "05890202490702060509"
     },
     "user_tz": 240
    },
    "id": "0b79aba1-3a45-48ba-8834-593b4d2a0c90",
    "outputId": "e9520619-ac15-4a95-ac16-f6a5768c396b"
   },
   "outputs": [
    {
     "data": {
      "text/plain": [
       "25272"
      ]
     },
     "execution_count": 12,
     "metadata": {},
     "output_type": "execute_result"
    }
   ],
   "source": [
    "len(patterns)"
   ]
  },
  {
   "cell_type": "code",
   "execution_count": null,
   "id": "f74f9e0f-ef07-4f6b-a154-01e39a05f4a8",
   "metadata": {
    "colab": {
     "base_uri": "https://localhost:8080/"
    },
    "executionInfo": {
     "elapsed": 13,
     "status": "ok",
     "timestamp": 1742171749809,
     "user": {
      "displayName": "Jimmy",
      "userId": "05890202490702060509"
     },
     "user_tz": 240
    },
    "id": "f74f9e0f-ef07-4f6b-a154-01e39a05f4a8",
    "outputId": "8bc4d626-6fb8-4277-d016-90989b0b19b8"
   },
   "outputs": [
    {
     "data": {
      "text/plain": [
       "[onion soup mix,\n",
       " mushrooms,\n",
       " pour,\n",
       " breadcrumbs,\n",
       " bowl combine,\n",
       " shredded cheese,\n",
       " salt,\n",
       " pepper,\n",
       " bread crumbs,\n",
       " mixed]"
      ]
     },
     "execution_count": 13,
     "metadata": {},
     "output_type": "execute_result"
    }
   ],
   "source": [
    "patterns[:10]"
   ]
  },
  {
   "cell_type": "code",
   "execution_count": null,
   "id": "a806dd69-0577-433e-be65-27daaa537a90",
   "metadata": {
    "id": "a806dd69-0577-433e-be65-27daaa537a90",
    "outputId": "0b3703d2-600f-4554-a040-634823ff2626"
   },
   "outputs": [
    {
     "data": {
      "text/plain": [
       "<function __main__.quantity_extractor(doc)>"
      ]
     },
     "execution_count": 33,
     "metadata": {},
     "output_type": "execute_result"
    }
   ],
   "source": [
    "#Calling the quantity_extractor component to add to ner pipe\n",
    "nlp.add_pipe(\"quantity_extractor\", last=True)"
   ]
  },
  {
   "cell_type": "code",
   "execution_count": null,
   "id": "3a836969-840d-4d59-8965-3a7b8f0109b1",
   "metadata": {
    "id": "3a836969-840d-4d59-8965-3a7b8f0109b1",
    "outputId": "e6eeff45-900a-4909-d7f0-2963bcafb682"
   },
   "outputs": [
    {
     "data": {
      "text/plain": [
       "<function __main__.ingredient_extractor(doc)>"
      ]
     },
     "execution_count": 34,
     "metadata": {},
     "output_type": "execute_result"
    }
   ],
   "source": [
    "#Calling the ingredient_extractor component to add to ner pipe\n",
    "nlp.add_pipe(\"ingredient_extractor\", last=True)"
   ]
  },
  {
   "cell_type": "code",
   "execution_count": null,
   "id": "c853f91e-ca01-4196-afec-79b7b738c571",
   "metadata": {
    "colab": {
     "base_uri": "https://localhost:8080/"
    },
    "executionInfo": {
     "elapsed": 12,
     "status": "ok",
     "timestamp": 1742171788529,
     "user": {
      "displayName": "Jimmy",
      "userId": "05890202490702060509"
     },
     "user_tz": 240
    },
    "id": "c853f91e-ca01-4196-afec-79b7b738c571",
    "outputId": "6a43dbdd-a91f-47de-de08-347c6b461e65"
   },
   "outputs": [
    {
     "data": {
      "text/plain": [
       "{'summary': {'quantity_extractor': {'assigns': [],\n",
       "   'requires': [],\n",
       "   'scores': [],\n",
       "   'retokenizes': False},\n",
       "  'ingredient_extractor': {'assigns': [],\n",
       "   'requires': [],\n",
       "   'scores': [],\n",
       "   'retokenizes': False}},\n",
       " 'problems': {'quantity_extractor': [], 'ingredient_extractor': []},\n",
       " 'attrs': {}}"
      ]
     },
     "execution_count": 18,
     "metadata": {},
     "output_type": "execute_result"
    }
   ],
   "source": [
    "nlp.analyze_pipes()"
   ]
  },
  {
   "cell_type": "code",
   "execution_count": null,
   "id": "e6b8a138-3b17-435a-bd1d-1b9be66e786c",
   "metadata": {
    "executionInfo": {
     "elapsed": 33686,
     "status": "ok",
     "timestamp": 1742171825822,
     "user": {
      "displayName": "Jimmy",
      "userId": "05890202490702060509"
     },
     "user_tz": 240
    },
    "id": "e6b8a138-3b17-435a-bd1d-1b9be66e786c"
   },
   "outputs": [],
   "source": [
    "#Creating annotations for predicted ingredient values\n",
    "\n",
    "from spacy.tokens import DocBin\n",
    "\n",
    "predicted_data = [(text, {\"entities\": []}) for text in texts]\n",
    "\n",
    "for i, (text, annotations) in enumerate(predicted_data):\n",
    "    doc = nlp(text)\n",
    "    entities = [(ent.start_char, ent.end_char, ent.label_) for ent in doc.ents]\n",
    "    predicted_data[i] = (text, {\"entities\": entities})"
   ]
  },
  {
   "cell_type": "code",
   "execution_count": null,
   "id": "162a23aa-a027-4be9-9d25-8d28823a70ad",
   "metadata": {
    "colab": {
     "base_uri": "https://localhost:8080/"
    },
    "executionInfo": {
     "elapsed": 49,
     "status": "ok",
     "timestamp": 1742172168682,
     "user": {
      "displayName": "Jimmy",
      "userId": "05890202490702060509"
     },
     "user_tz": 240
    },
    "id": "162a23aa-a027-4be9-9d25-8d28823a70ad",
    "outputId": "6be3c9e8-d5d0-4eb7-b325-d00139603e1f"
   },
   "outputs": [
    {
     "data": {
      "text/plain": [
       "('great fluff 7 ounce marshmallows 2 tablespoon unsalted butter 12 cup brown sugar 1 cup evaporated milk first add sugar marshmallows and milk to a pot then wait till boiling when done bowling add in the marshmallows finally wait till the marshmallows melt in the bowling liquid then enjoy you yummy tasting fluff',\n",
       " {'entities': [(6, 11, 'INGREDIENT'),\n",
       "   (12, 19, 'QUANTITY'),\n",
       "   (20, 32, 'INGREDIENT'),\n",
       "   (33, 45, 'QUANTITY'),\n",
       "   (46, 61, 'INGREDIENT'),\n",
       "   (62, 68, 'QUANTITY'),\n",
       "   (69, 80, 'INGREDIENT'),\n",
       "   (81, 86, 'QUANTITY'),\n",
       "   (87, 102, 'INGREDIENT'),\n",
       "   (103, 108, 'INGREDIENT'),\n",
       "   (113, 118, 'INGREDIENT'),\n",
       "   (119, 131, 'INGREDIENT'),\n",
       "   (136, 140, 'INGREDIENT'),\n",
       "   (144, 145, 'INGREDIENT'),\n",
       "   (150, 154, 'INGREDIENT'),\n",
       "   (165, 172, 'INGREDIENT'),\n",
       "   (195, 197, 'INGREDIENT'),\n",
       "   (202, 214, 'INGREDIENT'),\n",
       "   (237, 249, 'INGREDIENT'),\n",
       "   (255, 257, 'INGREDIENT'),\n",
       "   (270, 276, 'INGREDIENT'),\n",
       "   (277, 281, 'INGREDIENT'),\n",
       "   (282, 287, 'INGREDIENT'),\n",
       "   (306, 311, 'INGREDIENT')]})"
      ]
     },
     "execution_count": 32,
     "metadata": {},
     "output_type": "execute_result"
    }
   ],
   "source": [
    "predicted_data[1]"
   ]
  },
  {
   "cell_type": "markdown",
   "id": "e6fba8ba",
   "metadata": {},
   "source": [
    "## Preparing the data for actual NER labels to compare with the predicted labels\n",
    "Creating annotation for the actual NER values"
   ]
  },
  {
   "cell_type": "code",
   "execution_count": null,
   "id": "5564e5e3-ce23-43aa-b471-6dfd4a7b6fc4",
   "metadata": {
    "executionInfo": {
     "elapsed": 1244,
     "status": "ok",
     "timestamp": 1742171859166,
     "user": {
      "displayName": "Jimmy",
      "userId": "05890202490702060509"
     },
     "user_tz": 240
    },
    "id": "5564e5e3-ce23-43aa-b471-6dfd4a7b6fc4"
   },
   "outputs": [],
   "source": [
    "texts = test_df['test_recipe'].tolist()\n",
    "ner_tags = test_df['actual_NER'].apply(eval).tolist()\n",
    "\n",
    "nlp = spacy.blank(\"en\")\n",
    "\n",
    "# Create a dictionary of terms\n",
    "terms = {}\n",
    "patterns = []\n",
    "\n",
    "for tags in ner_tags:\n",
    "    for tag in tags:\n",
    "        if tag not in terms and tag!='mix':\n",
    "            terms[tag] = {'label': 'INGREDIENT'}\n",
    "            patterns.append(nlp(tag))\n",
    "\n",
    "# Initialize the PhraseMatcher\n",
    "ingredient_matcher = PhraseMatcher(nlp.vocab)\n",
    "ingredient_matcher.add(\"INGREDIENT\", None, *patterns)"
   ]
  },
  {
   "cell_type": "code",
   "execution_count": null,
   "id": "6aa8a8dd-9b35-427a-a11e-b563d3bb3050",
   "metadata": {
    "colab": {
     "base_uri": "https://localhost:8080/"
    },
    "executionInfo": {
     "elapsed": 8,
     "status": "ok",
     "timestamp": 1742171861132,
     "user": {
      "displayName": "Jimmy",
      "userId": "05890202490702060509"
     },
     "user_tz": 240
    },
    "id": "6aa8a8dd-9b35-427a-a11e-b563d3bb3050",
    "outputId": "3f6dc671-ef72-4b40-94d6-c11f5e5169f9"
   },
   "outputs": [
    {
     "data": {
      "text/plain": [
       "[sour cream,\n",
       " onion soup,\n",
       " onion,\n",
       " mushrooms,\n",
       " shredded cheese,\n",
       " breadcrumbs,\n",
       " green beans,\n",
       " butter,\n",
       " salt,\n",
       " milk]"
      ]
     },
     "execution_count": 22,
     "metadata": {},
     "output_type": "execute_result"
    }
   ],
   "source": [
    "patterns[:10]"
   ]
  },
  {
   "cell_type": "code",
   "execution_count": null,
   "id": "ef0fc2e5-5f85-4c5b-ba7e-cf9f6384e508",
   "metadata": {
    "id": "ef0fc2e5-5f85-4c5b-ba7e-cf9f6384e508",
    "outputId": "07ddb634-3efa-4e81-bf7d-bec555b74792"
   },
   "outputs": [
    {
     "data": {
      "text/plain": [
       "<function __main__.quantity_extractor(doc)>"
      ]
     },
     "execution_count": 22,
     "metadata": {},
     "output_type": "execute_result"
    }
   ],
   "source": [
    "#Calling the quantity_extractor component to add to ner pipe\n",
    "nlp.add_pipe(\"quantity_extractor\", last=True)"
   ]
  },
  {
   "cell_type": "code",
   "execution_count": null,
   "id": "d05de8e4-4451-4be3-9001-48d23475c2c6",
   "metadata": {
    "id": "d05de8e4-4451-4be3-9001-48d23475c2c6",
    "outputId": "89f7a70f-992e-497a-d759-a520c4ea8a06"
   },
   "outputs": [
    {
     "data": {
      "text/plain": [
       "<function __main__.ingredient_extractor(doc)>"
      ]
     },
     "execution_count": 23,
     "metadata": {},
     "output_type": "execute_result"
    }
   ],
   "source": [
    "#Calling the ingredient_extractor component to add to ner pipe\n",
    "nlp.add_pipe(\"ingredient_extractor\", last=True)"
   ]
  },
  {
   "cell_type": "code",
   "execution_count": null,
   "id": "aac80693-6dcf-4bec-bf36-d46122f99770",
   "metadata": {
    "colab": {
     "base_uri": "https://localhost:8080/"
    },
    "executionInfo": {
     "elapsed": 45,
     "status": "ok",
     "timestamp": 1742171895589,
     "user": {
      "displayName": "Jimmy",
      "userId": "05890202490702060509"
     },
     "user_tz": 240
    },
    "id": "aac80693-6dcf-4bec-bf36-d46122f99770",
    "outputId": "958cb092-ebf3-47de-95d8-adfadd392af4"
   },
   "outputs": [
    {
     "data": {
      "text/plain": [
       "{'summary': {'quantity_extractor': {'assigns': [],\n",
       "   'requires': [],\n",
       "   'scores': [],\n",
       "   'retokenizes': False},\n",
       "  'ingredient_extractor': {'assigns': [],\n",
       "   'requires': [],\n",
       "   'scores': [],\n",
       "   'retokenizes': False}},\n",
       " 'problems': {'quantity_extractor': [], 'ingredient_extractor': []},\n",
       " 'attrs': {}}"
      ]
     },
     "execution_count": 27,
     "metadata": {},
     "output_type": "execute_result"
    }
   ],
   "source": [
    "nlp.analyze_pipes()"
   ]
  },
  {
   "cell_type": "code",
   "execution_count": null,
   "id": "2cfe3ad4-8762-4406-8463-2b862ab76376",
   "metadata": {
    "executionInfo": {
     "elapsed": 32321,
     "status": "ok",
     "timestamp": 1742171932399,
     "user": {
      "displayName": "Jimmy",
      "userId": "05890202490702060509"
     },
     "user_tz": 240
    },
    "id": "2cfe3ad4-8762-4406-8463-2b862ab76376"
   },
   "outputs": [],
   "source": [
    "#Creating annotations for actual NER labels\n",
    "from spacy.tokens import DocBin\n",
    "\n",
    "actual_data = [(text, {\"entities\": []}) for text in texts]\n",
    "\n",
    "for i, (text, annotations) in enumerate(actual_data):\n",
    "    doc = nlp(text)\n",
    "    entities = [(ent.start_char, ent.end_char, ent.label_) for ent in doc.ents]\n",
    "    actual_data[i] = (text, {\"entities\": entities})"
   ]
  },
  {
   "cell_type": "code",
   "execution_count": null,
   "id": "66580bd0-1320-4cf8-a777-1cc3c98a2f44",
   "metadata": {
    "colab": {
     "base_uri": "https://localhost:8080/"
    },
    "executionInfo": {
     "elapsed": 18,
     "status": "ok",
     "timestamp": 1742172178014,
     "user": {
      "displayName": "Jimmy",
      "userId": "05890202490702060509"
     },
     "user_tz": 240
    },
    "id": "66580bd0-1320-4cf8-a777-1cc3c98a2f44",
    "outputId": "1e4929ec-4719-460b-d116-d60553f72a57"
   },
   "outputs": [
    {
     "data": {
      "text/plain": [
       "('great fluff 7 ounce marshmallows 2 tablespoon unsalted butter 12 cup brown sugar 1 cup evaporated milk first add sugar marshmallows and milk to a pot then wait till boiling when done bowling add in the marshmallows finally wait till the marshmallows melt in the bowling liquid then enjoy you yummy tasting fluff',\n",
       " {'entities': [(12, 19, 'QUANTITY'),\n",
       "   (20, 32, 'INGREDIENT'),\n",
       "   (33, 45, 'QUANTITY'),\n",
       "   (46, 61, 'INGREDIENT'),\n",
       "   (62, 68, 'QUANTITY'),\n",
       "   (69, 80, 'INGREDIENT'),\n",
       "   (81, 86, 'QUANTITY'),\n",
       "   (87, 102, 'INGREDIENT'),\n",
       "   (113, 118, 'INGREDIENT'),\n",
       "   (119, 131, 'INGREDIENT'),\n",
       "   (136, 140, 'INGREDIENT'),\n",
       "   (146, 149, 'INGREDIENT'),\n",
       "   (150, 154, 'INGREDIENT'),\n",
       "   (165, 172, 'INGREDIENT'),\n",
       "   (195, 197, 'INGREDIENT'),\n",
       "   (202, 214, 'INGREDIENT'),\n",
       "   (237, 249, 'INGREDIENT'),\n",
       "   (255, 257, 'INGREDIENT'),\n",
       "   (270, 276, 'INGREDIENT'),\n",
       "   (277, 281, 'INGREDIENT')]})"
      ]
     },
     "execution_count": 33,
     "metadata": {},
     "output_type": "execute_result"
    }
   ],
   "source": [
    "actual_data[1]"
   ]
  },
  {
   "cell_type": "code",
   "execution_count": null,
   "id": "8fbe2578-2564-4b79-bfb0-ce32024b31ac",
   "metadata": {
    "colab": {
     "base_uri": "https://localhost:8080/"
    },
    "executionInfo": {
     "elapsed": 213321,
     "status": "ok",
     "timestamp": 1742172461271,
     "user": {
      "displayName": "Jimmy",
      "userId": "05890202490702060509"
     },
     "user_tz": 240
    },
    "id": "8fbe2578-2564-4b79-bfb0-ce32024b31ac",
    "outputId": "79117ad0-4d2c-4500-e5dc-3fd5dd009044"
   },
   "outputs": [
    {
     "name": "stdout",
     "output_type": "stream",
     "text": [
      "{'token_acc': 1.0, 'token_p': 1.0, 'token_r': 1.0, 'token_f': 1.0, 'sents_p': None, 'sents_r': None, 'sents_f': None, 'tag_acc': None, 'pos_acc': None, 'morph_acc': None, 'morph_micro_p': None, 'morph_micro_r': None, 'morph_micro_f': None, 'morph_per_feat': None, 'dep_uas': None, 'dep_las': None, 'dep_las_per_type': None, 'ents_p': 0.782902706363453, 'ents_r': 0.9016767679389511, 'ents_f': 0.838102556338916, 'ents_per_type': {'INGREDIENT': {'p': 0.7533481928528357, 'r': 0.885935777993243, 'f': 0.8142800505642817}, 'QUANTITY': {'p': 1.0, 'r': 1.0, 'f': 1.0}}, 'cats_score': 0.0, 'cats_score_desc': 'macro F', 'cats_micro_p': 0.0, 'cats_micro_r': 0.0, 'cats_micro_f': 0.0, 'cats_macro_p': 0.0, 'cats_macro_r': 0.0, 'cats_macro_f': 0.0, 'cats_macro_auc': 0.0, 'cats_f_per_type': {}, 'cats_auc_per_type': {}}\n"
     ]
    }
   ],
   "source": [
    "#Evaluating the predicted ingredients against the actual labels\n",
    "\n",
    "from spacy.training import Example\n",
    "from spacy.scorer import Scorer\n",
    "\n",
    "examples = []\n",
    "\n",
    "# Iterate over both predicted and actual data to create Example objects\n",
    "for actual, predicted in zip(actual_data, predicted_data):\n",
    "    text = actual[0]\n",
    "\n",
    "    # Actual annotations (ground truth)\n",
    "    actual_anns = actual[1]\n",
    "\n",
    "    # Predicted annotations\n",
    "    predicted_anns = predicted[1]\n",
    "\n",
    "    # Doc object for the actual (ground truth) annotations\n",
    "    doc_actual = nlp.make_doc(text)\n",
    "    # Example object with the actual annotations\n",
    "    example = Example.from_dict(doc_actual, actual_anns)\n",
    "\n",
    "    # Doc object for the predicted annotations\n",
    "    doc_predicted = nlp.make_doc(text)\n",
    "\n",
    "    # List of Span objects for the predicted entities\n",
    "    predicted_spans = []\n",
    "    for start, end, label in predicted_anns[\"entities\"]:\n",
    "        span = doc_predicted.char_span(start, end, label=label)\n",
    "        if span is not None:\n",
    "            predicted_spans.append(span)\n",
    "\n",
    "    # Set predicted entities in the doc_predicted object\n",
    "    doc_predicted.ents = predicted_spans\n",
    "\n",
    "    # Set the predicted entities in the Example object\n",
    "    example.predicted = doc_predicted\n",
    "\n",
    "    # Append the Example object to the list\n",
    "    examples.append(example)\n",
    "\n",
    "# Evaluate the model with these examples\n",
    "scorer = Scorer()\n",
    "metrics = scorer.score(examples)\n",
    "\n",
    "# Print evaluation results\n",
    "print(metrics)\n"
   ]
  },
  {
   "cell_type": "markdown",
   "id": "8rY1_EL-qHl4",
   "metadata": {
    "id": "8rY1_EL-qHl4"
   },
   "source": [
    "## Testing on raw sample data"
   ]
  },
  {
   "cell_type": "code",
   "execution_count": 36,
   "id": "bdca529f-7b0f-4880-bfe8-a0395ef25faf",
   "metadata": {
    "colab": {
     "base_uri": "https://localhost:8080/",
     "height": 1000
    },
    "executionInfo": {
     "elapsed": 696,
     "status": "ok",
     "timestamp": 1742172496204,
     "user": {
      "displayName": "Jimmy",
      "userId": "05890202490702060509"
     },
     "user_tz": 240
    },
    "id": "bdca529f-7b0f-4880-bfe8-a0395ef25faf",
    "outputId": "05e3cec2-434a-4991-9709-959c3a61e191"
   },
   "outputs": [
    {
     "name": "stderr",
     "output_type": "stream",
     "text": [
      "/usr/local/lib/python3.11/dist-packages/spacy/util.py:910: UserWarning: [W095] Model 'en_pipeline' (0.0.0) was trained with spaCy v3.8.4 and may not be 100% compatible with the current version (3.7.5). If you see errors or degraded performance, download a newer compatible model or retrain your custom model with the current spaCy version. For more details and available updates, run: python -m spacy validate\n",
      "  warnings.warn(warn_msg)\n"
     ]
    },
    {
     "name": "stdout",
     "output_type": "stream",
     "text": [
      "Recipe: Mexican Tacos\n",
      "Visualizing Entities for Mexican Tacos\n"
     ]
    },
    {
     "data": {
      "text/html": [
       "<span class=\"tex2jax_ignore\"><!DOCTYPE html>\n",
       "<html lang=\"en\">\n",
       "    <head>\n",
       "        <title>displaCy</title>\n",
       "    </head>\n",
       "\n",
       "    <body style=\"font-size: 16px; font-family: -apple-system, BlinkMacSystemFont, 'Segoe UI', Helvetica, Arial, sans-serif, 'Apple Color Emoji', 'Segoe UI Emoji', 'Segoe UI Symbol'; padding: 4rem 2rem; direction: ltr\">\n",
       "<figure style=\"margin-bottom: 6rem\">\n",
       "<div class=\"entities\" style=\"line-height: 2.5; direction: ltr\">\n",
       "<mark class=\"entity\" style=\"background: #ddd; padding: 0.45em 0.6em; margin: 0 0.25em; line-height: 1; border-radius: 0.35em;\">\n",
       "    For\n",
       "    <span style=\"font-size: 0.8em; font-weight: bold; line-height: 1; border-radius: 0.35em; vertical-align: middle; margin-left: 0.5rem\">INGREDIENT</span>\n",
       "</mark>\n",
       " the \n",
       "<mark class=\"entity\" style=\"background: #ddd; padding: 0.45em 0.6em; margin: 0 0.25em; line-height: 1; border-radius: 0.35em;\">\n",
       "    tacos\n",
       "    <span style=\"font-size: 0.8em; font-weight: bold; line-height: 1; border-radius: 0.35em; vertical-align: middle; margin-left: 0.5rem\">INGREDIENT</span>\n",
       "</mark>\n",
       ", you \n",
       "<mark class=\"entity\" style=\"background: #ddd; padding: 0.45em 0.6em; margin: 0 0.25em; line-height: 1; border-radius: 0.35em;\">\n",
       "    will\n",
       "    <span style=\"font-size: 0.8em; font-weight: bold; line-height: 1; border-radius: 0.35em; vertical-align: middle; margin-left: 0.5rem\">INGREDIENT</span>\n",
       "</mark>\n",
       " need \n",
       "<mark class=\"entity\" style=\"background: #e4e7d2; padding: 0.45em 0.6em; margin: 0 0.25em; line-height: 1; border-radius: 0.35em;\">\n",
       "    1 cup\n",
       "    <span style=\"font-size: 0.8em; font-weight: bold; line-height: 1; border-radius: 0.35em; vertical-align: middle; margin-left: 0.5rem\">QUANTITY</span>\n",
       "</mark>\n",
       " \n",
       "<mark class=\"entity\" style=\"background: #ddd; padding: 0.45em 0.6em; margin: 0 0.25em; line-height: 1; border-radius: 0.35em;\">\n",
       "    of\n",
       "    <span style=\"font-size: 0.8em; font-weight: bold; line-height: 1; border-radius: 0.35em; vertical-align: middle; margin-left: 0.5rem\">INGREDIENT</span>\n",
       "</mark>\n",
       " \n",
       "<mark class=\"entity\" style=\"background: #ddd; padding: 0.45em 0.6em; margin: 0 0.25em; line-height: 1; border-radius: 0.35em;\">\n",
       "    salsa\n",
       "    <span style=\"font-size: 0.8em; font-weight: bold; line-height: 1; border-radius: 0.35em; vertical-align: middle; margin-left: 0.5rem\">INGREDIENT</span>\n",
       "</mark>\n",
       ", \n",
       "<mark class=\"entity\" style=\"background: #e4e7d2; padding: 0.45em 0.6em; margin: 0 0.25em; line-height: 1; border-radius: 0.35em;\">\n",
       "    2 tablespoon\n",
       "    <span style=\"font-size: 0.8em; font-weight: bold; line-height: 1; border-radius: 0.35em; vertical-align: middle; margin-left: 0.5rem\">QUANTITY</span>\n",
       "</mark>\n",
       " \n",
       "<mark class=\"entity\" style=\"background: #ddd; padding: 0.45em 0.6em; margin: 0 0.25em; line-height: 1; border-radius: 0.35em;\">\n",
       "    of\n",
       "    <span style=\"font-size: 0.8em; font-weight: bold; line-height: 1; border-radius: 0.35em; vertical-align: middle; margin-left: 0.5rem\">INGREDIENT</span>\n",
       "</mark>\n",
       " chopped \n",
       "<mark class=\"entity\" style=\"background: #ddd; padding: 0.45em 0.6em; margin: 0 0.25em; line-height: 1; border-radius: 0.35em;\">\n",
       "    cilantro\n",
       "    <span style=\"font-size: 0.8em; font-weight: bold; line-height: 1; border-radius: 0.35em; vertical-align: middle; margin-left: 0.5rem\">INGREDIENT</span>\n",
       "</mark>\n",
       ", and \n",
       "<mark class=\"entity\" style=\"background: #e4e7d2; padding: 0.45em 0.6em; margin: 0 0.25em; line-height: 1; border-radius: 0.35em;\">\n",
       "    1 teaspoon\n",
       "    <span style=\"font-size: 0.8em; font-weight: bold; line-height: 1; border-radius: 0.35em; vertical-align: middle; margin-left: 0.5rem\">QUANTITY</span>\n",
       "</mark>\n",
       " \n",
       "<mark class=\"entity\" style=\"background: #ddd; padding: 0.45em 0.6em; margin: 0 0.25em; line-height: 1; border-radius: 0.35em;\">\n",
       "    of\n",
       "    <span style=\"font-size: 0.8em; font-weight: bold; line-height: 1; border-radius: 0.35em; vertical-align: middle; margin-left: 0.5rem\">INGREDIENT</span>\n",
       "</mark>\n",
       " \n",
       "<mark class=\"entity\" style=\"background: #ddd; padding: 0.45em 0.6em; margin: 0 0.25em; line-height: 1; border-radius: 0.35em;\">\n",
       "    chili powder\n",
       "    <span style=\"font-size: 0.8em; font-weight: bold; line-height: 1; border-radius: 0.35em; vertical-align: middle; margin-left: 0.5rem\">INGREDIENT</span>\n",
       "</mark>\n",
       ". \n",
       "<mark class=\"entity\" style=\"background: #ddd; padding: 0.45em 0.6em; margin: 0 0.25em; line-height: 1; border-radius: 0.35em;\">\n",
       "    Serve\n",
       "    <span style=\"font-size: 0.8em; font-weight: bold; line-height: 1; border-radius: 0.35em; vertical-align: middle; margin-left: 0.5rem\">INGREDIENT</span>\n",
       "</mark>\n",
       " the \n",
       "<mark class=\"entity\" style=\"background: #ddd; padding: 0.45em 0.6em; margin: 0 0.25em; line-height: 1; border-radius: 0.35em;\">\n",
       "    tacos\n",
       "    <span style=\"font-size: 0.8em; font-weight: bold; line-height: 1; border-radius: 0.35em; vertical-align: middle; margin-left: 0.5rem\">INGREDIENT</span>\n",
       "</mark>\n",
       " with \n",
       "<mark class=\"entity\" style=\"background: #e4e7d2; padding: 0.45em 0.6em; margin: 0 0.25em; line-height: 1; border-radius: 0.35em;\">\n",
       "    1 pound\n",
       "    <span style=\"font-size: 0.8em; font-weight: bold; line-height: 1; border-radius: 0.35em; vertical-align: middle; margin-left: 0.5rem\">QUANTITY</span>\n",
       "</mark>\n",
       " \n",
       "<mark class=\"entity\" style=\"background: #ddd; padding: 0.45em 0.6em; margin: 0 0.25em; line-height: 1; border-radius: 0.35em;\">\n",
       "    of\n",
       "    <span style=\"font-size: 0.8em; font-weight: bold; line-height: 1; border-radius: 0.35em; vertical-align: middle; margin-left: 0.5rem\">INGREDIENT</span>\n",
       "</mark>\n",
       " \n",
       "<mark class=\"entity\" style=\"background: #ddd; padding: 0.45em 0.6em; margin: 0 0.25em; line-height: 1; border-radius: 0.35em;\">\n",
       "    ground beef\n",
       "    <span style=\"font-size: 0.8em; font-weight: bold; line-height: 1; border-radius: 0.35em; vertical-align: middle; margin-left: 0.5rem\">INGREDIENT</span>\n",
       "</mark>\n",
       ", and garnish with \n",
       "<mark class=\"entity\" style=\"background: #e4e7d2; padding: 0.45em 0.6em; margin: 0 0.25em; line-height: 1; border-radius: 0.35em;\">\n",
       "    0.5 cup\n",
       "    <span style=\"font-size: 0.8em; font-weight: bold; line-height: 1; border-radius: 0.35em; vertical-align: middle; margin-left: 0.5rem\">QUANTITY</span>\n",
       "</mark>\n",
       " \n",
       "<mark class=\"entity\" style=\"background: #ddd; padding: 0.45em 0.6em; margin: 0 0.25em; line-height: 1; border-radius: 0.35em;\">\n",
       "    of\n",
       "    <span style=\"font-size: 0.8em; font-weight: bold; line-height: 1; border-radius: 0.35em; vertical-align: middle; margin-left: 0.5rem\">INGREDIENT</span>\n",
       "</mark>\n",
       " \n",
       "<mark class=\"entity\" style=\"background: #ddd; padding: 0.45em 0.6em; margin: 0 0.25em; line-height: 1; border-radius: 0.35em;\">\n",
       "    shredded cheese\n",
       "    <span style=\"font-size: 0.8em; font-weight: bold; line-height: 1; border-radius: 0.35em; vertical-align: middle; margin-left: 0.5rem\">INGREDIENT</span>\n",
       "</mark>\n",
       ".</div>\n",
       "</figure>\n",
       "</body>\n",
       "</html></span>"
      ],
      "text/plain": [
       "<IPython.core.display.HTML object>"
      ]
     },
     "metadata": {},
     "output_type": "display_data"
    },
    {
     "name": "stdout",
     "output_type": "stream",
     "text": [
      "\n",
      "--------------------------------------------------\n",
      "\n",
      "Recipe: Italian Margherita Pizza\n",
      "Visualizing Entities for Italian Margherita Pizza\n"
     ]
    },
    {
     "data": {
      "text/html": [
       "<span class=\"tex2jax_ignore\"><!DOCTYPE html>\n",
       "<html lang=\"en\">\n",
       "    <head>\n",
       "        <title>displaCy</title>\n",
       "    </head>\n",
       "\n",
       "    <body style=\"font-size: 16px; font-family: -apple-system, BlinkMacSystemFont, 'Segoe UI', Helvetica, Arial, sans-serif, 'Apple Color Emoji', 'Segoe UI Emoji', 'Segoe UI Symbol'; padding: 4rem 2rem; direction: ltr\">\n",
       "<figure style=\"margin-bottom: 6rem\">\n",
       "<div class=\"entities\" style=\"line-height: 2.5; direction: ltr\">\n",
       "<mark class=\"entity\" style=\"background: #ddd; padding: 0.45em 0.6em; margin: 0 0.25em; line-height: 1; border-radius: 0.35em;\">\n",
       "    For\n",
       "    <span style=\"font-size: 0.8em; font-weight: bold; line-height: 1; border-radius: 0.35em; vertical-align: middle; margin-left: 0.5rem\">INGREDIENT</span>\n",
       "</mark>\n",
       " the \n",
       "<mark class=\"entity\" style=\"background: #ddd; padding: 0.45em 0.6em; margin: 0 0.25em; line-height: 1; border-radius: 0.35em;\">\n",
       "    pizza\n",
       "    <span style=\"font-size: 0.8em; font-weight: bold; line-height: 1; border-radius: 0.35em; vertical-align: middle; margin-left: 0.5rem\">INGREDIENT</span>\n",
       "</mark>\n",
       ", you'll need \n",
       "<mark class=\"entity\" style=\"background: #e4e7d2; padding: 0.45em 0.6em; margin: 0 0.25em; line-height: 1; border-radius: 0.35em;\">\n",
       "    200 gram\n",
       "    <span style=\"font-size: 0.8em; font-weight: bold; line-height: 1; border-radius: 0.35em; vertical-align: middle; margin-left: 0.5rem\">QUANTITY</span>\n",
       "</mark>\n",
       " \n",
       "<mark class=\"entity\" style=\"background: #ddd; padding: 0.45em 0.6em; margin: 0 0.25em; line-height: 1; border-radius: 0.35em;\">\n",
       "    of\n",
       "    <span style=\"font-size: 0.8em; font-weight: bold; line-height: 1; border-radius: 0.35em; vertical-align: middle; margin-left: 0.5rem\">INGREDIENT</span>\n",
       "</mark>\n",
       " \n",
       "<mark class=\"entity\" style=\"background: #ddd; padding: 0.45em 0.6em; margin: 0 0.25em; line-height: 1; border-radius: 0.35em;\">\n",
       "    mozzarella cheese\n",
       "    <span style=\"font-size: 0.8em; font-weight: bold; line-height: 1; border-radius: 0.35em; vertical-align: middle; margin-left: 0.5rem\">INGREDIENT</span>\n",
       "</mark>\n",
       ", \n",
       "<mark class=\"entity\" style=\"background: #e4e7d2; padding: 0.45em 0.6em; margin: 0 0.25em; line-height: 1; border-radius: 0.35em;\">\n",
       "    1 cup\n",
       "    <span style=\"font-size: 0.8em; font-weight: bold; line-height: 1; border-radius: 0.35em; vertical-align: middle; margin-left: 0.5rem\">QUANTITY</span>\n",
       "</mark>\n",
       " \n",
       "<mark class=\"entity\" style=\"background: #ddd; padding: 0.45em 0.6em; margin: 0 0.25em; line-height: 1; border-radius: 0.35em;\">\n",
       "    of\n",
       "    <span style=\"font-size: 0.8em; font-weight: bold; line-height: 1; border-radius: 0.35em; vertical-align: middle; margin-left: 0.5rem\">INGREDIENT</span>\n",
       "</mark>\n",
       " \n",
       "<mark class=\"entity\" style=\"background: #ddd; padding: 0.45em 0.6em; margin: 0 0.25em; line-height: 1; border-radius: 0.35em;\">\n",
       "    tomato sauce\n",
       "    <span style=\"font-size: 0.8em; font-weight: bold; line-height: 1; border-radius: 0.35em; vertical-align: middle; margin-left: 0.5rem\">INGREDIENT</span>\n",
       "</mark>\n",
       ", and \n",
       "<mark class=\"entity\" style=\"background: #e4e7d2; padding: 0.45em 0.6em; margin: 0 0.25em; line-height: 1; border-radius: 0.35em;\">\n",
       "    2 teaspoon\n",
       "    <span style=\"font-size: 0.8em; font-weight: bold; line-height: 1; border-radius: 0.35em; vertical-align: middle; margin-left: 0.5rem\">QUANTITY</span>\n",
       "</mark>\n",
       " \n",
       "<mark class=\"entity\" style=\"background: #ddd; padding: 0.45em 0.6em; margin: 0 0.25em; line-height: 1; border-radius: 0.35em;\">\n",
       "    of\n",
       "    <span style=\"font-size: 0.8em; font-weight: bold; line-height: 1; border-radius: 0.35em; vertical-align: middle; margin-left: 0.5rem\">INGREDIENT</span>\n",
       "</mark>\n",
       " dried \n",
       "<mark class=\"entity\" style=\"background: #ddd; padding: 0.45em 0.6em; margin: 0 0.25em; line-height: 1; border-radius: 0.35em;\">\n",
       "    oregano\n",
       "    <span style=\"font-size: 0.8em; font-weight: bold; line-height: 1; border-radius: 0.35em; vertical-align: middle; margin-left: 0.5rem\">INGREDIENT</span>\n",
       "</mark>\n",
       ". Use \n",
       "<mark class=\"entity\" style=\"background: #e4e7d2; padding: 0.45em 0.6em; margin: 0 0.25em; line-height: 1; border-radius: 0.35em;\">\n",
       "    1 tablespoon\n",
       "    <span style=\"font-size: 0.8em; font-weight: bold; line-height: 1; border-radius: 0.35em; vertical-align: middle; margin-left: 0.5rem\">QUANTITY</span>\n",
       "</mark>\n",
       " \n",
       "<mark class=\"entity\" style=\"background: #ddd; padding: 0.45em 0.6em; margin: 0 0.25em; line-height: 1; border-radius: 0.35em;\">\n",
       "    of\n",
       "    <span style=\"font-size: 0.8em; font-weight: bold; line-height: 1; border-radius: 0.35em; vertical-align: middle; margin-left: 0.5rem\">INGREDIENT</span>\n",
       "</mark>\n",
       " \n",
       "<mark class=\"entity\" style=\"background: #ddd; padding: 0.45em 0.6em; margin: 0 0.25em; line-height: 1; border-radius: 0.35em;\">\n",
       "    olive oil\n",
       "    <span style=\"font-size: 0.8em; font-weight: bold; line-height: 1; border-radius: 0.35em; vertical-align: middle; margin-left: 0.5rem\">INGREDIENT</span>\n",
       "</mark>\n",
       " to coat the \n",
       "<mark class=\"entity\" style=\"background: #ddd; padding: 0.45em 0.6em; margin: 0 0.25em; line-height: 1; border-radius: 0.35em;\">\n",
       "    dough\n",
       "    <span style=\"font-size: 0.8em; font-weight: bold; line-height: 1; border-radius: 0.35em; vertical-align: middle; margin-left: 0.5rem\">INGREDIENT</span>\n",
       "</mark>\n",
       " \n",
       "<mark class=\"entity\" style=\"background: #ddd; padding: 0.45em 0.6em; margin: 0 0.25em; line-height: 1; border-radius: 0.35em;\">\n",
       "    before baking\n",
       "    <span style=\"font-size: 0.8em; font-weight: bold; line-height: 1; border-radius: 0.35em; vertical-align: middle; margin-left: 0.5rem\">INGREDIENT</span>\n",
       "</mark>\n",
       ".</div>\n",
       "</figure>\n",
       "</body>\n",
       "</html></span>"
      ],
      "text/plain": [
       "<IPython.core.display.HTML object>"
      ]
     },
     "metadata": {},
     "output_type": "display_data"
    },
    {
     "name": "stdout",
     "output_type": "stream",
     "text": [
      "\n",
      "--------------------------------------------------\n",
      "\n",
      "Recipe: American Pancakes\n",
      "Visualizing Entities for American Pancakes\n"
     ]
    },
    {
     "data": {
      "text/html": [
       "<span class=\"tex2jax_ignore\"><!DOCTYPE html>\n",
       "<html lang=\"en\">\n",
       "    <head>\n",
       "        <title>displaCy</title>\n",
       "    </head>\n",
       "\n",
       "    <body style=\"font-size: 16px; font-family: -apple-system, BlinkMacSystemFont, 'Segoe UI', Helvetica, Arial, sans-serif, 'Apple Color Emoji', 'Segoe UI Emoji', 'Segoe UI Symbol'; padding: 4rem 2rem; direction: ltr\">\n",
       "<figure style=\"margin-bottom: 6rem\">\n",
       "<div class=\"entities\" style=\"line-height: 2.5; direction: ltr\">To make pancakes, \n",
       "<mark class=\"entity\" style=\"background: #ddd; padding: 0.45em 0.6em; margin: 0 0.25em; line-height: 1; border-radius: 0.35em;\">\n",
       "    combine\n",
       "    <span style=\"font-size: 0.8em; font-weight: bold; line-height: 1; border-radius: 0.35em; vertical-align: middle; margin-left: 0.5rem\">INGREDIENT</span>\n",
       "</mark>\n",
       " \n",
       "<mark class=\"entity\" style=\"background: #e4e7d2; padding: 0.45em 0.6em; margin: 0 0.25em; line-height: 1; border-radius: 0.35em;\">\n",
       "    1 cup\n",
       "    <span style=\"font-size: 0.8em; font-weight: bold; line-height: 1; border-radius: 0.35em; vertical-align: middle; margin-left: 0.5rem\">QUANTITY</span>\n",
       "</mark>\n",
       " \n",
       "<mark class=\"entity\" style=\"background: #ddd; padding: 0.45em 0.6em; margin: 0 0.25em; line-height: 1; border-radius: 0.35em;\">\n",
       "    of\n",
       "    <span style=\"font-size: 0.8em; font-weight: bold; line-height: 1; border-radius: 0.35em; vertical-align: middle; margin-left: 0.5rem\">INGREDIENT</span>\n",
       "</mark>\n",
       " \n",
       "<mark class=\"entity\" style=\"background: #ddd; padding: 0.45em 0.6em; margin: 0 0.25em; line-height: 1; border-radius: 0.35em;\">\n",
       "    flour\n",
       "    <span style=\"font-size: 0.8em; font-weight: bold; line-height: 1; border-radius: 0.35em; vertical-align: middle; margin-left: 0.5rem\">INGREDIENT</span>\n",
       "</mark>\n",
       ", \n",
       "<mark class=\"entity\" style=\"background: #e4e7d2; padding: 0.45em 0.6em; margin: 0 0.25em; line-height: 1; border-radius: 0.35em;\">\n",
       "    2 tablespoon\n",
       "    <span style=\"font-size: 0.8em; font-weight: bold; line-height: 1; border-radius: 0.35em; vertical-align: middle; margin-left: 0.5rem\">QUANTITY</span>\n",
       "</mark>\n",
       " \n",
       "<mark class=\"entity\" style=\"background: #ddd; padding: 0.45em 0.6em; margin: 0 0.25em; line-height: 1; border-radius: 0.35em;\">\n",
       "    of\n",
       "    <span style=\"font-size: 0.8em; font-weight: bold; line-height: 1; border-radius: 0.35em; vertical-align: middle; margin-left: 0.5rem\">INGREDIENT</span>\n",
       "</mark>\n",
       " \n",
       "<mark class=\"entity\" style=\"background: #ddd; padding: 0.45em 0.6em; margin: 0 0.25em; line-height: 1; border-radius: 0.35em;\">\n",
       "    sugar\n",
       "    <span style=\"font-size: 0.8em; font-weight: bold; line-height: 1; border-radius: 0.35em; vertical-align: middle; margin-left: 0.5rem\">INGREDIENT</span>\n",
       "</mark>\n",
       ", and \n",
       "<mark class=\"entity\" style=\"background: #e4e7d2; padding: 0.45em 0.6em; margin: 0 0.25em; line-height: 1; border-radius: 0.35em;\">\n",
       "    1 teaspoon\n",
       "    <span style=\"font-size: 0.8em; font-weight: bold; line-height: 1; border-radius: 0.35em; vertical-align: middle; margin-left: 0.5rem\">QUANTITY</span>\n",
       "</mark>\n",
       " \n",
       "<mark class=\"entity\" style=\"background: #ddd; padding: 0.45em 0.6em; margin: 0 0.25em; line-height: 1; border-radius: 0.35em;\">\n",
       "    of\n",
       "    <span style=\"font-size: 0.8em; font-weight: bold; line-height: 1; border-radius: 0.35em; vertical-align: middle; margin-left: 0.5rem\">INGREDIENT</span>\n",
       "</mark>\n",
       " \n",
       "<mark class=\"entity\" style=\"background: #ddd; padding: 0.45em 0.6em; margin: 0 0.25em; line-height: 1; border-radius: 0.35em;\">\n",
       "    vanilla extract\n",
       "    <span style=\"font-size: 0.8em; font-weight: bold; line-height: 1; border-radius: 0.35em; vertical-align: middle; margin-left: 0.5rem\">INGREDIENT</span>\n",
       "</mark>\n",
       ". Add \n",
       "<mark class=\"entity\" style=\"background: #e4e7d2; padding: 0.45em 0.6em; margin: 0 0.25em; line-height: 1; border-radius: 0.35em;\">\n",
       "    0.5 cup\n",
       "    <span style=\"font-size: 0.8em; font-weight: bold; line-height: 1; border-radius: 0.35em; vertical-align: middle; margin-left: 0.5rem\">QUANTITY</span>\n",
       "</mark>\n",
       " \n",
       "<mark class=\"entity\" style=\"background: #ddd; padding: 0.45em 0.6em; margin: 0 0.25em; line-height: 1; border-radius: 0.35em;\">\n",
       "    of\n",
       "    <span style=\"font-size: 0.8em; font-weight: bold; line-height: 1; border-radius: 0.35em; vertical-align: middle; margin-left: 0.5rem\">INGREDIENT</span>\n",
       "</mark>\n",
       " \n",
       "<mark class=\"entity\" style=\"background: #ddd; padding: 0.45em 0.6em; margin: 0 0.25em; line-height: 1; border-radius: 0.35em;\">\n",
       "    milk\n",
       "    <span style=\"font-size: 0.8em; font-weight: bold; line-height: 1; border-radius: 0.35em; vertical-align: middle; margin-left: 0.5rem\">INGREDIENT</span>\n",
       "</mark>\n",
       " and \n",
       "<mark class=\"entity\" style=\"background: #e4e7d2; padding: 0.45em 0.6em; margin: 0 0.25em; line-height: 1; border-radius: 0.35em;\">\n",
       "    0.5 cup\n",
       "    <span style=\"font-size: 0.8em; font-weight: bold; line-height: 1; border-radius: 0.35em; vertical-align: middle; margin-left: 0.5rem\">QUANTITY</span>\n",
       "</mark>\n",
       " \n",
       "<mark class=\"entity\" style=\"background: #ddd; padding: 0.45em 0.6em; margin: 0 0.25em; line-height: 1; border-radius: 0.35em;\">\n",
       "    of\n",
       "    <span style=\"font-size: 0.8em; font-weight: bold; line-height: 1; border-radius: 0.35em; vertical-align: middle; margin-left: 0.5rem\">INGREDIENT</span>\n",
       "</mark>\n",
       " melted \n",
       "<mark class=\"entity\" style=\"background: #ddd; padding: 0.45em 0.6em; margin: 0 0.25em; line-height: 1; border-radius: 0.35em;\">\n",
       "    butter\n",
       "    <span style=\"font-size: 0.8em; font-weight: bold; line-height: 1; border-radius: 0.35em; vertical-align: middle; margin-left: 0.5rem\">INGREDIENT</span>\n",
       "</mark>\n",
       " to the \n",
       "<mark class=\"entity\" style=\"background: #ddd; padding: 0.45em 0.6em; margin: 0 0.25em; line-height: 1; border-radius: 0.35em;\">\n",
       "    batter\n",
       "    <span style=\"font-size: 0.8em; font-weight: bold; line-height: 1; border-radius: 0.35em; vertical-align: middle; margin-left: 0.5rem\">INGREDIENT</span>\n",
       "</mark>\n",
       ", \n",
       "<mark class=\"entity\" style=\"background: #ddd; padding: 0.45em 0.6em; margin: 0 0.25em; line-height: 1; border-radius: 0.35em;\">\n",
       "    then\n",
       "    <span style=\"font-size: 0.8em; font-weight: bold; line-height: 1; border-radius: 0.35em; vertical-align: middle; margin-left: 0.5rem\">INGREDIENT</span>\n",
       "</mark>\n",
       " cook on \n",
       "<mark class=\"entity\" style=\"background: #ddd; padding: 0.45em 0.6em; margin: 0 0.25em; line-height: 1; border-radius: 0.35em;\">\n",
       "    a\n",
       "    <span style=\"font-size: 0.8em; font-weight: bold; line-height: 1; border-radius: 0.35em; vertical-align: middle; margin-left: 0.5rem\">INGREDIENT</span>\n",
       "</mark>\n",
       " \n",
       "<mark class=\"entity\" style=\"background: #ddd; padding: 0.45em 0.6em; margin: 0 0.25em; line-height: 1; border-radius: 0.35em;\">\n",
       "    hot\n",
       "    <span style=\"font-size: 0.8em; font-weight: bold; line-height: 1; border-radius: 0.35em; vertical-align: middle; margin-left: 0.5rem\">INGREDIENT</span>\n",
       "</mark>\n",
       " griddle.</div>\n",
       "</figure>\n",
       "</body>\n",
       "</html></span>"
      ],
      "text/plain": [
       "<IPython.core.display.HTML object>"
      ]
     },
     "metadata": {},
     "output_type": "display_data"
    },
    {
     "name": "stdout",
     "output_type": "stream",
     "text": [
      "\n",
      "--------------------------------------------------\n",
      "\n",
      "Recipe: Chinese Fried Rice\n",
      "Visualizing Entities for Chinese Fried Rice\n"
     ]
    },
    {
     "data": {
      "text/html": [
       "<span class=\"tex2jax_ignore\"><!DOCTYPE html>\n",
       "<html lang=\"en\">\n",
       "    <head>\n",
       "        <title>displaCy</title>\n",
       "    </head>\n",
       "\n",
       "    <body style=\"font-size: 16px; font-family: -apple-system, BlinkMacSystemFont, 'Segoe UI', Helvetica, Arial, sans-serif, 'Apple Color Emoji', 'Segoe UI Emoji', 'Segoe UI Symbol'; padding: 4rem 2rem; direction: ltr\">\n",
       "<figure style=\"margin-bottom: 6rem\">\n",
       "<div class=\"entities\" style=\"line-height: 2.5; direction: ltr\">\n",
       "<mark class=\"entity\" style=\"background: #ddd; padding: 0.45em 0.6em; margin: 0 0.25em; line-height: 1; border-radius: 0.35em;\">\n",
       "    For\n",
       "    <span style=\"font-size: 0.8em; font-weight: bold; line-height: 1; border-radius: 0.35em; vertical-align: middle; margin-left: 0.5rem\">INGREDIENT</span>\n",
       "</mark>\n",
       " the fried \n",
       "<mark class=\"entity\" style=\"background: #ddd; padding: 0.45em 0.6em; margin: 0 0.25em; line-height: 1; border-radius: 0.35em;\">\n",
       "    rice\n",
       "    <span style=\"font-size: 0.8em; font-weight: bold; line-height: 1; border-radius: 0.35em; vertical-align: middle; margin-left: 0.5rem\">INGREDIENT</span>\n",
       "</mark>\n",
       ", start with 2 \n",
       "<mark class=\"entity\" style=\"background: #ddd; padding: 0.45em 0.6em; margin: 0 0.25em; line-height: 1; border-radius: 0.35em;\">\n",
       "    cups of cooked rice\n",
       "    <span style=\"font-size: 0.8em; font-weight: bold; line-height: 1; border-radius: 0.35em; vertical-align: middle; margin-left: 0.5rem\">INGREDIENT</span>\n",
       "</mark>\n",
       ", \n",
       "<mark class=\"entity\" style=\"background: #e4e7d2; padding: 0.45em 0.6em; margin: 0 0.25em; line-height: 1; border-radius: 0.35em;\">\n",
       "    0.5 cup\n",
       "    <span style=\"font-size: 0.8em; font-weight: bold; line-height: 1; border-radius: 0.35em; vertical-align: middle; margin-left: 0.5rem\">QUANTITY</span>\n",
       "</mark>\n",
       " \n",
       "<mark class=\"entity\" style=\"background: #ddd; padding: 0.45em 0.6em; margin: 0 0.25em; line-height: 1; border-radius: 0.35em;\">\n",
       "    of\n",
       "    <span style=\"font-size: 0.8em; font-weight: bold; line-height: 1; border-radius: 0.35em; vertical-align: middle; margin-left: 0.5rem\">INGREDIENT</span>\n",
       "</mark>\n",
       " \n",
       "<mark class=\"entity\" style=\"background: #ddd; padding: 0.45em 0.6em; margin: 0 0.25em; line-height: 1; border-radius: 0.35em;\">\n",
       "    peas\n",
       "    <span style=\"font-size: 0.8em; font-weight: bold; line-height: 1; border-radius: 0.35em; vertical-align: middle; margin-left: 0.5rem\">INGREDIENT</span>\n",
       "</mark>\n",
       " and \n",
       "<mark class=\"entity\" style=\"background: #ddd; padding: 0.45em 0.6em; margin: 0 0.25em; line-height: 1; border-radius: 0.35em;\">\n",
       "    carrots\n",
       "    <span style=\"font-size: 0.8em; font-weight: bold; line-height: 1; border-radius: 0.35em; vertical-align: middle; margin-left: 0.5rem\">INGREDIENT</span>\n",
       "</mark>\n",
       ", and \n",
       "<mark class=\"entity\" style=\"background: #e4e7d2; padding: 0.45em 0.6em; margin: 0 0.25em; line-height: 1; border-radius: 0.35em;\">\n",
       "    2 tablespoon\n",
       "    <span style=\"font-size: 0.8em; font-weight: bold; line-height: 1; border-radius: 0.35em; vertical-align: middle; margin-left: 0.5rem\">QUANTITY</span>\n",
       "</mark>\n",
       " \n",
       "<mark class=\"entity\" style=\"background: #ddd; padding: 0.45em 0.6em; margin: 0 0.25em; line-height: 1; border-radius: 0.35em;\">\n",
       "    of\n",
       "    <span style=\"font-size: 0.8em; font-weight: bold; line-height: 1; border-radius: 0.35em; vertical-align: middle; margin-left: 0.5rem\">INGREDIENT</span>\n",
       "</mark>\n",
       " \n",
       "<mark class=\"entity\" style=\"background: #ddd; padding: 0.45em 0.6em; margin: 0 0.25em; line-height: 1; border-radius: 0.35em;\">\n",
       "    soy sauce\n",
       "    <span style=\"font-size: 0.8em; font-weight: bold; line-height: 1; border-radius: 0.35em; vertical-align: middle; margin-left: 0.5rem\">INGREDIENT</span>\n",
       "</mark>\n",
       ". Add \n",
       "<mark class=\"entity\" style=\"background: #e4e7d2; padding: 0.45em 0.6em; margin: 0 0.25em; line-height: 1; border-radius: 0.35em;\">\n",
       "    0.5 cup\n",
       "    <span style=\"font-size: 0.8em; font-weight: bold; line-height: 1; border-radius: 0.35em; vertical-align: middle; margin-left: 0.5rem\">QUANTITY</span>\n",
       "</mark>\n",
       " \n",
       "<mark class=\"entity\" style=\"background: #ddd; padding: 0.45em 0.6em; margin: 0 0.25em; line-height: 1; border-radius: 0.35em;\">\n",
       "    of\n",
       "    <span style=\"font-size: 0.8em; font-weight: bold; line-height: 1; border-radius: 0.35em; vertical-align: middle; margin-left: 0.5rem\">INGREDIENT</span>\n",
       "</mark>\n",
       " \n",
       "<mark class=\"entity\" style=\"background: #ddd; padding: 0.45em 0.6em; margin: 0 0.25em; line-height: 1; border-radius: 0.35em;\">\n",
       "    chopped green\n",
       "    <span style=\"font-size: 0.8em; font-weight: bold; line-height: 1; border-radius: 0.35em; vertical-align: middle; margin-left: 0.5rem\">INGREDIENT</span>\n",
       "</mark>\n",
       " \n",
       "<mark class=\"entity\" style=\"background: #ddd; padding: 0.45em 0.6em; margin: 0 0.25em; line-height: 1; border-radius: 0.35em;\">\n",
       "    onions\n",
       "    <span style=\"font-size: 0.8em; font-weight: bold; line-height: 1; border-radius: 0.35em; vertical-align: middle; margin-left: 0.5rem\">INGREDIENT</span>\n",
       "</mark>\n",
       " and \n",
       "<mark class=\"entity\" style=\"background: #e4e7d2; padding: 0.45em 0.6em; margin: 0 0.25em; line-height: 1; border-radius: 0.35em;\">\n",
       "    1 teaspoon\n",
       "    <span style=\"font-size: 0.8em; font-weight: bold; line-height: 1; border-radius: 0.35em; vertical-align: middle; margin-left: 0.5rem\">QUANTITY</span>\n",
       "</mark>\n",
       " \n",
       "<mark class=\"entity\" style=\"background: #ddd; padding: 0.45em 0.6em; margin: 0 0.25em; line-height: 1; border-radius: 0.35em;\">\n",
       "    of\n",
       "    <span style=\"font-size: 0.8em; font-weight: bold; line-height: 1; border-radius: 0.35em; vertical-align: middle; margin-left: 0.5rem\">INGREDIENT</span>\n",
       "</mark>\n",
       " \n",
       "<mark class=\"entity\" style=\"background: #ddd; padding: 0.45em 0.6em; margin: 0 0.25em; line-height: 1; border-radius: 0.35em;\">\n",
       "    sesame oil\n",
       "    <span style=\"font-size: 0.8em; font-weight: bold; line-height: 1; border-radius: 0.35em; vertical-align: middle; margin-left: 0.5rem\">INGREDIENT</span>\n",
       "</mark>\n",
       ". \n",
       "<mark class=\"entity\" style=\"background: #ddd; padding: 0.45em 0.6em; margin: 0 0.25em; line-height: 1; border-radius: 0.35em;\">\n",
       "    Stir-fry\n",
       "    <span style=\"font-size: 0.8em; font-weight: bold; line-height: 1; border-radius: 0.35em; vertical-align: middle; margin-left: 0.5rem\">INGREDIENT</span>\n",
       "</mark>\n",
       " until \n",
       "<mark class=\"entity\" style=\"background: #ddd; padding: 0.45em 0.6em; margin: 0 0.25em; line-height: 1; border-radius: 0.35em;\">\n",
       "    golden\n",
       "    <span style=\"font-size: 0.8em; font-weight: bold; line-height: 1; border-radius: 0.35em; vertical-align: middle; margin-left: 0.5rem\">INGREDIENT</span>\n",
       "</mark>\n",
       ".</div>\n",
       "</figure>\n",
       "</body>\n",
       "</html></span>"
      ],
      "text/plain": [
       "<IPython.core.display.HTML object>"
      ]
     },
     "metadata": {},
     "output_type": "display_data"
    },
    {
     "name": "stdout",
     "output_type": "stream",
     "text": [
      "\n",
      "--------------------------------------------------\n",
      "\n",
      "Recipe: Japanese Ramen\n",
      "Visualizing Entities for Japanese Ramen\n"
     ]
    },
    {
     "data": {
      "text/html": [
       "<span class=\"tex2jax_ignore\"><!DOCTYPE html>\n",
       "<html lang=\"en\">\n",
       "    <head>\n",
       "        <title>displaCy</title>\n",
       "    </head>\n",
       "\n",
       "    <body style=\"font-size: 16px; font-family: -apple-system, BlinkMacSystemFont, 'Segoe UI', Helvetica, Arial, sans-serif, 'Apple Color Emoji', 'Segoe UI Emoji', 'Segoe UI Symbol'; padding: 4rem 2rem; direction: ltr\">\n",
       "<figure style=\"margin-bottom: 6rem\">\n",
       "<div class=\"entities\" style=\"line-height: 2.5; direction: ltr\">\n",
       "<mark class=\"entity\" style=\"background: #ddd; padding: 0.45em 0.6em; margin: 0 0.25em; line-height: 1; border-radius: 0.35em;\">\n",
       "    For\n",
       "    <span style=\"font-size: 0.8em; font-weight: bold; line-height: 1; border-radius: 0.35em; vertical-align: middle; margin-left: 0.5rem\">INGREDIENT</span>\n",
       "</mark>\n",
       " the \n",
       "<mark class=\"entity\" style=\"background: #ddd; padding: 0.45em 0.6em; margin: 0 0.25em; line-height: 1; border-radius: 0.35em;\">\n",
       "    ramen\n",
       "    <span style=\"font-size: 0.8em; font-weight: bold; line-height: 1; border-radius: 0.35em; vertical-align: middle; margin-left: 0.5rem\">INGREDIENT</span>\n",
       "</mark>\n",
       ", heat \n",
       "<mark class=\"entity\" style=\"background: #e4e7d2; padding: 0.45em 0.6em; margin: 0 0.25em; line-height: 1; border-radius: 0.35em;\">\n",
       "    1 liter\n",
       "    <span style=\"font-size: 0.8em; font-weight: bold; line-height: 1; border-radius: 0.35em; vertical-align: middle; margin-left: 0.5rem\">QUANTITY</span>\n",
       "</mark>\n",
       " \n",
       "<mark class=\"entity\" style=\"background: #ddd; padding: 0.45em 0.6em; margin: 0 0.25em; line-height: 1; border-radius: 0.35em;\">\n",
       "    of\n",
       "    <span style=\"font-size: 0.8em; font-weight: bold; line-height: 1; border-radius: 0.35em; vertical-align: middle; margin-left: 0.5rem\">INGREDIENT</span>\n",
       "</mark>\n",
       " \n",
       "<mark class=\"entity\" style=\"background: #ddd; padding: 0.45em 0.6em; margin: 0 0.25em; line-height: 1; border-radius: 0.35em;\">\n",
       "    chicken broth\n",
       "    <span style=\"font-size: 0.8em; font-weight: bold; line-height: 1; border-radius: 0.35em; vertical-align: middle; margin-left: 0.5rem\">INGREDIENT</span>\n",
       "</mark>\n",
       " and add 2 \n",
       "<mark class=\"entity\" style=\"background: #ddd; padding: 0.45em 0.6em; margin: 0 0.25em; line-height: 1; border-radius: 0.35em;\">\n",
       "    tablespoons\n",
       "    <span style=\"font-size: 0.8em; font-weight: bold; line-height: 1; border-radius: 0.35em; vertical-align: middle; margin-left: 0.5rem\">INGREDIENT</span>\n",
       "</mark>\n",
       " \n",
       "<mark class=\"entity\" style=\"background: #ddd; padding: 0.45em 0.6em; margin: 0 0.25em; line-height: 1; border-radius: 0.35em;\">\n",
       "    of\n",
       "    <span style=\"font-size: 0.8em; font-weight: bold; line-height: 1; border-radius: 0.35em; vertical-align: middle; margin-left: 0.5rem\">INGREDIENT</span>\n",
       "</mark>\n",
       " \n",
       "<mark class=\"entity\" style=\"background: #ddd; padding: 0.45em 0.6em; margin: 0 0.25em; line-height: 1; border-radius: 0.35em;\">\n",
       "    soy sauce\n",
       "    <span style=\"font-size: 0.8em; font-weight: bold; line-height: 1; border-radius: 0.35em; vertical-align: middle; margin-left: 0.5rem\">INGREDIENT</span>\n",
       "</mark>\n",
       ". Add 3 ounces \n",
       "<mark class=\"entity\" style=\"background: #ddd; padding: 0.45em 0.6em; margin: 0 0.25em; line-height: 1; border-radius: 0.35em;\">\n",
       "    of\n",
       "    <span style=\"font-size: 0.8em; font-weight: bold; line-height: 1; border-radius: 0.35em; vertical-align: middle; margin-left: 0.5rem\">INGREDIENT</span>\n",
       "</mark>\n",
       " \n",
       "<mark class=\"entity\" style=\"background: #ddd; padding: 0.45em 0.6em; margin: 0 0.25em; line-height: 1; border-radius: 0.35em;\">\n",
       "    ramen noodles\n",
       "    <span style=\"font-size: 0.8em; font-weight: bold; line-height: 1; border-radius: 0.35em; vertical-align: middle; margin-left: 0.5rem\">INGREDIENT</span>\n",
       "</mark>\n",
       " and \n",
       "<mark class=\"entity\" style=\"background: #e4e7d2; padding: 0.45em 0.6em; margin: 0 0.25em; line-height: 1; border-radius: 0.35em;\">\n",
       "    0.5 teaspoon\n",
       "    <span style=\"font-size: 0.8em; font-weight: bold; line-height: 1; border-radius: 0.35em; vertical-align: middle; margin-left: 0.5rem\">QUANTITY</span>\n",
       "</mark>\n",
       " \n",
       "<mark class=\"entity\" style=\"background: #ddd; padding: 0.45em 0.6em; margin: 0 0.25em; line-height: 1; border-radius: 0.35em;\">\n",
       "    of\n",
       "    <span style=\"font-size: 0.8em; font-weight: bold; line-height: 1; border-radius: 0.35em; vertical-align: middle; margin-left: 0.5rem\">INGREDIENT</span>\n",
       "</mark>\n",
       " \n",
       "<mark class=\"entity\" style=\"background: #ddd; padding: 0.45em 0.6em; margin: 0 0.25em; line-height: 1; border-radius: 0.35em;\">\n",
       "    miso paste\n",
       "    <span style=\"font-size: 0.8em; font-weight: bold; line-height: 1; border-radius: 0.35em; vertical-align: middle; margin-left: 0.5rem\">INGREDIENT</span>\n",
       "</mark>\n",
       ". Simmer \n",
       "<mark class=\"entity\" style=\"background: #ddd; padding: 0.45em 0.6em; margin: 0 0.25em; line-height: 1; border-radius: 0.35em;\">\n",
       "    for\n",
       "    <span style=\"font-size: 0.8em; font-weight: bold; line-height: 1; border-radius: 0.35em; vertical-align: middle; margin-left: 0.5rem\">INGREDIENT</span>\n",
       "</mark>\n",
       " 10 \n",
       "<mark class=\"entity\" style=\"background: #ddd; padding: 0.45em 0.6em; margin: 0 0.25em; line-height: 1; border-radius: 0.35em;\">\n",
       "    minutes\n",
       "    <span style=\"font-size: 0.8em; font-weight: bold; line-height: 1; border-radius: 0.35em; vertical-align: middle; margin-left: 0.5rem\">INGREDIENT</span>\n",
       "</mark>\n",
       ", \n",
       "<mark class=\"entity\" style=\"background: #ddd; padding: 0.45em 0.6em; margin: 0 0.25em; line-height: 1; border-radius: 0.35em;\">\n",
       "    then\n",
       "    <span style=\"font-size: 0.8em; font-weight: bold; line-height: 1; border-radius: 0.35em; vertical-align: middle; margin-left: 0.5rem\">INGREDIENT</span>\n",
       "</mark>\n",
       " garnish with \n",
       "<mark class=\"entity\" style=\"background: #e4e7d2; padding: 0.45em 0.6em; margin: 0 0.25em; line-height: 1; border-radius: 0.35em;\">\n",
       "    0.25 cup\n",
       "    <span style=\"font-size: 0.8em; font-weight: bold; line-height: 1; border-radius: 0.35em; vertical-align: middle; margin-left: 0.5rem\">QUANTITY</span>\n",
       "</mark>\n",
       " \n",
       "<mark class=\"entity\" style=\"background: #ddd; padding: 0.45em 0.6em; margin: 0 0.25em; line-height: 1; border-radius: 0.35em;\">\n",
       "    of\n",
       "    <span style=\"font-size: 0.8em; font-weight: bold; line-height: 1; border-radius: 0.35em; vertical-align: middle; margin-left: 0.5rem\">INGREDIENT</span>\n",
       "</mark>\n",
       " \n",
       "<mark class=\"entity\" style=\"background: #ddd; padding: 0.45em 0.6em; margin: 0 0.25em; line-height: 1; border-radius: 0.35em;\">\n",
       "    chopped green\n",
       "    <span style=\"font-size: 0.8em; font-weight: bold; line-height: 1; border-radius: 0.35em; vertical-align: middle; margin-left: 0.5rem\">INGREDIENT</span>\n",
       "</mark>\n",
       " \n",
       "<mark class=\"entity\" style=\"background: #ddd; padding: 0.45em 0.6em; margin: 0 0.25em; line-height: 1; border-radius: 0.35em;\">\n",
       "    onions\n",
       "    <span style=\"font-size: 0.8em; font-weight: bold; line-height: 1; border-radius: 0.35em; vertical-align: middle; margin-left: 0.5rem\">INGREDIENT</span>\n",
       "</mark>\n",
       ".</div>\n",
       "</figure>\n",
       "</body>\n",
       "</html></span>"
      ],
      "text/plain": [
       "<IPython.core.display.HTML object>"
      ]
     },
     "metadata": {},
     "output_type": "display_data"
    },
    {
     "name": "stdout",
     "output_type": "stream",
     "text": [
      "\n",
      "--------------------------------------------------\n",
      "\n",
      "Recipe: Indian Chole Bhature\n",
      "Visualizing Entities for Indian Chole Bhature\n"
     ]
    },
    {
     "data": {
      "text/html": [
       "<span class=\"tex2jax_ignore\"><!DOCTYPE html>\n",
       "<html lang=\"en\">\n",
       "    <head>\n",
       "        <title>displaCy</title>\n",
       "    </head>\n",
       "\n",
       "    <body style=\"font-size: 16px; font-family: -apple-system, BlinkMacSystemFont, 'Segoe UI', Helvetica, Arial, sans-serif, 'Apple Color Emoji', 'Segoe UI Emoji', 'Segoe UI Symbol'; padding: 4rem 2rem; direction: ltr\">\n",
       "<figure style=\"margin-bottom: 6rem\">\n",
       "<div class=\"entities\" style=\"line-height: 2.5; direction: ltr\">\n",
       "<mark class=\"entity\" style=\"background: #ddd; padding: 0.45em 0.6em; margin: 0 0.25em; line-height: 1; border-radius: 0.35em;\">\n",
       "    For\n",
       "    <span style=\"font-size: 0.8em; font-weight: bold; line-height: 1; border-radius: 0.35em; vertical-align: middle; margin-left: 0.5rem\">INGREDIENT</span>\n",
       "</mark>\n",
       " the \n",
       "<mark class=\"entity\" style=\"background: #ddd; padding: 0.45em 0.6em; margin: 0 0.25em; line-height: 1; border-radius: 0.35em;\">\n",
       "    chole\n",
       "    <span style=\"font-size: 0.8em; font-weight: bold; line-height: 1; border-radius: 0.35em; vertical-align: middle; margin-left: 0.5rem\">INGREDIENT</span>\n",
       "</mark>\n",
       ", cook \n",
       "<mark class=\"entity\" style=\"background: #e4e7d2; padding: 0.45em 0.6em; margin: 0 0.25em; line-height: 1; border-radius: 0.35em;\">\n",
       "    1 cup\n",
       "    <span style=\"font-size: 0.8em; font-weight: bold; line-height: 1; border-radius: 0.35em; vertical-align: middle; margin-left: 0.5rem\">QUANTITY</span>\n",
       "</mark>\n",
       " \n",
       "<mark class=\"entity\" style=\"background: #ddd; padding: 0.45em 0.6em; margin: 0 0.25em; line-height: 1; border-radius: 0.35em;\">\n",
       "    of\n",
       "    <span style=\"font-size: 0.8em; font-weight: bold; line-height: 1; border-radius: 0.35em; vertical-align: middle; margin-left: 0.5rem\">INGREDIENT</span>\n",
       "</mark>\n",
       " \n",
       "<mark class=\"entity\" style=\"background: #ddd; padding: 0.45em 0.6em; margin: 0 0.25em; line-height: 1; border-radius: 0.35em;\">\n",
       "    chickpeas\n",
       "    <span style=\"font-size: 0.8em; font-weight: bold; line-height: 1; border-radius: 0.35em; vertical-align: middle; margin-left: 0.5rem\">INGREDIENT</span>\n",
       "</mark>\n",
       " and \n",
       "<mark class=\"entity\" style=\"background: #ddd; padding: 0.45em 0.6em; margin: 0 0.25em; line-height: 1; border-radius: 0.35em;\">\n",
       "    mix\n",
       "    <span style=\"font-size: 0.8em; font-weight: bold; line-height: 1; border-radius: 0.35em; vertical-align: middle; margin-left: 0.5rem\">INGREDIENT</span>\n",
       "</mark>\n",
       " with \n",
       "<mark class=\"entity\" style=\"background: #e4e7d2; padding: 0.45em 0.6em; margin: 0 0.25em; line-height: 1; border-radius: 0.35em;\">\n",
       "    2 tablespoon\n",
       "    <span style=\"font-size: 0.8em; font-weight: bold; line-height: 1; border-radius: 0.35em; vertical-align: middle; margin-left: 0.5rem\">QUANTITY</span>\n",
       "</mark>\n",
       " \n",
       "<mark class=\"entity\" style=\"background: #ddd; padding: 0.45em 0.6em; margin: 0 0.25em; line-height: 1; border-radius: 0.35em;\">\n",
       "    of\n",
       "    <span style=\"font-size: 0.8em; font-weight: bold; line-height: 1; border-radius: 0.35em; vertical-align: middle; margin-left: 0.5rem\">INGREDIENT</span>\n",
       "</mark>\n",
       " \n",
       "<mark class=\"entity\" style=\"background: #ddd; padding: 0.45em 0.6em; margin: 0 0.25em; line-height: 1; border-radius: 0.35em;\">\n",
       "    cumin powder\n",
       "    <span style=\"font-size: 0.8em; font-weight: bold; line-height: 1; border-radius: 0.35em; vertical-align: middle; margin-left: 0.5rem\">INGREDIENT</span>\n",
       "</mark>\n",
       " and \n",
       "<mark class=\"entity\" style=\"background: #e4e7d2; padding: 0.45em 0.6em; margin: 0 0.25em; line-height: 1; border-radius: 0.35em;\">\n",
       "    1 teaspoon\n",
       "    <span style=\"font-size: 0.8em; font-weight: bold; line-height: 1; border-radius: 0.35em; vertical-align: middle; margin-left: 0.5rem\">QUANTITY</span>\n",
       "</mark>\n",
       " \n",
       "<mark class=\"entity\" style=\"background: #ddd; padding: 0.45em 0.6em; margin: 0 0.25em; line-height: 1; border-radius: 0.35em;\">\n",
       "    of\n",
       "    <span style=\"font-size: 0.8em; font-weight: bold; line-height: 1; border-radius: 0.35em; vertical-align: middle; margin-left: 0.5rem\">INGREDIENT</span>\n",
       "</mark>\n",
       " \n",
       "<mark class=\"entity\" style=\"background: #ddd; padding: 0.45em 0.6em; margin: 0 0.25em; line-height: 1; border-radius: 0.35em;\">\n",
       "    coriander powder\n",
       "    <span style=\"font-size: 0.8em; font-weight: bold; line-height: 1; border-radius: 0.35em; vertical-align: middle; margin-left: 0.5rem\">INGREDIENT</span>\n",
       "</mark>\n",
       ". \n",
       "<mark class=\"entity\" style=\"background: #ddd; padding: 0.45em 0.6em; margin: 0 0.25em; line-height: 1; border-radius: 0.35em;\">\n",
       "    Serve with\n",
       "    <span style=\"font-size: 0.8em; font-weight: bold; line-height: 1; border-radius: 0.35em; vertical-align: middle; margin-left: 0.5rem\">INGREDIENT</span>\n",
       "</mark>\n",
       " \n",
       "<mark class=\"entity\" style=\"background: #e4e7d2; padding: 0.45em 0.6em; margin: 0 0.25em; line-height: 1; border-radius: 0.35em;\">\n",
       "    1 teaspoon\n",
       "    <span style=\"font-size: 0.8em; font-weight: bold; line-height: 1; border-radius: 0.35em; vertical-align: middle; margin-left: 0.5rem\">QUANTITY</span>\n",
       "</mark>\n",
       " \n",
       "<mark class=\"entity\" style=\"background: #ddd; padding: 0.45em 0.6em; margin: 0 0.25em; line-height: 1; border-radius: 0.35em;\">\n",
       "    of\n",
       "    <span style=\"font-size: 0.8em; font-weight: bold; line-height: 1; border-radius: 0.35em; vertical-align: middle; margin-left: 0.5rem\">INGREDIENT</span>\n",
       "</mark>\n",
       " \n",
       "<mark class=\"entity\" style=\"background: #ddd; padding: 0.45em 0.6em; margin: 0 0.25em; line-height: 1; border-radius: 0.35em;\">\n",
       "    garam masala\n",
       "    <span style=\"font-size: 0.8em; font-weight: bold; line-height: 1; border-radius: 0.35em; vertical-align: middle; margin-left: 0.5rem\">INGREDIENT</span>\n",
       "</mark>\n",
       " and \n",
       "<mark class=\"entity\" style=\"background: #e4e7d2; padding: 0.45em 0.6em; margin: 0 0.25em; line-height: 1; border-radius: 0.35em;\">\n",
       "    0.5 cup\n",
       "    <span style=\"font-size: 0.8em; font-weight: bold; line-height: 1; border-radius: 0.35em; vertical-align: middle; margin-left: 0.5rem\">QUANTITY</span>\n",
       "</mark>\n",
       " \n",
       "<mark class=\"entity\" style=\"background: #ddd; padding: 0.45em 0.6em; margin: 0 0.25em; line-height: 1; border-radius: 0.35em;\">\n",
       "    of\n",
       "    <span style=\"font-size: 0.8em; font-weight: bold; line-height: 1; border-radius: 0.35em; vertical-align: middle; margin-left: 0.5rem\">INGREDIENT</span>\n",
       "</mark>\n",
       " chopped \n",
       "<mark class=\"entity\" style=\"background: #ddd; padding: 0.45em 0.6em; margin: 0 0.25em; line-height: 1; border-radius: 0.35em;\">\n",
       "    cilantro\n",
       "    <span style=\"font-size: 0.8em; font-weight: bold; line-height: 1; border-radius: 0.35em; vertical-align: middle; margin-left: 0.5rem\">INGREDIENT</span>\n",
       "</mark>\n",
       ". \n",
       "<mark class=\"entity\" style=\"background: #ddd; padding: 0.45em 0.6em; margin: 0 0.25em; line-height: 1; border-radius: 0.35em;\">\n",
       "    Fry\n",
       "    <span style=\"font-size: 0.8em; font-weight: bold; line-height: 1; border-radius: 0.35em; vertical-align: middle; margin-left: 0.5rem\">INGREDIENT</span>\n",
       "</mark>\n",
       " the bhature \n",
       "<mark class=\"entity\" style=\"background: #ddd; padding: 0.45em 0.6em; margin: 0 0.25em; line-height: 1; border-radius: 0.35em;\">\n",
       "    in\n",
       "    <span style=\"font-size: 0.8em; font-weight: bold; line-height: 1; border-radius: 0.35em; vertical-align: middle; margin-left: 0.5rem\">INGREDIENT</span>\n",
       "</mark>\n",
       " \n",
       "<mark class=\"entity\" style=\"background: #e4e7d2; padding: 0.45em 0.6em; margin: 0 0.25em; line-height: 1; border-radius: 0.35em;\">\n",
       "    0.5 cup\n",
       "    <span style=\"font-size: 0.8em; font-weight: bold; line-height: 1; border-radius: 0.35em; vertical-align: middle; margin-left: 0.5rem\">QUANTITY</span>\n",
       "</mark>\n",
       " \n",
       "<mark class=\"entity\" style=\"background: #ddd; padding: 0.45em 0.6em; margin: 0 0.25em; line-height: 1; border-radius: 0.35em;\">\n",
       "    of oil\n",
       "    <span style=\"font-size: 0.8em; font-weight: bold; line-height: 1; border-radius: 0.35em; vertical-align: middle; margin-left: 0.5rem\">INGREDIENT</span>\n",
       "</mark>\n",
       " until \n",
       "<mark class=\"entity\" style=\"background: #ddd; padding: 0.45em 0.6em; margin: 0 0.25em; line-height: 1; border-radius: 0.35em;\">\n",
       "    golden brown\n",
       "    <span style=\"font-size: 0.8em; font-weight: bold; line-height: 1; border-radius: 0.35em; vertical-align: middle; margin-left: 0.5rem\">INGREDIENT</span>\n",
       "</mark>\n",
       ".</div>\n",
       "</figure>\n",
       "</body>\n",
       "</html></span>"
      ],
      "text/plain": [
       "<IPython.core.display.HTML object>"
      ]
     },
     "metadata": {},
     "output_type": "display_data"
    },
    {
     "name": "stdout",
     "output_type": "stream",
     "text": [
      "\n",
      "--------------------------------------------------\n",
      "\n"
     ]
    }
   ],
   "source": [
    "import pandas as pd\n",
    "import spacy\n",
    "from spacy import displacy\n",
    "\n",
    "# Load your SpaCy model\n",
    "nlp = spacy.load(\"/content/drive/MyDrive/ner_model\")\n",
    "\n",
    "# List of recipes and their ingredients (with quantities) in the format of raw text\n",
    "recipes = [\n",
    "    {\"recipe_name\": \"Mexican Tacos\", \"recipe_text\": \"For the tacos, you will need 1 cup of salsa, 2 tablespoon of chopped cilantro, and 1 teaspoon of chili powder. Serve the tacos with 1 pound of ground beef, and garnish with 0.5 cup of shredded cheese.\"},\n",
    "    {\"recipe_name\": \"Italian Margherita Pizza\", \"recipe_text\": \"For the pizza, you'll need 200 gram of mozzarella cheese, 1 cup of tomato sauce, and 2 teaspoon of dried oregano. Use 1 tablespoon of olive oil to coat the dough before baking.\"},\n",
    "    {\"recipe_name\": \"American Pancakes\", \"recipe_text\": \"To make pancakes, combine 1 cup of flour, 2 tablespoon of sugar, and 1 teaspoon of vanilla extract. Add 0.5 cup of milk and 0.5 cup of melted butter to the batter, then cook on a hot griddle.\"},\n",
    "    {\"recipe_name\": \"Chinese Fried Rice\", \"recipe_text\": \"For the fried rice, start with 2 cups of cooked rice, 0.5 cup of peas and carrots, and 2 tablespoon of soy sauce. Add 0.5 cup of chopped green onions and 1 teaspoon of sesame oil. Stir-fry until golden.\"},\n",
    "    {\"recipe_name\": \"Japanese Ramen\", \"recipe_text\": \"For the ramen, heat 1 liter of chicken broth and add 2 tablespoons of soy sauce. Add 3 ounces of ramen noodles and 0.5 teaspoon of miso paste. Simmer for 10 minutes, then garnish with 0.25 cup of chopped green onions.\"},\n",
    "    {\"recipe_name\": \"Indian Chole Bhature\", \"recipe_text\": \"For the chole, cook 1 cup of chickpeas and mix with 2 tablespoon of cumin powder and 1 teaspoon of coriander powder. Serve with 1 teaspoon of garam masala and 0.5 cup of chopped cilantro. Fry the bhature in 0.5 cup of oil until golden brown.\"}\n",
    "]\n",
    "\n",
    "# Convert recipes into a DataFrame\n",
    "df_recipes = pd.DataFrame(recipes)\n",
    "\n",
    "# Assuming you have a trained NER model (nlp), we can iterate over the recipes and display using displacy\n",
    "for index, row in df_recipes.iterrows():\n",
    "    recipe_text = row['recipe_text']\n",
    "    recipe_name = row['recipe_name']\n",
    "\n",
    "    # Process the recipe text through the model\n",
    "    doc = nlp(recipe_text)\n",
    "\n",
    "    # Print the recipe name\n",
    "    print(f\"Recipe: {recipe_name}\")\n",
    "\n",
    "    # Visualize the identified entities using displacy\n",
    "    print(f\"Visualizing Entities for {recipe_name}\")\n",
    "    displacy.render(doc, style='ent', page=True)  # page=True will open it in the browser or a Jupyter notebook\n",
    "\n",
    "    # Add a line for separation between recipes\n",
    "    print(\"\\n\" + \"-\"*50 + \"\\n\")\n"
   ]
  },
  {
   "cell_type": "code",
   "execution_count": null,
   "id": "c5f0feec-5b60-41b1-a347-e1a314638667",
   "metadata": {
    "id": "c5f0feec-5b60-41b1-a347-e1a314638667"
   },
   "outputs": [],
   "source": []
  }
 ],
 "metadata": {
  "accelerator": "GPU",
  "colab": {
   "gpuType": "T4",
   "provenance": []
  },
  "kernelspec": {
   "display_name": "myenv",
   "language": "python",
   "name": "python3"
  },
  "language_info": {
   "codemirror_mode": {
    "name": "ipython",
    "version": 3
   },
   "file_extension": ".py",
   "mimetype": "text/x-python",
   "name": "python",
   "nbconvert_exporter": "python",
   "pygments_lexer": "ipython3",
   "version": "3.13.1"
  }
 },
 "nbformat": 4,
 "nbformat_minor": 5
}
